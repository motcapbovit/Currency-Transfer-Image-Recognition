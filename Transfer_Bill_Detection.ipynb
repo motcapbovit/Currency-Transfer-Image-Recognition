{
  "cells": [
    {
      "cell_type": "markdown",
      "metadata": {
        "id": "aIST3ZHXLx9O"
      },
      "source": [
        "# **DETECT & CALCULATE MONEY IN BILL SCREENSHOT**\n",
        "\n",
        "---\n",
        "\n"
      ]
    },
    {
      "cell_type": "markdown",
      "metadata": {
        "id": "7tWiJueqL4yG"
      },
      "source": [
        "## **INSTALL PACKAGE**"
      ]
    },
    {
      "cell_type": "code",
      "execution_count": null,
      "metadata": {
        "colab": {
          "base_uri": "https://localhost:8080/"
        },
        "id": "Utxk_JtqJu6Q",
        "outputId": "8da693d5-a93a-457e-a101-7b21639cea0c"
      },
      "outputs": [
        {
          "name": "stdout",
          "output_type": "stream",
          "text": [
            "Collecting easyocr\n",
            "  Downloading easyocr-1.7.1-py3-none-any.whl (2.9 MB)\n",
            "\u001b[2K     \u001b[90m━━━━━━━━━━━━━━━━━━━━━━━━━━━━━━━━━━━━━━━━\u001b[0m \u001b[32m2.9/2.9 MB\u001b[0m \u001b[31m12.7 MB/s\u001b[0m eta \u001b[36m0:00:00\u001b[0m\n",
            "\u001b[?25hRequirement already satisfied: torch in /usr/local/lib/python3.10/dist-packages (from easyocr) (2.1.0+cu121)\n",
            "Requirement already satisfied: torchvision>=0.5 in /usr/local/lib/python3.10/dist-packages (from easyocr) (0.16.0+cu121)\n",
            "Requirement already satisfied: opencv-python-headless in /usr/local/lib/python3.10/dist-packages (from easyocr) (4.9.0.80)\n",
            "Requirement already satisfied: scipy in /usr/local/lib/python3.10/dist-packages (from easyocr) (1.11.4)\n",
            "Requirement already satisfied: numpy in /usr/local/lib/python3.10/dist-packages (from easyocr) (1.25.2)\n",
            "Requirement already satisfied: Pillow in /usr/local/lib/python3.10/dist-packages (from easyocr) (9.4.0)\n",
            "Requirement already satisfied: scikit-image in /usr/local/lib/python3.10/dist-packages (from easyocr) (0.19.3)\n",
            "Collecting python-bidi (from easyocr)\n",
            "  Downloading python_bidi-0.4.2-py2.py3-none-any.whl (30 kB)\n",
            "Requirement already satisfied: PyYAML in /usr/local/lib/python3.10/dist-packages (from easyocr) (6.0.1)\n",
            "Requirement already satisfied: Shapely in /usr/local/lib/python3.10/dist-packages (from easyocr) (2.0.3)\n",
            "Collecting pyclipper (from easyocr)\n",
            "  Downloading pyclipper-1.3.0.post5-cp310-cp310-manylinux_2_12_x86_64.manylinux2010_x86_64.whl (908 kB)\n",
            "\u001b[2K     \u001b[90m━━━━━━━━━━━━━━━━━━━━━━━━━━━━━━━━━━━━━━━━\u001b[0m \u001b[32m908.3/908.3 kB\u001b[0m \u001b[31m51.2 MB/s\u001b[0m eta \u001b[36m0:00:00\u001b[0m\n",
            "\u001b[?25hCollecting ninja (from easyocr)\n",
            "  Downloading ninja-1.11.1.1-py2.py3-none-manylinux1_x86_64.manylinux_2_5_x86_64.whl (307 kB)\n",
            "\u001b[2K     \u001b[90m━━━━━━━━━━━━━━━━━━━━━━━━━━━━━━━━━━━━━━━━\u001b[0m \u001b[32m307.2/307.2 kB\u001b[0m \u001b[31m24.0 MB/s\u001b[0m eta \u001b[36m0:00:00\u001b[0m\n",
            "\u001b[?25hRequirement already satisfied: requests in /usr/local/lib/python3.10/dist-packages (from torchvision>=0.5->easyocr) (2.31.0)\n",
            "Requirement already satisfied: filelock in /usr/local/lib/python3.10/dist-packages (from torch->easyocr) (3.13.1)\n",
            "Requirement already satisfied: typing-extensions in /usr/local/lib/python3.10/dist-packages (from torch->easyocr) (4.10.0)\n",
            "Requirement already satisfied: sympy in /usr/local/lib/python3.10/dist-packages (from torch->easyocr) (1.12)\n",
            "Requirement already satisfied: networkx in /usr/local/lib/python3.10/dist-packages (from torch->easyocr) (3.2.1)\n",
            "Requirement already satisfied: jinja2 in /usr/local/lib/python3.10/dist-packages (from torch->easyocr) (3.1.3)\n",
            "Requirement already satisfied: fsspec in /usr/local/lib/python3.10/dist-packages (from torch->easyocr) (2023.6.0)\n",
            "Requirement already satisfied: triton==2.1.0 in /usr/local/lib/python3.10/dist-packages (from torch->easyocr) (2.1.0)\n",
            "Requirement already satisfied: six in /usr/local/lib/python3.10/dist-packages (from python-bidi->easyocr) (1.16.0)\n",
            "Requirement already satisfied: imageio>=2.4.1 in /usr/local/lib/python3.10/dist-packages (from scikit-image->easyocr) (2.31.6)\n",
            "Requirement already satisfied: tifffile>=2019.7.26 in /usr/local/lib/python3.10/dist-packages (from scikit-image->easyocr) (2024.2.12)\n",
            "Requirement already satisfied: PyWavelets>=1.1.1 in /usr/local/lib/python3.10/dist-packages (from scikit-image->easyocr) (1.5.0)\n",
            "Requirement already satisfied: packaging>=20.0 in /usr/local/lib/python3.10/dist-packages (from scikit-image->easyocr) (23.2)\n",
            "Requirement already satisfied: MarkupSafe>=2.0 in /usr/local/lib/python3.10/dist-packages (from jinja2->torch->easyocr) (2.1.5)\n",
            "Requirement already satisfied: charset-normalizer<4,>=2 in /usr/local/lib/python3.10/dist-packages (from requests->torchvision>=0.5->easyocr) (3.3.2)\n",
            "Requirement already satisfied: idna<4,>=2.5 in /usr/local/lib/python3.10/dist-packages (from requests->torchvision>=0.5->easyocr) (3.6)\n",
            "Requirement already satisfied: urllib3<3,>=1.21.1 in /usr/local/lib/python3.10/dist-packages (from requests->torchvision>=0.5->easyocr) (2.0.7)\n",
            "Requirement already satisfied: certifi>=2017.4.17 in /usr/local/lib/python3.10/dist-packages (from requests->torchvision>=0.5->easyocr) (2024.2.2)\n",
            "Requirement already satisfied: mpmath>=0.19 in /usr/local/lib/python3.10/dist-packages (from sympy->torch->easyocr) (1.3.0)\n",
            "Installing collected packages: pyclipper, ninja, python-bidi, easyocr\n",
            "Successfully installed easyocr-1.7.1 ninja-1.11.1.1 pyclipper-1.3.0.post5 python-bidi-0.4.2\n"
          ]
        }
      ],
      "source": [
        "!pip install easyocr"
      ]
    },
    {
      "cell_type": "code",
      "execution_count": null,
      "metadata": {
        "colab": {
          "base_uri": "https://localhost:8080/"
        },
        "id": "0l41rAaoMp4t",
        "outputId": "d44afd02-8555-40ee-97df-6d0785342802"
      },
      "outputs": [
        {
          "name": "stdout",
          "output_type": "stream",
          "text": [
            "Collecting ultralytics\n",
            "  Downloading ultralytics-8.1.24-py3-none-any.whl (719 kB)\n",
            "\u001b[2K     \u001b[90m━━━━━━━━━━━━━━━━━━━━━━━━━━━━━━━━━━━━━━━━\u001b[0m \u001b[32m719.5/719.5 kB\u001b[0m \u001b[31m3.9 MB/s\u001b[0m eta \u001b[36m0:00:00\u001b[0m\n",
            "\u001b[?25hRequirement already satisfied: matplotlib>=3.3.0 in /usr/local/lib/python3.10/dist-packages (from ultralytics) (3.7.1)\n",
            "Requirement already satisfied: opencv-python>=4.6.0 in /usr/local/lib/python3.10/dist-packages (from ultralytics) (4.8.0.76)\n",
            "Requirement already satisfied: pillow>=7.1.2 in /usr/local/lib/python3.10/dist-packages (from ultralytics) (9.4.0)\n",
            "Requirement already satisfied: pyyaml>=5.3.1 in /usr/local/lib/python3.10/dist-packages (from ultralytics) (6.0.1)\n",
            "Requirement already satisfied: requests>=2.23.0 in /usr/local/lib/python3.10/dist-packages (from ultralytics) (2.31.0)\n",
            "Requirement already satisfied: scipy>=1.4.1 in /usr/local/lib/python3.10/dist-packages (from ultralytics) (1.11.4)\n",
            "Requirement already satisfied: torch>=1.8.0 in /usr/local/lib/python3.10/dist-packages (from ultralytics) (2.1.0+cu121)\n",
            "Requirement already satisfied: torchvision>=0.9.0 in /usr/local/lib/python3.10/dist-packages (from ultralytics) (0.16.0+cu121)\n",
            "Requirement already satisfied: tqdm>=4.64.0 in /usr/local/lib/python3.10/dist-packages (from ultralytics) (4.66.2)\n",
            "Requirement already satisfied: psutil in /usr/local/lib/python3.10/dist-packages (from ultralytics) (5.9.5)\n",
            "Requirement already satisfied: py-cpuinfo in /usr/local/lib/python3.10/dist-packages (from ultralytics) (9.0.0)\n",
            "Collecting thop>=0.1.1 (from ultralytics)\n",
            "  Downloading thop-0.1.1.post2209072238-py3-none-any.whl (15 kB)\n",
            "Requirement already satisfied: pandas>=1.1.4 in /usr/local/lib/python3.10/dist-packages (from ultralytics) (1.5.3)\n",
            "Requirement already satisfied: seaborn>=0.11.0 in /usr/local/lib/python3.10/dist-packages (from ultralytics) (0.13.1)\n",
            "Requirement already satisfied: contourpy>=1.0.1 in /usr/local/lib/python3.10/dist-packages (from matplotlib>=3.3.0->ultralytics) (1.2.0)\n",
            "Requirement already satisfied: cycler>=0.10 in /usr/local/lib/python3.10/dist-packages (from matplotlib>=3.3.0->ultralytics) (0.12.1)\n",
            "Requirement already satisfied: fonttools>=4.22.0 in /usr/local/lib/python3.10/dist-packages (from matplotlib>=3.3.0->ultralytics) (4.49.0)\n",
            "Requirement already satisfied: kiwisolver>=1.0.1 in /usr/local/lib/python3.10/dist-packages (from matplotlib>=3.3.0->ultralytics) (1.4.5)\n",
            "Requirement already satisfied: numpy>=1.20 in /usr/local/lib/python3.10/dist-packages (from matplotlib>=3.3.0->ultralytics) (1.25.2)\n",
            "Requirement already satisfied: packaging>=20.0 in /usr/local/lib/python3.10/dist-packages (from matplotlib>=3.3.0->ultralytics) (23.2)\n",
            "Requirement already satisfied: pyparsing>=2.3.1 in /usr/local/lib/python3.10/dist-packages (from matplotlib>=3.3.0->ultralytics) (3.1.1)\n",
            "Requirement already satisfied: python-dateutil>=2.7 in /usr/local/lib/python3.10/dist-packages (from matplotlib>=3.3.0->ultralytics) (2.8.2)\n",
            "Requirement already satisfied: pytz>=2020.1 in /usr/local/lib/python3.10/dist-packages (from pandas>=1.1.4->ultralytics) (2023.4)\n",
            "Requirement already satisfied: charset-normalizer<4,>=2 in /usr/local/lib/python3.10/dist-packages (from requests>=2.23.0->ultralytics) (3.3.2)\n",
            "Requirement already satisfied: idna<4,>=2.5 in /usr/local/lib/python3.10/dist-packages (from requests>=2.23.0->ultralytics) (3.6)\n",
            "Requirement already satisfied: urllib3<3,>=1.21.1 in /usr/local/lib/python3.10/dist-packages (from requests>=2.23.0->ultralytics) (2.0.7)\n",
            "Requirement already satisfied: certifi>=2017.4.17 in /usr/local/lib/python3.10/dist-packages (from requests>=2.23.0->ultralytics) (2024.2.2)\n",
            "Requirement already satisfied: filelock in /usr/local/lib/python3.10/dist-packages (from torch>=1.8.0->ultralytics) (3.13.1)\n",
            "Requirement already satisfied: typing-extensions in /usr/local/lib/python3.10/dist-packages (from torch>=1.8.0->ultralytics) (4.10.0)\n",
            "Requirement already satisfied: sympy in /usr/local/lib/python3.10/dist-packages (from torch>=1.8.0->ultralytics) (1.12)\n",
            "Requirement already satisfied: networkx in /usr/local/lib/python3.10/dist-packages (from torch>=1.8.0->ultralytics) (3.2.1)\n",
            "Requirement already satisfied: jinja2 in /usr/local/lib/python3.10/dist-packages (from torch>=1.8.0->ultralytics) (3.1.3)\n",
            "Requirement already satisfied: fsspec in /usr/local/lib/python3.10/dist-packages (from torch>=1.8.0->ultralytics) (2023.6.0)\n",
            "Requirement already satisfied: triton==2.1.0 in /usr/local/lib/python3.10/dist-packages (from torch>=1.8.0->ultralytics) (2.1.0)\n",
            "Requirement already satisfied: six>=1.5 in /usr/local/lib/python3.10/dist-packages (from python-dateutil>=2.7->matplotlib>=3.3.0->ultralytics) (1.16.0)\n",
            "Requirement already satisfied: MarkupSafe>=2.0 in /usr/local/lib/python3.10/dist-packages (from jinja2->torch>=1.8.0->ultralytics) (2.1.5)\n",
            "Requirement already satisfied: mpmath>=0.19 in /usr/local/lib/python3.10/dist-packages (from sympy->torch>=1.8.0->ultralytics) (1.3.0)\n",
            "Installing collected packages: thop, ultralytics\n",
            "Successfully installed thop-0.1.1.post2209072238 ultralytics-8.1.24\n"
          ]
        }
      ],
      "source": [
        "!pip install ultralytics"
      ]
    },
    {
      "cell_type": "markdown",
      "metadata": {
        "id": "GL7sqUvYL7JW"
      },
      "source": [
        "## **IMPORT LIBRARY**"
      ]
    },
    {
      "cell_type": "code",
      "execution_count": null,
      "metadata": {
        "id": "g1WGQZjqL9aN"
      },
      "outputs": [],
      "source": [
        "# System File, Path\n",
        "import os\n",
        "# OCR\n",
        "import easyocr\n",
        "# Text Processing\n",
        "import re\n",
        "# Object Detection\n",
        "from ultralytics import YOLO\n",
        "# Utilize CUDA\n",
        "import torch\n",
        "# Extract Data\n",
        "import zipfile\n",
        "# Delete Files\n",
        "import shutil\n",
        "# Parallel\n",
        "from concurrent.futures import ThreadPoolExecutor, as_completed\n",
        "import concurrent"
      ]
    },
    {
      "cell_type": "markdown",
      "metadata": {
        "id": "didkoMXCCJ4k"
      },
      "source": [
        "## **EXTRACT DATA**"
      ]
    },
    {
      "cell_type": "code",
      "execution_count": null,
      "metadata": {
        "id": "bqijkN3E3Jxr"
      },
      "outputs": [],
      "source": [
        "with zipfile.ZipFile(\"path_to_train_data\", 'r') as zip_ref:\n",
        "  zip_ref.extractall(\"path_to_extract_train_data\")"
      ]
    },
    {
      "cell_type": "markdown",
      "metadata": {
        "id": "eUcNRF46CFNC"
      },
      "source": [
        "## **TRAIN MODEL**"
      ]
    },
    {
      "cell_type": "markdown",
      "metadata": {
        "id": "cYKyetj7CRgr"
      },
      "source": [
        "#### **LOAD PRE-TRAINED MODEL**"
      ]
    },
    {
      "cell_type": "code",
      "execution_count": null,
      "metadata": {
        "colab": {
          "base_uri": "https://localhost:8080/"
        },
        "id": "eP8CFUBvQYmF",
        "outputId": "82ffae35-809c-41d3-9692-07d2323799ac"
      },
      "outputs": [
        {
          "name": "stdout",
          "output_type": "stream",
          "text": [
            "Downloading https://github.com/ultralytics/assets/releases/download/v8.1.0/yolov8m.pt to 'yolov8m.pt'...\n"
          ]
        },
        {
          "name": "stderr",
          "output_type": "stream",
          "text": [
            "100%|██████████| 49.7M/49.7M [00:00<00:00, 208MB/s]\n"
          ]
        }
      ],
      "source": [
        "device = 'cuda' if torch.cuda.is_available() else 'cpu'\n",
        "model = YOLO(\"yolov8m.pt\").to(device)\n",
        "\n",
        "# model = YOLO(\"/content/drive/MyDrive/[2] Colab Notebooks/Detect Money in Bill/checkpoint/train/weights/last.pt\")"
      ]
    },
    {
      "cell_type": "markdown",
      "metadata": {
        "id": "Bh_2BuQcCNZy"
      },
      "source": [
        "### **CREATE CONFIG FILE**"
      ]
    },
    {
      "cell_type": "code",
      "execution_count": null,
      "metadata": {
        "id": "PReiIKOPWPlE"
      },
      "outputs": [],
      "source": [
        "!rm \"path_to_config_file\"\n",
        "!echo 'train: path_to_extract_train_data' >> \"/path_to_config_file\"\n",
        "!echo 'val: path_to_extract_train_data' >> \"path_to_config_file\" # Same as train, you can chang if you like\n",
        "!echo 'nc: 1' >> \"path_to_config_file\"\n",
        "!echo \"names: ['Money']\" >> \"path_to_config_file\" # As I just have 1 label which is the money location"
      ]
    },
    {
      "cell_type": "markdown",
      "metadata": {
        "id": "zhcJGWS1CWVb"
      },
      "source": [
        "### **FINE-TUNE MODEL**"
      ]
    },
    {
      "cell_type": "code",
      "execution_count": null,
      "metadata": {
        "colab": {
          "base_uri": "https://localhost:8080/"
        },
        "id": "TDHugemOW-ZR",
        "outputId": "c0f29478-bcaa-434f-b781-155c490d3205"
      },
      "outputs": [
        {
          "name": "stdout",
          "output_type": "stream",
          "text": [
            "Ultralytics YOLOv8.1.24 🚀 Python-3.10.12 torch-2.1.0+cu121 CUDA:0 (Tesla T4, 15102MiB)\n",
            "\u001b[34m\u001b[1mengine/trainer: \u001b[0mtask=detect, mode=train, model=yolov8m.pt, data=/content/drive/MyDrive/[2] Colab Notebooks/Detect Money in Bill/data/config.yaml, epochs=30, time=None, patience=100, batch=16, imgsz=640, save=True, save_period=-1, cache=False, device=0, workers=8, project=/content/drive/MyDrive/[2] Colab Notebooks/Detect Money in Bill/checkpoint, name=train, exist_ok=False, pretrained=True, optimizer=auto, verbose=True, seed=0, deterministic=True, single_cls=False, rect=False, cos_lr=False, close_mosaic=10, resume=False, amp=True, fraction=1.0, profile=False, freeze=None, multi_scale=False, overlap_mask=True, mask_ratio=4, dropout=0.0, val=True, split=val, save_json=False, save_hybrid=False, conf=None, iou=0.7, max_det=300, half=False, dnn=False, plots=True, source=None, vid_stride=1, stream_buffer=False, visualize=False, augment=False, agnostic_nms=False, classes=None, retina_masks=False, embed=None, show=False, save_frames=False, save_txt=False, save_conf=False, save_crop=False, show_labels=True, show_conf=True, show_boxes=True, line_width=None, format=torchscript, keras=False, optimize=False, int8=False, dynamic=False, simplify=False, opset=None, workspace=4, nms=False, lr0=0.01, lrf=0.01, momentum=0.937, weight_decay=0.0005, warmup_epochs=3.0, warmup_momentum=0.8, warmup_bias_lr=0.1, box=7.5, cls=0.5, dfl=1.5, pose=12.0, kobj=1.0, label_smoothing=0.0, nbs=64, hsv_h=0.015, hsv_s=0.7, hsv_v=0.4, degrees=0.0, translate=0.1, scale=0.5, shear=0.0, perspective=0.0, flipud=0.0, fliplr=0.5, mosaic=1.0, mixup=0.0, copy_paste=0.0, auto_augment=randaugment, erasing=0.4, crop_fraction=1.0, cfg=None, tracker=botsort.yaml, save_dir=/content/drive/MyDrive/[2] Colab Notebooks/Detect Money in Bill/checkpoint/train\n",
            "Overriding model.yaml nc=80 with nc=1\n",
            "\n",
            "                   from  n    params  module                                       arguments                     \n",
            "  0                  -1  1      1392  ultralytics.nn.modules.conv.Conv             [3, 48, 3, 2]                 \n",
            "  1                  -1  1     41664  ultralytics.nn.modules.conv.Conv             [48, 96, 3, 2]                \n",
            "  2                  -1  2    111360  ultralytics.nn.modules.block.C2f             [96, 96, 2, True]             \n",
            "  3                  -1  1    166272  ultralytics.nn.modules.conv.Conv             [96, 192, 3, 2]               \n",
            "  4                  -1  4    813312  ultralytics.nn.modules.block.C2f             [192, 192, 4, True]           \n",
            "  5                  -1  1    664320  ultralytics.nn.modules.conv.Conv             [192, 384, 3, 2]              \n",
            "  6                  -1  4   3248640  ultralytics.nn.modules.block.C2f             [384, 384, 4, True]           \n",
            "  7                  -1  1   1991808  ultralytics.nn.modules.conv.Conv             [384, 576, 3, 2]              \n",
            "  8                  -1  2   3985920  ultralytics.nn.modules.block.C2f             [576, 576, 2, True]           \n",
            "  9                  -1  1    831168  ultralytics.nn.modules.block.SPPF            [576, 576, 5]                 \n",
            " 10                  -1  1         0  torch.nn.modules.upsampling.Upsample         [None, 2, 'nearest']          \n",
            " 11             [-1, 6]  1         0  ultralytics.nn.modules.conv.Concat           [1]                           \n",
            " 12                  -1  2   1993728  ultralytics.nn.modules.block.C2f             [960, 384, 2]                 \n",
            " 13                  -1  1         0  torch.nn.modules.upsampling.Upsample         [None, 2, 'nearest']          \n",
            " 14             [-1, 4]  1         0  ultralytics.nn.modules.conv.Concat           [1]                           \n",
            " 15                  -1  2    517632  ultralytics.nn.modules.block.C2f             [576, 192, 2]                 \n",
            " 16                  -1  1    332160  ultralytics.nn.modules.conv.Conv             [192, 192, 3, 2]              \n",
            " 17            [-1, 12]  1         0  ultralytics.nn.modules.conv.Concat           [1]                           \n",
            " 18                  -1  2   1846272  ultralytics.nn.modules.block.C2f             [576, 384, 2]                 \n",
            " 19                  -1  1   1327872  ultralytics.nn.modules.conv.Conv             [384, 384, 3, 2]              \n",
            " 20             [-1, 9]  1         0  ultralytics.nn.modules.conv.Concat           [1]                           \n",
            " 21                  -1  2   4207104  ultralytics.nn.modules.block.C2f             [960, 576, 2]                 \n",
            " 22        [15, 18, 21]  1   3776275  ultralytics.nn.modules.head.Detect           [1, [192, 384, 576]]          \n",
            "Model summary: 295 layers, 25856899 parameters, 25856883 gradients, 79.1 GFLOPs\n",
            "\n",
            "Transferred 469/475 items from pretrained weights\n",
            "\u001b[34m\u001b[1mTensorBoard: \u001b[0mStart with 'tensorboard --logdir /content/drive/MyDrive/[2] Colab Notebooks/Detect Money in Bill/checkpoint/train', view at http://localhost:6006/\n",
            "Freezing layer 'model.22.dfl.conv.weight'\n",
            "\u001b[34m\u001b[1mAMP: \u001b[0mrunning Automatic Mixed Precision (AMP) checks with YOLOv8n...\n",
            "\u001b[34m\u001b[1mAMP: \u001b[0mchecks passed ✅\n"
          ]
        },
        {
          "name": "stderr",
          "output_type": "stream",
          "text": [
            "\u001b[34m\u001b[1mtrain: \u001b[0mScanning /content/sample_data/data/labels.cache... 400 images, 1 backgrounds, 0 corrupt: 100%|██████████| 400/400 [00:00<?, ?it/s]"
          ]
        },
        {
          "name": "stdout",
          "output_type": "stream",
          "text": [
            "\u001b[34m\u001b[1malbumentations: \u001b[0mBlur(p=0.01, blur_limit=(3, 7)), MedianBlur(p=0.01, blur_limit=(3, 7)), ToGray(p=0.01), CLAHE(p=0.01, clip_limit=(1, 4.0), tile_grid_size=(8, 8))\n"
          ]
        },
        {
          "name": "stderr",
          "output_type": "stream",
          "text": [
            "\n",
            "\u001b[34m\u001b[1mval: \u001b[0mScanning /content/sample_data/data/labels.cache... 400 images, 1 backgrounds, 0 corrupt: 100%|██████████| 400/400 [00:00<?, ?it/s]\n"
          ]
        },
        {
          "name": "stdout",
          "output_type": "stream",
          "text": [
            "Plotting labels to /content/drive/MyDrive/[2] Colab Notebooks/Detect Money in Bill/checkpoint/train/labels.jpg... \n",
            "\u001b[34m\u001b[1moptimizer:\u001b[0m 'optimizer=auto' found, ignoring 'lr0=0.01' and 'momentum=0.937' and determining best 'optimizer', 'lr0' and 'momentum' automatically... \n",
            "\u001b[34m\u001b[1moptimizer:\u001b[0m AdamW(lr=0.002, momentum=0.9) with parameter groups 77 weight(decay=0.0), 84 weight(decay=0.0005), 83 bias(decay=0.0)\n",
            "\u001b[34m\u001b[1mTensorBoard: \u001b[0mmodel graph visualization added ✅\n",
            "Image sizes 640 train, 640 val\n",
            "Using 2 dataloader workers\n",
            "Logging results to \u001b[1m/content/drive/MyDrive/[2] Colab Notebooks/Detect Money in Bill/checkpoint/train\u001b[0m\n",
            "Starting training for 30 epochs...\n",
            "\n",
            "      Epoch    GPU_mem   box_loss   cls_loss   dfl_loss  Instances       Size\n"
          ]
        },
        {
          "name": "stderr",
          "output_type": "stream",
          "text": [
            "       1/30      7.25G      2.057      4.032      1.452         32        640: 100%|██████████| 25/25 [00:15<00:00,  1.60it/s]\n",
            "                 Class     Images  Instances      Box(P          R      mAP50  mAP50-95): 100%|██████████| 13/13 [00:04<00:00,  2.64it/s]"
          ]
        },
        {
          "name": "stdout",
          "output_type": "stream",
          "text": [
            "                   all        400        409     0.0142      0.905     0.0141     0.0104\n"
          ]
        },
        {
          "name": "stderr",
          "output_type": "stream",
          "text": [
            "\n"
          ]
        },
        {
          "name": "stdout",
          "output_type": "stream",
          "text": [
            "\n",
            "      Epoch    GPU_mem   box_loss   cls_loss   dfl_loss  Instances       Size\n"
          ]
        },
        {
          "name": "stderr",
          "output_type": "stream",
          "text": [
            "       2/30      7.44G      1.042      0.893     0.9571         34        640: 100%|██████████| 25/25 [00:13<00:00,  1.87it/s]\n",
            "                 Class     Images  Instances      Box(P          R      mAP50  mAP50-95): 100%|██████████| 13/13 [00:04<00:00,  2.94it/s]\n"
          ]
        },
        {
          "name": "stdout",
          "output_type": "stream",
          "text": [
            "                   all        400        409     0.0574      0.919     0.0554     0.0381\n",
            "\n",
            "      Epoch    GPU_mem   box_loss   cls_loss   dfl_loss  Instances       Size\n"
          ]
        },
        {
          "name": "stderr",
          "output_type": "stream",
          "text": [
            "       3/30      7.48G      1.037     0.7808     0.9626         32        640: 100%|██████████| 25/25 [00:14<00:00,  1.77it/s]\n",
            "                 Class     Images  Instances      Box(P          R      mAP50  mAP50-95): 100%|██████████| 13/13 [00:03<00:00,  3.42it/s]\n"
          ]
        },
        {
          "name": "stdout",
          "output_type": "stream",
          "text": [
            "                   all        400        409      0.933      0.988      0.963      0.653\n",
            "\n",
            "      Epoch    GPU_mem   box_loss   cls_loss   dfl_loss  Instances       Size\n"
          ]
        },
        {
          "name": "stderr",
          "output_type": "stream",
          "text": [
            "       4/30      7.45G       1.15     0.7226     0.9889         24        640: 100%|██████████| 25/25 [00:13<00:00,  1.80it/s]\n",
            "                 Class     Images  Instances      Box(P          R      mAP50  mAP50-95): 100%|██████████| 13/13 [00:03<00:00,  3.67it/s]"
          ]
        },
        {
          "name": "stdout",
          "output_type": "stream",
          "text": [
            "                   all        400        409      0.947      0.958      0.967      0.618\n"
          ]
        },
        {
          "name": "stderr",
          "output_type": "stream",
          "text": [
            "\n"
          ]
        },
        {
          "name": "stdout",
          "output_type": "stream",
          "text": [
            "\n",
            "      Epoch    GPU_mem   box_loss   cls_loss   dfl_loss  Instances       Size\n"
          ]
        },
        {
          "name": "stderr",
          "output_type": "stream",
          "text": [
            "       5/30      7.47G      1.067     0.8245     0.9889         26        640: 100%|██████████| 25/25 [00:13<00:00,  1.86it/s]\n",
            "                 Class     Images  Instances      Box(P          R      mAP50  mAP50-95): 100%|██████████| 13/13 [00:03<00:00,  3.34it/s]"
          ]
        },
        {
          "name": "stdout",
          "output_type": "stream",
          "text": [
            "                   all        400        409       0.98      0.817      0.946      0.608\n"
          ]
        },
        {
          "name": "stderr",
          "output_type": "stream",
          "text": [
            "\n"
          ]
        },
        {
          "name": "stdout",
          "output_type": "stream",
          "text": [
            "\n",
            "      Epoch    GPU_mem   box_loss   cls_loss   dfl_loss  Instances       Size\n"
          ]
        },
        {
          "name": "stderr",
          "output_type": "stream",
          "text": [
            "       6/30      7.49G     0.9609     0.6456     0.9273         31        640: 100%|██████████| 25/25 [00:13<00:00,  1.90it/s]\n",
            "                 Class     Images  Instances      Box(P          R      mAP50  mAP50-95): 100%|██████████| 13/13 [00:04<00:00,  3.00it/s]"
          ]
        },
        {
          "name": "stdout",
          "output_type": "stream",
          "text": [
            "                   all        400        409      0.814      0.857      0.936      0.703\n"
          ]
        },
        {
          "name": "stderr",
          "output_type": "stream",
          "text": [
            "\n"
          ]
        },
        {
          "name": "stdout",
          "output_type": "stream",
          "text": [
            "\n",
            "      Epoch    GPU_mem   box_loss   cls_loss   dfl_loss  Instances       Size\n"
          ]
        },
        {
          "name": "stderr",
          "output_type": "stream",
          "text": [
            "       7/30      7.49G     0.9641     0.5896      0.938         35        640: 100%|██████████| 25/25 [00:13<00:00,  1.85it/s]\n",
            "                 Class     Images  Instances      Box(P          R      mAP50  mAP50-95): 100%|██████████| 13/13 [00:03<00:00,  3.28it/s]\n"
          ]
        },
        {
          "name": "stdout",
          "output_type": "stream",
          "text": [
            "                   all        400        409      0.687      0.752      0.682      0.437\n",
            "\n",
            "      Epoch    GPU_mem   box_loss   cls_loss   dfl_loss  Instances       Size\n"
          ]
        },
        {
          "name": "stderr",
          "output_type": "stream",
          "text": [
            "       8/30      7.49G       1.01     0.5933     0.9478         31        640: 100%|██████████| 25/25 [00:13<00:00,  1.90it/s]\n",
            "                 Class     Images  Instances      Box(P          R      mAP50  mAP50-95): 100%|██████████| 13/13 [00:03<00:00,  3.63it/s]"
          ]
        },
        {
          "name": "stdout",
          "output_type": "stream",
          "text": [
            "                   all        400        409      0.992      0.988      0.994      0.719\n"
          ]
        },
        {
          "name": "stderr",
          "output_type": "stream",
          "text": [
            "\n"
          ]
        },
        {
          "name": "stdout",
          "output_type": "stream",
          "text": [
            "\n",
            "      Epoch    GPU_mem   box_loss   cls_loss   dfl_loss  Instances       Size\n"
          ]
        },
        {
          "name": "stderr",
          "output_type": "stream",
          "text": [
            "       9/30      7.45G     0.9761      0.578     0.9189         26        640: 100%|██████████| 25/25 [00:13<00:00,  1.81it/s]\n",
            "                 Class     Images  Instances      Box(P          R      mAP50  mAP50-95): 100%|██████████| 13/13 [00:03<00:00,  3.88it/s]"
          ]
        },
        {
          "name": "stdout",
          "output_type": "stream",
          "text": [
            "                   all        400        409      0.954      0.904      0.983      0.669\n"
          ]
        },
        {
          "name": "stderr",
          "output_type": "stream",
          "text": [
            "\n"
          ]
        },
        {
          "name": "stdout",
          "output_type": "stream",
          "text": [
            "\n",
            "      Epoch    GPU_mem   box_loss   cls_loss   dfl_loss  Instances       Size\n"
          ]
        },
        {
          "name": "stderr",
          "output_type": "stream",
          "text": [
            "      10/30      7.48G      0.905     0.5372     0.9308         24        640: 100%|██████████| 25/25 [00:13<00:00,  1.88it/s]\n",
            "                 Class     Images  Instances      Box(P          R      mAP50  mAP50-95): 100%|██████████| 13/13 [00:03<00:00,  4.03it/s]"
          ]
        },
        {
          "name": "stdout",
          "output_type": "stream",
          "text": [
            "                   all        400        409      0.954      0.904      0.983      0.669\n"
          ]
        },
        {
          "name": "stderr",
          "output_type": "stream",
          "text": [
            "\n"
          ]
        },
        {
          "name": "stdout",
          "output_type": "stream",
          "text": [
            "\n",
            "      Epoch    GPU_mem   box_loss   cls_loss   dfl_loss  Instances       Size\n"
          ]
        },
        {
          "name": "stderr",
          "output_type": "stream",
          "text": [
            "      11/30      7.48G     0.8872     0.5126     0.9132         26        640: 100%|██████████| 25/25 [00:13<00:00,  1.89it/s]\n",
            "                 Class     Images  Instances      Box(P          R      mAP50  mAP50-95): 100%|██████████| 13/13 [00:03<00:00,  3.44it/s]"
          ]
        },
        {
          "name": "stdout",
          "output_type": "stream",
          "text": [
            "                   all        400        409      0.995      0.992      0.993      0.775\n"
          ]
        },
        {
          "name": "stderr",
          "output_type": "stream",
          "text": [
            "\n"
          ]
        },
        {
          "name": "stdout",
          "output_type": "stream",
          "text": [
            "\n",
            "      Epoch    GPU_mem   box_loss   cls_loss   dfl_loss  Instances       Size\n"
          ]
        },
        {
          "name": "stderr",
          "output_type": "stream",
          "text": [
            "      12/30       7.5G     0.9043     0.5176     0.9151         27        640: 100%|██████████| 25/25 [00:15<00:00,  1.66it/s]\n",
            "                 Class     Images  Instances      Box(P          R      mAP50  mAP50-95): 100%|██████████| 13/13 [00:03<00:00,  3.42it/s]"
          ]
        },
        {
          "name": "stdout",
          "output_type": "stream",
          "text": [
            "                   all        400        409      0.973      0.978      0.992      0.759\n"
          ]
        },
        {
          "name": "stderr",
          "output_type": "stream",
          "text": [
            "\n"
          ]
        },
        {
          "name": "stdout",
          "output_type": "stream",
          "text": [
            "\n",
            "      Epoch    GPU_mem   box_loss   cls_loss   dfl_loss  Instances       Size\n"
          ]
        },
        {
          "name": "stderr",
          "output_type": "stream",
          "text": [
            "      13/30      7.46G     0.8898     0.4918     0.9094         25        640: 100%|██████████| 25/25 [00:13<00:00,  1.90it/s]\n",
            "                 Class     Images  Instances      Box(P          R      mAP50  mAP50-95): 100%|██████████| 13/13 [00:03<00:00,  3.33it/s]"
          ]
        },
        {
          "name": "stdout",
          "output_type": "stream",
          "text": [
            "                   all        400        409      0.995      0.982      0.994      0.718\n"
          ]
        },
        {
          "name": "stderr",
          "output_type": "stream",
          "text": [
            "\n"
          ]
        },
        {
          "name": "stdout",
          "output_type": "stream",
          "text": [
            "\n",
            "      Epoch    GPU_mem   box_loss   cls_loss   dfl_loss  Instances       Size\n"
          ]
        },
        {
          "name": "stderr",
          "output_type": "stream",
          "text": [
            "      14/30      7.48G     0.9205     0.4953     0.9067         34        640: 100%|██████████| 25/25 [00:13<00:00,  1.90it/s]\n",
            "                 Class     Images  Instances      Box(P          R      mAP50  mAP50-95): 100%|██████████| 13/13 [00:03<00:00,  3.31it/s]"
          ]
        },
        {
          "name": "stdout",
          "output_type": "stream",
          "text": [
            "                   all        400        409      0.994      0.995      0.993      0.767\n"
          ]
        },
        {
          "name": "stderr",
          "output_type": "stream",
          "text": [
            "\n"
          ]
        },
        {
          "name": "stdout",
          "output_type": "stream",
          "text": [
            "\n",
            "      Epoch    GPU_mem   box_loss   cls_loss   dfl_loss  Instances       Size\n"
          ]
        },
        {
          "name": "stderr",
          "output_type": "stream",
          "text": [
            "      15/30      7.49G     0.8492     0.4791     0.8923         28        640: 100%|██████████| 25/25 [00:13<00:00,  1.83it/s]\n",
            "                 Class     Images  Instances      Box(P          R      mAP50  mAP50-95): 100%|██████████| 13/13 [00:03<00:00,  3.73it/s]"
          ]
        },
        {
          "name": "stdout",
          "output_type": "stream",
          "text": [
            "                   all        400        409      0.995      0.995      0.994      0.751\n"
          ]
        },
        {
          "name": "stderr",
          "output_type": "stream",
          "text": [
            "\n"
          ]
        },
        {
          "name": "stdout",
          "output_type": "stream",
          "text": [
            "\n",
            "      Epoch    GPU_mem   box_loss   cls_loss   dfl_loss  Instances       Size\n"
          ]
        },
        {
          "name": "stderr",
          "output_type": "stream",
          "text": [
            "      16/30       7.5G     0.9093     0.4759     0.9036         37        640: 100%|██████████| 25/25 [00:13<00:00,  1.89it/s]\n",
            "                 Class     Images  Instances      Box(P          R      mAP50  mAP50-95): 100%|██████████| 13/13 [00:03<00:00,  3.73it/s]"
          ]
        },
        {
          "name": "stdout",
          "output_type": "stream",
          "text": [
            "                   all        400        409      0.995      0.995      0.995      0.792\n"
          ]
        },
        {
          "name": "stderr",
          "output_type": "stream",
          "text": [
            "\n"
          ]
        },
        {
          "name": "stdout",
          "output_type": "stream",
          "text": [
            "\n",
            "      Epoch    GPU_mem   box_loss   cls_loss   dfl_loss  Instances       Size\n"
          ]
        },
        {
          "name": "stderr",
          "output_type": "stream",
          "text": [
            "      17/30      7.46G      0.855     0.4555     0.8915         26        640: 100%|██████████| 25/25 [00:13<00:00,  1.85it/s]\n",
            "                 Class     Images  Instances      Box(P          R      mAP50  mAP50-95): 100%|██████████| 13/13 [00:03<00:00,  3.38it/s]"
          ]
        },
        {
          "name": "stdout",
          "output_type": "stream",
          "text": [
            "                   all        400        409      0.995      0.995      0.992        0.8\n"
          ]
        },
        {
          "name": "stderr",
          "output_type": "stream",
          "text": [
            "\n"
          ]
        },
        {
          "name": "stdout",
          "output_type": "stream",
          "text": [
            "\n",
            "      Epoch    GPU_mem   box_loss   cls_loss   dfl_loss  Instances       Size\n"
          ]
        },
        {
          "name": "stderr",
          "output_type": "stream",
          "text": [
            "      18/30      7.48G     0.8333     0.4532     0.8762         28        640: 100%|██████████| 25/25 [00:16<00:00,  1.48it/s]\n",
            "                 Class     Images  Instances      Box(P          R      mAP50  mAP50-95): 100%|██████████| 13/13 [00:05<00:00,  2.45it/s]"
          ]
        },
        {
          "name": "stdout",
          "output_type": "stream",
          "text": [
            "                   all        400        409      0.993      0.995      0.994      0.812\n"
          ]
        },
        {
          "name": "stderr",
          "output_type": "stream",
          "text": [
            "\n"
          ]
        },
        {
          "name": "stdout",
          "output_type": "stream",
          "text": [
            "\n",
            "      Epoch    GPU_mem   box_loss   cls_loss   dfl_loss  Instances       Size\n"
          ]
        },
        {
          "name": "stderr",
          "output_type": "stream",
          "text": [
            "      19/30      7.48G     0.8418     0.4403     0.8809         28        640: 100%|██████████| 25/25 [00:17<00:00,  1.47it/s]\n",
            "                 Class     Images  Instances      Box(P          R      mAP50  mAP50-95): 100%|██████████| 13/13 [00:04<00:00,  2.69it/s]"
          ]
        },
        {
          "name": "stdout",
          "output_type": "stream",
          "text": [
            "                   all        400        409      0.998      0.994      0.995      0.775\n"
          ]
        },
        {
          "name": "stderr",
          "output_type": "stream",
          "text": [
            "\n"
          ]
        },
        {
          "name": "stdout",
          "output_type": "stream",
          "text": [
            "\n",
            "      Epoch    GPU_mem   box_loss   cls_loss   dfl_loss  Instances       Size\n"
          ]
        },
        {
          "name": "stderr",
          "output_type": "stream",
          "text": [
            "      20/30      7.48G     0.8222     0.4226     0.8919         27        640: 100%|██████████| 25/25 [00:14<00:00,  1.69it/s]\n",
            "                 Class     Images  Instances      Box(P          R      mAP50  mAP50-95): 100%|██████████| 13/13 [00:03<00:00,  3.57it/s]"
          ]
        },
        {
          "name": "stdout",
          "output_type": "stream",
          "text": [
            "                   all        400        409      0.992      0.995      0.995      0.785\n"
          ]
        },
        {
          "name": "stderr",
          "output_type": "stream",
          "text": [
            "\n"
          ]
        },
        {
          "name": "stdout",
          "output_type": "stream",
          "text": [
            "Closing dataloader mosaic\n",
            "\u001b[34m\u001b[1malbumentations: \u001b[0mBlur(p=0.01, blur_limit=(3, 7)), MedianBlur(p=0.01, blur_limit=(3, 7)), ToGray(p=0.01), CLAHE(p=0.01, clip_limit=(1, 4.0), tile_grid_size=(8, 8))\n",
            "\n",
            "      Epoch    GPU_mem   box_loss   cls_loss   dfl_loss  Instances       Size\n"
          ]
        },
        {
          "name": "stderr",
          "output_type": "stream",
          "text": [
            "      21/30      7.46G     0.8611     0.4242     0.9066         15        640: 100%|██████████| 25/25 [00:17<00:00,  1.45it/s]\n",
            "                 Class     Images  Instances      Box(P          R      mAP50  mAP50-95): 100%|██████████| 13/13 [00:05<00:00,  2.50it/s]"
          ]
        },
        {
          "name": "stdout",
          "output_type": "stream",
          "text": [
            "                   all        400        409      0.998      0.992      0.995      0.794\n"
          ]
        },
        {
          "name": "stderr",
          "output_type": "stream",
          "text": [
            "\n"
          ]
        },
        {
          "name": "stdout",
          "output_type": "stream",
          "text": [
            "\n",
            "      Epoch    GPU_mem   box_loss   cls_loss   dfl_loss  Instances       Size\n"
          ]
        },
        {
          "name": "stderr",
          "output_type": "stream",
          "text": [
            "      22/30      7.49G     0.8223     0.3989     0.8956         16        640: 100%|██████████| 25/25 [00:14<00:00,  1.75it/s]\n",
            "                 Class     Images  Instances      Box(P          R      mAP50  mAP50-95): 100%|██████████| 13/13 [00:05<00:00,  2.54it/s]"
          ]
        },
        {
          "name": "stdout",
          "output_type": "stream",
          "text": [
            "                   all        400        409      0.997      0.995      0.995      0.797\n"
          ]
        },
        {
          "name": "stderr",
          "output_type": "stream",
          "text": [
            "\n"
          ]
        },
        {
          "name": "stdout",
          "output_type": "stream",
          "text": [
            "\n",
            "      Epoch    GPU_mem   box_loss   cls_loss   dfl_loss  Instances       Size\n"
          ]
        },
        {
          "name": "stderr",
          "output_type": "stream",
          "text": [
            "      23/30      7.48G     0.8167     0.3985     0.8862         16        640: 100%|██████████| 25/25 [00:13<00:00,  1.84it/s]\n",
            "                 Class     Images  Instances      Box(P          R      mAP50  mAP50-95): 100%|██████████| 13/13 [00:05<00:00,  2.39it/s]"
          ]
        },
        {
          "name": "stdout",
          "output_type": "stream",
          "text": [
            "                   all        400        409      0.997      0.995      0.993      0.804\n"
          ]
        },
        {
          "name": "stderr",
          "output_type": "stream",
          "text": [
            "\n"
          ]
        },
        {
          "name": "stdout",
          "output_type": "stream",
          "text": [
            "\n",
            "      Epoch    GPU_mem   box_loss   cls_loss   dfl_loss  Instances       Size\n"
          ]
        },
        {
          "name": "stderr",
          "output_type": "stream",
          "text": [
            "      24/30      7.51G     0.8089     0.3917     0.8859         16        640: 100%|██████████| 25/25 [00:14<00:00,  1.77it/s]\n",
            "                 Class     Images  Instances      Box(P          R      mAP50  mAP50-95): 100%|██████████| 13/13 [00:03<00:00,  3.47it/s]"
          ]
        },
        {
          "name": "stdout",
          "output_type": "stream",
          "text": [
            "                   all        400        409      0.995      0.995      0.995      0.805\n"
          ]
        },
        {
          "name": "stderr",
          "output_type": "stream",
          "text": [
            "\n"
          ]
        },
        {
          "name": "stdout",
          "output_type": "stream",
          "text": [
            "\n",
            "      Epoch    GPU_mem   box_loss   cls_loss   dfl_loss  Instances       Size\n"
          ]
        },
        {
          "name": "stderr",
          "output_type": "stream",
          "text": [
            "      25/30      7.45G     0.7992     0.3779     0.8845         16        640: 100%|██████████| 25/25 [00:12<00:00,  1.93it/s]\n",
            "                 Class     Images  Instances      Box(P          R      mAP50  mAP50-95): 100%|██████████| 13/13 [00:03<00:00,  3.25it/s]"
          ]
        },
        {
          "name": "stdout",
          "output_type": "stream",
          "text": [
            "                   all        400        409      0.995      0.995      0.995      0.799\n"
          ]
        },
        {
          "name": "stderr",
          "output_type": "stream",
          "text": [
            "\n"
          ]
        },
        {
          "name": "stdout",
          "output_type": "stream",
          "text": [
            "\n",
            "      Epoch    GPU_mem   box_loss   cls_loss   dfl_loss  Instances       Size\n"
          ]
        },
        {
          "name": "stderr",
          "output_type": "stream",
          "text": [
            "      26/30      7.48G     0.7933     0.3676     0.8761         16        640: 100%|██████████| 25/25 [00:13<00:00,  1.89it/s]\n",
            "                 Class     Images  Instances      Box(P          R      mAP50  mAP50-95): 100%|██████████| 13/13 [00:03<00:00,  3.58it/s]"
          ]
        },
        {
          "name": "stdout",
          "output_type": "stream",
          "text": [
            "                   all        400        409      0.997      0.995      0.995      0.806\n"
          ]
        },
        {
          "name": "stderr",
          "output_type": "stream",
          "text": [
            "\n"
          ]
        },
        {
          "name": "stdout",
          "output_type": "stream",
          "text": [
            "\n",
            "      Epoch    GPU_mem   box_loss   cls_loss   dfl_loss  Instances       Size\n"
          ]
        },
        {
          "name": "stderr",
          "output_type": "stream",
          "text": [
            "      27/30      7.48G     0.8002     0.3704     0.8814         16        640: 100%|██████████| 25/25 [00:13<00:00,  1.88it/s]\n",
            "                 Class     Images  Instances      Box(P          R      mAP50  mAP50-95): 100%|██████████| 13/13 [00:03<00:00,  3.88it/s]"
          ]
        },
        {
          "name": "stdout",
          "output_type": "stream",
          "text": [
            "                   all        400        409      0.997      0.995      0.995      0.801\n"
          ]
        },
        {
          "name": "stderr",
          "output_type": "stream",
          "text": [
            "\n"
          ]
        },
        {
          "name": "stdout",
          "output_type": "stream",
          "text": [
            "\n",
            "      Epoch    GPU_mem   box_loss   cls_loss   dfl_loss  Instances       Size\n"
          ]
        },
        {
          "name": "stderr",
          "output_type": "stream",
          "text": [
            "      28/30      7.48G     0.8049     0.3739     0.8911         15        640: 100%|██████████| 25/25 [00:13<00:00,  1.88it/s]\n",
            "                 Class     Images  Instances      Box(P          R      mAP50  mAP50-95): 100%|██████████| 13/13 [00:03<00:00,  3.94it/s]"
          ]
        },
        {
          "name": "stdout",
          "output_type": "stream",
          "text": [
            "                   all        400        409      0.997      0.995      0.995      0.813\n"
          ]
        },
        {
          "name": "stderr",
          "output_type": "stream",
          "text": [
            "\n"
          ]
        },
        {
          "name": "stdout",
          "output_type": "stream",
          "text": [
            "\n",
            "      Epoch    GPU_mem   box_loss   cls_loss   dfl_loss  Instances       Size\n"
          ]
        },
        {
          "name": "stderr",
          "output_type": "stream",
          "text": [
            "      29/30      7.45G     0.7819     0.3621      0.874         15        640: 100%|██████████| 25/25 [00:13<00:00,  1.81it/s]\n",
            "                 Class     Images  Instances      Box(P          R      mAP50  mAP50-95): 100%|██████████| 13/13 [00:03<00:00,  3.55it/s]\n"
          ]
        },
        {
          "name": "stdout",
          "output_type": "stream",
          "text": [
            "                   all        400        409      0.995      0.995      0.995      0.807\n",
            "\n",
            "      Epoch    GPU_mem   box_loss   cls_loss   dfl_loss  Instances       Size\n"
          ]
        },
        {
          "name": "stderr",
          "output_type": "stream",
          "text": [
            "      30/30      7.49G     0.7669     0.3577     0.8858         16        640: 100%|██████████| 25/25 [00:13<00:00,  1.90it/s]\n",
            "                 Class     Images  Instances      Box(P          R      mAP50  mAP50-95): 100%|██████████| 13/13 [00:03<00:00,  3.81it/s]"
          ]
        },
        {
          "name": "stdout",
          "output_type": "stream",
          "text": [
            "                   all        400        409      0.995      0.995      0.995       0.81\n"
          ]
        },
        {
          "name": "stderr",
          "output_type": "stream",
          "text": [
            "\n"
          ]
        },
        {
          "name": "stdout",
          "output_type": "stream",
          "text": [
            "\n",
            "30 epochs completed in 0.180 hours.\n",
            "Optimizer stripped from /content/drive/MyDrive/[2] Colab Notebooks/Detect Money in Bill/checkpoint/train/weights/last.pt, 52.0MB\n",
            "Optimizer stripped from /content/drive/MyDrive/[2] Colab Notebooks/Detect Money in Bill/checkpoint/train/weights/best.pt, 52.0MB\n",
            "\n",
            "Validating /content/drive/MyDrive/[2] Colab Notebooks/Detect Money in Bill/checkpoint/train/weights/best.pt...\n",
            "Ultralytics YOLOv8.1.24 🚀 Python-3.10.12 torch-2.1.0+cu121 CUDA:0 (Tesla T4, 15102MiB)\n",
            "Model summary (fused): 218 layers, 25840339 parameters, 0 gradients, 78.7 GFLOPs\n"
          ]
        },
        {
          "name": "stderr",
          "output_type": "stream",
          "text": [
            "                 Class     Images  Instances      Box(P          R      mAP50  mAP50-95): 100%|██████████| 13/13 [00:05<00:00,  2.39it/s]\n"
          ]
        },
        {
          "name": "stdout",
          "output_type": "stream",
          "text": [
            "                   all        400        409      0.997      0.995      0.995      0.813\n",
            "Speed: 0.2ms preprocess, 5.0ms inference, 0.0ms loss, 2.2ms postprocess per image\n",
            "Results saved to \u001b[1m/content/drive/MyDrive/[2] Colab Notebooks/Detect Money in Bill/checkpoint/train\u001b[0m\n"
          ]
        },
        {
          "data": {
            "text/plain": [
              "ultralytics.utils.metrics.DetMetrics object with attributes:\n",
              "\n",
              "ap_class_index: array([0])\n",
              "box: ultralytics.utils.metrics.Metric object\n",
              "confusion_matrix: <ultralytics.utils.metrics.ConfusionMatrix object at 0x79607e41ceb0>\n",
              "curves: ['Precision-Recall(B)', 'F1-Confidence(B)', 'Precision-Confidence(B)', 'Recall-Confidence(B)']\n",
              "curves_results: [[array([          0,    0.001001,    0.002002,    0.003003,    0.004004,    0.005005,    0.006006,    0.007007,    0.008008,    0.009009,     0.01001,    0.011011,    0.012012,    0.013013,    0.014014,    0.015015,    0.016016,    0.017017,    0.018018,    0.019019,     0.02002,    0.021021,    0.022022,    0.023023,\n",
              "          0.024024,    0.025025,    0.026026,    0.027027,    0.028028,    0.029029,     0.03003,    0.031031,    0.032032,    0.033033,    0.034034,    0.035035,    0.036036,    0.037037,    0.038038,    0.039039,     0.04004,    0.041041,    0.042042,    0.043043,    0.044044,    0.045045,    0.046046,    0.047047,\n",
              "          0.048048,    0.049049,     0.05005,    0.051051,    0.052052,    0.053053,    0.054054,    0.055055,    0.056056,    0.057057,    0.058058,    0.059059,     0.06006,    0.061061,    0.062062,    0.063063,    0.064064,    0.065065,    0.066066,    0.067067,    0.068068,    0.069069,     0.07007,    0.071071,\n",
              "          0.072072,    0.073073,    0.074074,    0.075075,    0.076076,    0.077077,    0.078078,    0.079079,     0.08008,    0.081081,    0.082082,    0.083083,    0.084084,    0.085085,    0.086086,    0.087087,    0.088088,    0.089089,     0.09009,    0.091091,    0.092092,    0.093093,    0.094094,    0.095095,\n",
              "          0.096096,    0.097097,    0.098098,    0.099099,      0.1001,      0.1011,      0.1021,      0.1031,      0.1041,     0.10511,     0.10611,     0.10711,     0.10811,     0.10911,     0.11011,     0.11111,     0.11211,     0.11311,     0.11411,     0.11512,     0.11612,     0.11712,     0.11812,     0.11912,\n",
              "           0.12012,     0.12112,     0.12212,     0.12312,     0.12412,     0.12513,     0.12613,     0.12713,     0.12813,     0.12913,     0.13013,     0.13113,     0.13213,     0.13313,     0.13413,     0.13514,     0.13614,     0.13714,     0.13814,     0.13914,     0.14014,     0.14114,     0.14214,     0.14314,\n",
              "           0.14414,     0.14515,     0.14615,     0.14715,     0.14815,     0.14915,     0.15015,     0.15115,     0.15215,     0.15315,     0.15415,     0.15516,     0.15616,     0.15716,     0.15816,     0.15916,     0.16016,     0.16116,     0.16216,     0.16316,     0.16416,     0.16517,     0.16617,     0.16717,\n",
              "           0.16817,     0.16917,     0.17017,     0.17117,     0.17217,     0.17317,     0.17417,     0.17518,     0.17618,     0.17718,     0.17818,     0.17918,     0.18018,     0.18118,     0.18218,     0.18318,     0.18418,     0.18519,     0.18619,     0.18719,     0.18819,     0.18919,     0.19019,     0.19119,\n",
              "           0.19219,     0.19319,     0.19419,      0.1952,      0.1962,      0.1972,      0.1982,      0.1992,      0.2002,      0.2012,      0.2022,      0.2032,      0.2042,     0.20521,     0.20621,     0.20721,     0.20821,     0.20921,     0.21021,     0.21121,     0.21221,     0.21321,     0.21421,     0.21522,\n",
              "           0.21622,     0.21722,     0.21822,     0.21922,     0.22022,     0.22122,     0.22222,     0.22322,     0.22422,     0.22523,     0.22623,     0.22723,     0.22823,     0.22923,     0.23023,     0.23123,     0.23223,     0.23323,     0.23423,     0.23524,     0.23624,     0.23724,     0.23824,     0.23924,\n",
              "           0.24024,     0.24124,     0.24224,     0.24324,     0.24424,     0.24525,     0.24625,     0.24725,     0.24825,     0.24925,     0.25025,     0.25125,     0.25225,     0.25325,     0.25425,     0.25526,     0.25626,     0.25726,     0.25826,     0.25926,     0.26026,     0.26126,     0.26226,     0.26326,\n",
              "           0.26426,     0.26527,     0.26627,     0.26727,     0.26827,     0.26927,     0.27027,     0.27127,     0.27227,     0.27327,     0.27427,     0.27528,     0.27628,     0.27728,     0.27828,     0.27928,     0.28028,     0.28128,     0.28228,     0.28328,     0.28428,     0.28529,     0.28629,     0.28729,\n",
              "           0.28829,     0.28929,     0.29029,     0.29129,     0.29229,     0.29329,     0.29429,      0.2953,      0.2963,      0.2973,      0.2983,      0.2993,      0.3003,      0.3013,      0.3023,      0.3033,      0.3043,     0.30531,     0.30631,     0.30731,     0.30831,     0.30931,     0.31031,     0.31131,\n",
              "           0.31231,     0.31331,     0.31431,     0.31532,     0.31632,     0.31732,     0.31832,     0.31932,     0.32032,     0.32132,     0.32232,     0.32332,     0.32432,     0.32533,     0.32633,     0.32733,     0.32833,     0.32933,     0.33033,     0.33133,     0.33233,     0.33333,     0.33433,     0.33534,\n",
              "           0.33634,     0.33734,     0.33834,     0.33934,     0.34034,     0.34134,     0.34234,     0.34334,     0.34434,     0.34535,     0.34635,     0.34735,     0.34835,     0.34935,     0.35035,     0.35135,     0.35235,     0.35335,     0.35435,     0.35536,     0.35636,     0.35736,     0.35836,     0.35936,\n",
              "           0.36036,     0.36136,     0.36236,     0.36336,     0.36436,     0.36537,     0.36637,     0.36737,     0.36837,     0.36937,     0.37037,     0.37137,     0.37237,     0.37337,     0.37437,     0.37538,     0.37638,     0.37738,     0.37838,     0.37938,     0.38038,     0.38138,     0.38238,     0.38338,\n",
              "           0.38438,     0.38539,     0.38639,     0.38739,     0.38839,     0.38939,     0.39039,     0.39139,     0.39239,     0.39339,     0.39439,      0.3954,      0.3964,      0.3974,      0.3984,      0.3994,      0.4004,      0.4014,      0.4024,      0.4034,      0.4044,     0.40541,     0.40641,     0.40741,\n",
              "           0.40841,     0.40941,     0.41041,     0.41141,     0.41241,     0.41341,     0.41441,     0.41542,     0.41642,     0.41742,     0.41842,     0.41942,     0.42042,     0.42142,     0.42242,     0.42342,     0.42442,     0.42543,     0.42643,     0.42743,     0.42843,     0.42943,     0.43043,     0.43143,\n",
              "           0.43243,     0.43343,     0.43443,     0.43544,     0.43644,     0.43744,     0.43844,     0.43944,     0.44044,     0.44144,     0.44244,     0.44344,     0.44444,     0.44545,     0.44645,     0.44745,     0.44845,     0.44945,     0.45045,     0.45145,     0.45245,     0.45345,     0.45445,     0.45546,\n",
              "           0.45646,     0.45746,     0.45846,     0.45946,     0.46046,     0.46146,     0.46246,     0.46346,     0.46446,     0.46547,     0.46647,     0.46747,     0.46847,     0.46947,     0.47047,     0.47147,     0.47247,     0.47347,     0.47447,     0.47548,     0.47648,     0.47748,     0.47848,     0.47948,\n",
              "           0.48048,     0.48148,     0.48248,     0.48348,     0.48448,     0.48549,     0.48649,     0.48749,     0.48849,     0.48949,     0.49049,     0.49149,     0.49249,     0.49349,     0.49449,      0.4955,      0.4965,      0.4975,      0.4985,      0.4995,      0.5005,      0.5015,      0.5025,      0.5035,\n",
              "            0.5045,     0.50551,     0.50651,     0.50751,     0.50851,     0.50951,     0.51051,     0.51151,     0.51251,     0.51351,     0.51451,     0.51552,     0.51652,     0.51752,     0.51852,     0.51952,     0.52052,     0.52152,     0.52252,     0.52352,     0.52452,     0.52553,     0.52653,     0.52753,\n",
              "           0.52853,     0.52953,     0.53053,     0.53153,     0.53253,     0.53353,     0.53453,     0.53554,     0.53654,     0.53754,     0.53854,     0.53954,     0.54054,     0.54154,     0.54254,     0.54354,     0.54454,     0.54555,     0.54655,     0.54755,     0.54855,     0.54955,     0.55055,     0.55155,\n",
              "           0.55255,     0.55355,     0.55455,     0.55556,     0.55656,     0.55756,     0.55856,     0.55956,     0.56056,     0.56156,     0.56256,     0.56356,     0.56456,     0.56557,     0.56657,     0.56757,     0.56857,     0.56957,     0.57057,     0.57157,     0.57257,     0.57357,     0.57457,     0.57558,\n",
              "           0.57658,     0.57758,     0.57858,     0.57958,     0.58058,     0.58158,     0.58258,     0.58358,     0.58458,     0.58559,     0.58659,     0.58759,     0.58859,     0.58959,     0.59059,     0.59159,     0.59259,     0.59359,     0.59459,      0.5956,      0.5966,      0.5976,      0.5986,      0.5996,\n",
              "            0.6006,      0.6016,      0.6026,      0.6036,      0.6046,     0.60561,     0.60661,     0.60761,     0.60861,     0.60961,     0.61061,     0.61161,     0.61261,     0.61361,     0.61461,     0.61562,     0.61662,     0.61762,     0.61862,     0.61962,     0.62062,     0.62162,     0.62262,     0.62362,\n",
              "           0.62462,     0.62563,     0.62663,     0.62763,     0.62863,     0.62963,     0.63063,     0.63163,     0.63263,     0.63363,     0.63463,     0.63564,     0.63664,     0.63764,     0.63864,     0.63964,     0.64064,     0.64164,     0.64264,     0.64364,     0.64464,     0.64565,     0.64665,     0.64765,\n",
              "           0.64865,     0.64965,     0.65065,     0.65165,     0.65265,     0.65365,     0.65465,     0.65566,     0.65666,     0.65766,     0.65866,     0.65966,     0.66066,     0.66166,     0.66266,     0.66366,     0.66466,     0.66567,     0.66667,     0.66767,     0.66867,     0.66967,     0.67067,     0.67167,\n",
              "           0.67267,     0.67367,     0.67467,     0.67568,     0.67668,     0.67768,     0.67868,     0.67968,     0.68068,     0.68168,     0.68268,     0.68368,     0.68468,     0.68569,     0.68669,     0.68769,     0.68869,     0.68969,     0.69069,     0.69169,     0.69269,     0.69369,     0.69469,      0.6957,\n",
              "            0.6967,      0.6977,      0.6987,      0.6997,      0.7007,      0.7017,      0.7027,      0.7037,      0.7047,     0.70571,     0.70671,     0.70771,     0.70871,     0.70971,     0.71071,     0.71171,     0.71271,     0.71371,     0.71471,     0.71572,     0.71672,     0.71772,     0.71872,     0.71972,\n",
              "           0.72072,     0.72172,     0.72272,     0.72372,     0.72472,     0.72573,     0.72673,     0.72773,     0.72873,     0.72973,     0.73073,     0.73173,     0.73273,     0.73373,     0.73473,     0.73574,     0.73674,     0.73774,     0.73874,     0.73974,     0.74074,     0.74174,     0.74274,     0.74374,\n",
              "           0.74474,     0.74575,     0.74675,     0.74775,     0.74875,     0.74975,     0.75075,     0.75175,     0.75275,     0.75375,     0.75475,     0.75576,     0.75676,     0.75776,     0.75876,     0.75976,     0.76076,     0.76176,     0.76276,     0.76376,     0.76476,     0.76577,     0.76677,     0.76777,\n",
              "           0.76877,     0.76977,     0.77077,     0.77177,     0.77277,     0.77377,     0.77477,     0.77578,     0.77678,     0.77778,     0.77878,     0.77978,     0.78078,     0.78178,     0.78278,     0.78378,     0.78478,     0.78579,     0.78679,     0.78779,     0.78879,     0.78979,     0.79079,     0.79179,\n",
              "           0.79279,     0.79379,     0.79479,      0.7958,      0.7968,      0.7978,      0.7988,      0.7998,      0.8008,      0.8018,      0.8028,      0.8038,      0.8048,     0.80581,     0.80681,     0.80781,     0.80881,     0.80981,     0.81081,     0.81181,     0.81281,     0.81381,     0.81481,     0.81582,\n",
              "           0.81682,     0.81782,     0.81882,     0.81982,     0.82082,     0.82182,     0.82282,     0.82382,     0.82482,     0.82583,     0.82683,     0.82783,     0.82883,     0.82983,     0.83083,     0.83183,     0.83283,     0.83383,     0.83483,     0.83584,     0.83684,     0.83784,     0.83884,     0.83984,\n",
              "           0.84084,     0.84184,     0.84284,     0.84384,     0.84484,     0.84585,     0.84685,     0.84785,     0.84885,     0.84985,     0.85085,     0.85185,     0.85285,     0.85385,     0.85485,     0.85586,     0.85686,     0.85786,     0.85886,     0.85986,     0.86086,     0.86186,     0.86286,     0.86386,\n",
              "           0.86486,     0.86587,     0.86687,     0.86787,     0.86887,     0.86987,     0.87087,     0.87187,     0.87287,     0.87387,     0.87487,     0.87588,     0.87688,     0.87788,     0.87888,     0.87988,     0.88088,     0.88188,     0.88288,     0.88388,     0.88488,     0.88589,     0.88689,     0.88789,\n",
              "           0.88889,     0.88989,     0.89089,     0.89189,     0.89289,     0.89389,     0.89489,      0.8959,      0.8969,      0.8979,      0.8989,      0.8999,      0.9009,      0.9019,      0.9029,      0.9039,      0.9049,     0.90591,     0.90691,     0.90791,     0.90891,     0.90991,     0.91091,     0.91191,\n",
              "           0.91291,     0.91391,     0.91491,     0.91592,     0.91692,     0.91792,     0.91892,     0.91992,     0.92092,     0.92192,     0.92292,     0.92392,     0.92492,     0.92593,     0.92693,     0.92793,     0.92893,     0.92993,     0.93093,     0.93193,     0.93293,     0.93393,     0.93493,     0.93594,\n",
              "           0.93694,     0.93794,     0.93894,     0.93994,     0.94094,     0.94194,     0.94294,     0.94394,     0.94494,     0.94595,     0.94695,     0.94795,     0.94895,     0.94995,     0.95095,     0.95195,     0.95295,     0.95395,     0.95495,     0.95596,     0.95696,     0.95796,     0.95896,     0.95996,\n",
              "           0.96096,     0.96196,     0.96296,     0.96396,     0.96496,     0.96597,     0.96697,     0.96797,     0.96897,     0.96997,     0.97097,     0.97197,     0.97297,     0.97397,     0.97497,     0.97598,     0.97698,     0.97798,     0.97898,     0.97998,     0.98098,     0.98198,     0.98298,     0.98398,\n",
              "           0.98498,     0.98599,     0.98699,     0.98799,     0.98899,     0.98999,     0.99099,     0.99199,     0.99299,     0.99399,     0.99499,       0.996,       0.997,       0.998,       0.999,           1]), array([[          1,           1,           1,           1,           1,           1,           1,           1,           1,           1,           1,           1,           1,           1,           1,           1,           1,           1,           1,           1,           1,           1,           1,\n",
              "                  1,           1,           1,           1,           1,           1,           1,           1,           1,           1,           1,           1,           1,           1,           1,           1,           1,           1,           1,           1,           1,           1,           1,\n",
              "                  1,           1,           1,           1,           1,           1,           1,           1,           1,           1,           1,           1,           1,           1,           1,           1,           1,           1,           1,           1,           1,           1,           1,\n",
              "                  1,           1,           1,           1,           1,           1,           1,           1,           1,           1,           1,           1,           1,           1,           1,           1,           1,           1,           1,           1,           1,           1,           1,\n",
              "                  1,           1,           1,           1,           1,           1,           1,           1,           1,           1,           1,           1,           1,           1,           1,           1,           1,           1,           1,           1,           1,           1,           1,\n",
              "                  1,           1,           1,           1,           1,           1,           1,           1,           1,           1,           1,           1,           1,           1,           1,           1,           1,           1,           1,           1,           1,           1,           1,\n",
              "                  1,           1,           1,           1,           1,           1,           1,           1,           1,           1,           1,           1,           1,           1,           1,           1,           1,           1,           1,           1,           1,           1,           1,\n",
              "                  1,           1,           1,           1,           1,           1,           1,           1,           1,           1,           1,           1,           1,           1,           1,           1,           1,           1,           1,           1,           1,           1,           1,\n",
              "                  1,           1,           1,           1,           1,           1,           1,           1,           1,           1,           1,           1,           1,           1,           1,           1,           1,           1,           1,           1,           1,           1,           1,\n",
              "                  1,           1,           1,           1,           1,           1,           1,           1,           1,           1,           1,           1,           1,           1,           1,           1,           1,           1,           1,           1,           1,           1,           1,\n",
              "                  1,           1,           1,           1,           1,           1,           1,           1,           1,           1,           1,           1,           1,           1,           1,           1,           1,           1,           1,           1,           1,           1,           1,\n",
              "                  1,           1,           1,           1,           1,           1,           1,           1,           1,           1,           1,           1,           1,           1,           1,           1,           1,           1,           1,           1,           1,           1,           1,\n",
              "                  1,           1,           1,           1,           1,           1,           1,           1,           1,           1,           1,           1,           1,           1,           1,           1,           1,           1,           1,           1,           1,           1,           1,\n",
              "                  1,           1,           1,           1,           1,           1,           1,           1,           1,           1,           1,           1,           1,           1,           1,           1,           1,           1,           1,           1,           1,           1,           1,\n",
              "                  1,           1,           1,           1,           1,           1,           1,           1,           1,           1,           1,           1,           1,           1,           1,           1,           1,           1,           1,           1,           1,           1,           1,\n",
              "                  1,           1,           1,           1,           1,           1,           1,           1,           1,           1,           1,           1,           1,           1,           1,           1,           1,           1,           1,           1,           1,           1,           1,\n",
              "                  1,           1,           1,           1,           1,           1,           1,           1,           1,           1,           1,           1,           1,           1,           1,           1,           1,           1,           1,           1,           1,           1,           1,\n",
              "                  1,           1,           1,           1,           1,           1,           1,           1,           1,           1,           1,           1,           1,           1,           1,           1,           1,           1,           1,           1,           1,           1,           1,\n",
              "                  1,           1,           1,           1,           1,           1,           1,           1,           1,           1,           1,           1,           1,           1,           1,           1,           1,           1,           1,           1,           1,           1,           1,\n",
              "                  1,           1,           1,           1,           1,           1,           1,           1,           1,           1,           1,           1,           1,           1,           1,           1,           1,           1,           1,           1,           1,           1,           1,\n",
              "                  1,           1,           1,           1,           1,           1,           1,           1,           1,           1,           1,           1,           1,           1,           1,           1,           1,           1,           1,           1,           1,           1,           1,\n",
              "                  1,           1,           1,           1,           1,           1,           1,           1,           1,           1,           1,           1,           1,           1,           1,           1,           1,           1,           1,           1,           1,           1,           1,\n",
              "                  1,           1,           1,           1,           1,           1,           1,           1,           1,           1,           1,           1,           1,           1,           1,           1,           1,           1,           1,           1,           1,           1,           1,\n",
              "                  1,           1,           1,           1,           1,           1,           1,           1,           1,           1,           1,           1,           1,           1,           1,           1,           1,           1,           1,           1,           1,           1,           1,\n",
              "                  1,           1,           1,           1,           1,           1,           1,           1,           1,           1,           1,           1,           1,           1,           1,           1,           1,           1,           1,           1,           1,           1,           1,\n",
              "                  1,           1,           1,           1,           1,           1,           1,           1,           1,           1,           1,           1,           1,           1,           1,           1,           1,           1,           1,           1,           1,           1,           1,\n",
              "                  1,           1,           1,           1,           1,           1,           1,           1,           1,           1,           1,           1,           1,           1,           1,           1,           1,           1,           1,           1,           1,           1,           1,\n",
              "                  1,           1,           1,           1,           1,           1,           1,           1,           1,           1,           1,           1,           1,           1,           1,           1,           1,           1,           1,           1,           1,           1,           1,\n",
              "                  1,           1,           1,           1,           1,           1,           1,           1,           1,           1,           1,           1,           1,           1,           1,           1,           1,           1,           1,           1,           1,           1,           1,\n",
              "                  1,           1,           1,           1,           1,           1,           1,           1,           1,           1,           1,           1,           1,           1,           1,           1,           1,           1,           1,           1,           1,           1,           1,\n",
              "                  1,           1,           1,           1,           1,           1,           1,           1,           1,           1,           1,           1,           1,           1,           1,           1,           1,           1,           1,           1,           1,           1,           1,\n",
              "                  1,           1,           1,           1,           1,           1,           1,           1,           1,           1,           1,           1,           1,           1,           1,           1,           1,           1,           1,           1,           1,           1,           1,\n",
              "                  1,           1,           1,           1,           1,           1,           1,           1,           1,           1,           1,           1,           1,           1,           1,           1,           1,           1,           1,           1,           1,           1,           1,\n",
              "                  1,           1,           1,           1,           1,           1,           1,           1,           1,           1,           1,           1,           1,           1,           1,           1,           1,           1,           1,           1,           1,           1,           1,\n",
              "                  1,           1,           1,           1,           1,           1,           1,           1,           1,           1,           1,           1,           1,           1,           1,           1,           1,           1,           1,           1,           1,           1,           1,\n",
              "                  1,           1,           1,           1,           1,           1,           1,           1,           1,           1,           1,           1,           1,           1,           1,           1,           1,           1,           1,           1,           1,           1,           1,\n",
              "                  1,           1,           1,           1,           1,           1,           1,           1,           1,           1,           1,           1,           1,           1,           1,           1,           1,           1,           1,           1,           1,           1,           1,\n",
              "                  1,           1,           1,           1,           1,           1,           1,           1,           1,           1,           1,           1,           1,           1,           1,           1,           1,           1,           1,           1,           1,           1,           1,\n",
              "                  1,           1,           1,           1,           1,           1,           1,           1,           1,           1,           1,           1,           1,           1,           1,           1,           1,           1,           1,           1,           1,           1,           1,\n",
              "                  1,           1,           1,           1,           1,           1,           1,           1,           1,           1,           1,           1,           1,           1,           1,           1,           1,           1,           1,           1,           1,           1,           1,\n",
              "                  1,           1,           1,           1,           1,           1,           1,           1,           1,           1,           1,           1,           1,           1,           1,           1,           1,           1,           1,           1,           1,           1,           1,\n",
              "                  1,           1,           1,           1,           1,           1,           1,           1,           1,           1,           1,           1,           1,           1,           1,           1,           1,           1,           1,           1,           1,           1,           1,\n",
              "                  1,           1,           1,           1,           1,           1,           1,           1,           1,           1,           1,           1,           1,           1,           1,           1,           1,           1,           1,           1,           1,           1,           1,\n",
              "                  1,     0.99755,     0.99755,     0.99755,     0.99755,     0.99755,     0.50494,      0.3787,     0.25247,     0.12623,           0]]), 'Recall', 'Precision'], [array([          0,    0.001001,    0.002002,    0.003003,    0.004004,    0.005005,    0.006006,    0.007007,    0.008008,    0.009009,     0.01001,    0.011011,    0.012012,    0.013013,    0.014014,    0.015015,    0.016016,    0.017017,    0.018018,    0.019019,     0.02002,    0.021021,    0.022022,    0.023023,\n",
              "          0.024024,    0.025025,    0.026026,    0.027027,    0.028028,    0.029029,     0.03003,    0.031031,    0.032032,    0.033033,    0.034034,    0.035035,    0.036036,    0.037037,    0.038038,    0.039039,     0.04004,    0.041041,    0.042042,    0.043043,    0.044044,    0.045045,    0.046046,    0.047047,\n",
              "          0.048048,    0.049049,     0.05005,    0.051051,    0.052052,    0.053053,    0.054054,    0.055055,    0.056056,    0.057057,    0.058058,    0.059059,     0.06006,    0.061061,    0.062062,    0.063063,    0.064064,    0.065065,    0.066066,    0.067067,    0.068068,    0.069069,     0.07007,    0.071071,\n",
              "          0.072072,    0.073073,    0.074074,    0.075075,    0.076076,    0.077077,    0.078078,    0.079079,     0.08008,    0.081081,    0.082082,    0.083083,    0.084084,    0.085085,    0.086086,    0.087087,    0.088088,    0.089089,     0.09009,    0.091091,    0.092092,    0.093093,    0.094094,    0.095095,\n",
              "          0.096096,    0.097097,    0.098098,    0.099099,      0.1001,      0.1011,      0.1021,      0.1031,      0.1041,     0.10511,     0.10611,     0.10711,     0.10811,     0.10911,     0.11011,     0.11111,     0.11211,     0.11311,     0.11411,     0.11512,     0.11612,     0.11712,     0.11812,     0.11912,\n",
              "           0.12012,     0.12112,     0.12212,     0.12312,     0.12412,     0.12513,     0.12613,     0.12713,     0.12813,     0.12913,     0.13013,     0.13113,     0.13213,     0.13313,     0.13413,     0.13514,     0.13614,     0.13714,     0.13814,     0.13914,     0.14014,     0.14114,     0.14214,     0.14314,\n",
              "           0.14414,     0.14515,     0.14615,     0.14715,     0.14815,     0.14915,     0.15015,     0.15115,     0.15215,     0.15315,     0.15415,     0.15516,     0.15616,     0.15716,     0.15816,     0.15916,     0.16016,     0.16116,     0.16216,     0.16316,     0.16416,     0.16517,     0.16617,     0.16717,\n",
              "           0.16817,     0.16917,     0.17017,     0.17117,     0.17217,     0.17317,     0.17417,     0.17518,     0.17618,     0.17718,     0.17818,     0.17918,     0.18018,     0.18118,     0.18218,     0.18318,     0.18418,     0.18519,     0.18619,     0.18719,     0.18819,     0.18919,     0.19019,     0.19119,\n",
              "           0.19219,     0.19319,     0.19419,      0.1952,      0.1962,      0.1972,      0.1982,      0.1992,      0.2002,      0.2012,      0.2022,      0.2032,      0.2042,     0.20521,     0.20621,     0.20721,     0.20821,     0.20921,     0.21021,     0.21121,     0.21221,     0.21321,     0.21421,     0.21522,\n",
              "           0.21622,     0.21722,     0.21822,     0.21922,     0.22022,     0.22122,     0.22222,     0.22322,     0.22422,     0.22523,     0.22623,     0.22723,     0.22823,     0.22923,     0.23023,     0.23123,     0.23223,     0.23323,     0.23423,     0.23524,     0.23624,     0.23724,     0.23824,     0.23924,\n",
              "           0.24024,     0.24124,     0.24224,     0.24324,     0.24424,     0.24525,     0.24625,     0.24725,     0.24825,     0.24925,     0.25025,     0.25125,     0.25225,     0.25325,     0.25425,     0.25526,     0.25626,     0.25726,     0.25826,     0.25926,     0.26026,     0.26126,     0.26226,     0.26326,\n",
              "           0.26426,     0.26527,     0.26627,     0.26727,     0.26827,     0.26927,     0.27027,     0.27127,     0.27227,     0.27327,     0.27427,     0.27528,     0.27628,     0.27728,     0.27828,     0.27928,     0.28028,     0.28128,     0.28228,     0.28328,     0.28428,     0.28529,     0.28629,     0.28729,\n",
              "           0.28829,     0.28929,     0.29029,     0.29129,     0.29229,     0.29329,     0.29429,      0.2953,      0.2963,      0.2973,      0.2983,      0.2993,      0.3003,      0.3013,      0.3023,      0.3033,      0.3043,     0.30531,     0.30631,     0.30731,     0.30831,     0.30931,     0.31031,     0.31131,\n",
              "           0.31231,     0.31331,     0.31431,     0.31532,     0.31632,     0.31732,     0.31832,     0.31932,     0.32032,     0.32132,     0.32232,     0.32332,     0.32432,     0.32533,     0.32633,     0.32733,     0.32833,     0.32933,     0.33033,     0.33133,     0.33233,     0.33333,     0.33433,     0.33534,\n",
              "           0.33634,     0.33734,     0.33834,     0.33934,     0.34034,     0.34134,     0.34234,     0.34334,     0.34434,     0.34535,     0.34635,     0.34735,     0.34835,     0.34935,     0.35035,     0.35135,     0.35235,     0.35335,     0.35435,     0.35536,     0.35636,     0.35736,     0.35836,     0.35936,\n",
              "           0.36036,     0.36136,     0.36236,     0.36336,     0.36436,     0.36537,     0.36637,     0.36737,     0.36837,     0.36937,     0.37037,     0.37137,     0.37237,     0.37337,     0.37437,     0.37538,     0.37638,     0.37738,     0.37838,     0.37938,     0.38038,     0.38138,     0.38238,     0.38338,\n",
              "           0.38438,     0.38539,     0.38639,     0.38739,     0.38839,     0.38939,     0.39039,     0.39139,     0.39239,     0.39339,     0.39439,      0.3954,      0.3964,      0.3974,      0.3984,      0.3994,      0.4004,      0.4014,      0.4024,      0.4034,      0.4044,     0.40541,     0.40641,     0.40741,\n",
              "           0.40841,     0.40941,     0.41041,     0.41141,     0.41241,     0.41341,     0.41441,     0.41542,     0.41642,     0.41742,     0.41842,     0.41942,     0.42042,     0.42142,     0.42242,     0.42342,     0.42442,     0.42543,     0.42643,     0.42743,     0.42843,     0.42943,     0.43043,     0.43143,\n",
              "           0.43243,     0.43343,     0.43443,     0.43544,     0.43644,     0.43744,     0.43844,     0.43944,     0.44044,     0.44144,     0.44244,     0.44344,     0.44444,     0.44545,     0.44645,     0.44745,     0.44845,     0.44945,     0.45045,     0.45145,     0.45245,     0.45345,     0.45445,     0.45546,\n",
              "           0.45646,     0.45746,     0.45846,     0.45946,     0.46046,     0.46146,     0.46246,     0.46346,     0.46446,     0.46547,     0.46647,     0.46747,     0.46847,     0.46947,     0.47047,     0.47147,     0.47247,     0.47347,     0.47447,     0.47548,     0.47648,     0.47748,     0.47848,     0.47948,\n",
              "           0.48048,     0.48148,     0.48248,     0.48348,     0.48448,     0.48549,     0.48649,     0.48749,     0.48849,     0.48949,     0.49049,     0.49149,     0.49249,     0.49349,     0.49449,      0.4955,      0.4965,      0.4975,      0.4985,      0.4995,      0.5005,      0.5015,      0.5025,      0.5035,\n",
              "            0.5045,     0.50551,     0.50651,     0.50751,     0.50851,     0.50951,     0.51051,     0.51151,     0.51251,     0.51351,     0.51451,     0.51552,     0.51652,     0.51752,     0.51852,     0.51952,     0.52052,     0.52152,     0.52252,     0.52352,     0.52452,     0.52553,     0.52653,     0.52753,\n",
              "           0.52853,     0.52953,     0.53053,     0.53153,     0.53253,     0.53353,     0.53453,     0.53554,     0.53654,     0.53754,     0.53854,     0.53954,     0.54054,     0.54154,     0.54254,     0.54354,     0.54454,     0.54555,     0.54655,     0.54755,     0.54855,     0.54955,     0.55055,     0.55155,\n",
              "           0.55255,     0.55355,     0.55455,     0.55556,     0.55656,     0.55756,     0.55856,     0.55956,     0.56056,     0.56156,     0.56256,     0.56356,     0.56456,     0.56557,     0.56657,     0.56757,     0.56857,     0.56957,     0.57057,     0.57157,     0.57257,     0.57357,     0.57457,     0.57558,\n",
              "           0.57658,     0.57758,     0.57858,     0.57958,     0.58058,     0.58158,     0.58258,     0.58358,     0.58458,     0.58559,     0.58659,     0.58759,     0.58859,     0.58959,     0.59059,     0.59159,     0.59259,     0.59359,     0.59459,      0.5956,      0.5966,      0.5976,      0.5986,      0.5996,\n",
              "            0.6006,      0.6016,      0.6026,      0.6036,      0.6046,     0.60561,     0.60661,     0.60761,     0.60861,     0.60961,     0.61061,     0.61161,     0.61261,     0.61361,     0.61461,     0.61562,     0.61662,     0.61762,     0.61862,     0.61962,     0.62062,     0.62162,     0.62262,     0.62362,\n",
              "           0.62462,     0.62563,     0.62663,     0.62763,     0.62863,     0.62963,     0.63063,     0.63163,     0.63263,     0.63363,     0.63463,     0.63564,     0.63664,     0.63764,     0.63864,     0.63964,     0.64064,     0.64164,     0.64264,     0.64364,     0.64464,     0.64565,     0.64665,     0.64765,\n",
              "           0.64865,     0.64965,     0.65065,     0.65165,     0.65265,     0.65365,     0.65465,     0.65566,     0.65666,     0.65766,     0.65866,     0.65966,     0.66066,     0.66166,     0.66266,     0.66366,     0.66466,     0.66567,     0.66667,     0.66767,     0.66867,     0.66967,     0.67067,     0.67167,\n",
              "           0.67267,     0.67367,     0.67467,     0.67568,     0.67668,     0.67768,     0.67868,     0.67968,     0.68068,     0.68168,     0.68268,     0.68368,     0.68468,     0.68569,     0.68669,     0.68769,     0.68869,     0.68969,     0.69069,     0.69169,     0.69269,     0.69369,     0.69469,      0.6957,\n",
              "            0.6967,      0.6977,      0.6987,      0.6997,      0.7007,      0.7017,      0.7027,      0.7037,      0.7047,     0.70571,     0.70671,     0.70771,     0.70871,     0.70971,     0.71071,     0.71171,     0.71271,     0.71371,     0.71471,     0.71572,     0.71672,     0.71772,     0.71872,     0.71972,\n",
              "           0.72072,     0.72172,     0.72272,     0.72372,     0.72472,     0.72573,     0.72673,     0.72773,     0.72873,     0.72973,     0.73073,     0.73173,     0.73273,     0.73373,     0.73473,     0.73574,     0.73674,     0.73774,     0.73874,     0.73974,     0.74074,     0.74174,     0.74274,     0.74374,\n",
              "           0.74474,     0.74575,     0.74675,     0.74775,     0.74875,     0.74975,     0.75075,     0.75175,     0.75275,     0.75375,     0.75475,     0.75576,     0.75676,     0.75776,     0.75876,     0.75976,     0.76076,     0.76176,     0.76276,     0.76376,     0.76476,     0.76577,     0.76677,     0.76777,\n",
              "           0.76877,     0.76977,     0.77077,     0.77177,     0.77277,     0.77377,     0.77477,     0.77578,     0.77678,     0.77778,     0.77878,     0.77978,     0.78078,     0.78178,     0.78278,     0.78378,     0.78478,     0.78579,     0.78679,     0.78779,     0.78879,     0.78979,     0.79079,     0.79179,\n",
              "           0.79279,     0.79379,     0.79479,      0.7958,      0.7968,      0.7978,      0.7988,      0.7998,      0.8008,      0.8018,      0.8028,      0.8038,      0.8048,     0.80581,     0.80681,     0.80781,     0.80881,     0.80981,     0.81081,     0.81181,     0.81281,     0.81381,     0.81481,     0.81582,\n",
              "           0.81682,     0.81782,     0.81882,     0.81982,     0.82082,     0.82182,     0.82282,     0.82382,     0.82482,     0.82583,     0.82683,     0.82783,     0.82883,     0.82983,     0.83083,     0.83183,     0.83283,     0.83383,     0.83483,     0.83584,     0.83684,     0.83784,     0.83884,     0.83984,\n",
              "           0.84084,     0.84184,     0.84284,     0.84384,     0.84484,     0.84585,     0.84685,     0.84785,     0.84885,     0.84985,     0.85085,     0.85185,     0.85285,     0.85385,     0.85485,     0.85586,     0.85686,     0.85786,     0.85886,     0.85986,     0.86086,     0.86186,     0.86286,     0.86386,\n",
              "           0.86486,     0.86587,     0.86687,     0.86787,     0.86887,     0.86987,     0.87087,     0.87187,     0.87287,     0.87387,     0.87487,     0.87588,     0.87688,     0.87788,     0.87888,     0.87988,     0.88088,     0.88188,     0.88288,     0.88388,     0.88488,     0.88589,     0.88689,     0.88789,\n",
              "           0.88889,     0.88989,     0.89089,     0.89189,     0.89289,     0.89389,     0.89489,      0.8959,      0.8969,      0.8979,      0.8989,      0.8999,      0.9009,      0.9019,      0.9029,      0.9039,      0.9049,     0.90591,     0.90691,     0.90791,     0.90891,     0.90991,     0.91091,     0.91191,\n",
              "           0.91291,     0.91391,     0.91491,     0.91592,     0.91692,     0.91792,     0.91892,     0.91992,     0.92092,     0.92192,     0.92292,     0.92392,     0.92492,     0.92593,     0.92693,     0.92793,     0.92893,     0.92993,     0.93093,     0.93193,     0.93293,     0.93393,     0.93493,     0.93594,\n",
              "           0.93694,     0.93794,     0.93894,     0.93994,     0.94094,     0.94194,     0.94294,     0.94394,     0.94494,     0.94595,     0.94695,     0.94795,     0.94895,     0.94995,     0.95095,     0.95195,     0.95295,     0.95395,     0.95495,     0.95596,     0.95696,     0.95796,     0.95896,     0.95996,\n",
              "           0.96096,     0.96196,     0.96296,     0.96396,     0.96496,     0.96597,     0.96697,     0.96797,     0.96897,     0.96997,     0.97097,     0.97197,     0.97297,     0.97397,     0.97497,     0.97598,     0.97698,     0.97798,     0.97898,     0.97998,     0.98098,     0.98198,     0.98298,     0.98398,\n",
              "           0.98498,     0.98599,     0.98699,     0.98799,     0.98899,     0.98999,     0.99099,     0.99199,     0.99299,     0.99399,     0.99499,       0.996,       0.997,       0.998,       0.999,           1]), array([[    0.76146,     0.76146,     0.90117,     0.91278,     0.92054,     0.92665,     0.93675,     0.94328,     0.94404,     0.94718,     0.94813,     0.94885,     0.94971,     0.95144,     0.95202,      0.9529,     0.95362,     0.95426,     0.95852,     0.96031,     0.96804,      0.9686,     0.96935,\n",
              "            0.97143,     0.97528,     0.98011,     0.98097,     0.98175,     0.98269,     0.98477,     0.98667,      0.9867,     0.98673,     0.98676,     0.98679,     0.98681,     0.98684,     0.98687,      0.9869,     0.98693,     0.98696,     0.98699,     0.98702,     0.98704,     0.98707,      0.9871,\n",
              "            0.98713,     0.98716,     0.98719,     0.98722,     0.98725,     0.98727,      0.9873,     0.98733,     0.98736,     0.98739,     0.98742,     0.98745,     0.98748,      0.9875,     0.98753,     0.98756,     0.98759,     0.98762,     0.98765,     0.98768,     0.98771,     0.98773,     0.98776,\n",
              "            0.98779,     0.98782,     0.98785,     0.98908,      0.9891,     0.98912,     0.98915,     0.98917,      0.9892,     0.98922,     0.98924,     0.98927,     0.98929,     0.98931,     0.98934,     0.98936,     0.98939,     0.98941,     0.98943,     0.98946,     0.98948,     0.98951,     0.98953,\n",
              "            0.98955,     0.98958,      0.9896,     0.98962,     0.98965,     0.98967,      0.9897,     0.98972,     0.98974,     0.98977,     0.98979,     0.98981,     0.98984,     0.98986,     0.98989,     0.98991,     0.98993,     0.98996,     0.98998,     0.99001,     0.99003,     0.99005,     0.99008,\n",
              "             0.9901,     0.99012,     0.99015,     0.99017,      0.9902,     0.99022,     0.99024,     0.99027,     0.99156,     0.99165,     0.99173,     0.99182,     0.99191,     0.99199,     0.99208,     0.99217,     0.99225,     0.99234,     0.99243,     0.99251,      0.9926,      0.9939,      0.9939,\n",
              "             0.9939,      0.9939,     0.99391,     0.99391,     0.99391,     0.99392,     0.99392,     0.99392,     0.99392,     0.99393,     0.99393,     0.99393,     0.99394,     0.99394,     0.99394,     0.99394,     0.99395,     0.99395,     0.99395,     0.99396,     0.99396,     0.99396,     0.99396,\n",
              "            0.99397,     0.99397,     0.99397,     0.99398,     0.99398,     0.99398,     0.99398,     0.99399,     0.99399,     0.99399,       0.994,       0.994,       0.994,     0.99401,     0.99401,     0.99401,     0.99401,     0.99402,     0.99402,     0.99402,     0.99403,     0.99403,     0.99403,\n",
              "            0.99403,     0.99404,     0.99404,     0.99404,     0.99405,     0.99405,     0.99405,     0.99405,     0.99406,     0.99406,     0.99406,     0.99407,     0.99407,     0.99407,     0.99407,     0.99408,     0.99408,     0.99408,     0.99409,     0.99409,     0.99409,     0.99409,      0.9941,\n",
              "             0.9941,      0.9941,     0.99411,     0.99411,     0.99411,     0.99412,     0.99412,     0.99412,     0.99412,     0.99413,     0.99413,     0.99413,     0.99414,     0.99414,     0.99414,     0.99414,     0.99415,     0.99415,     0.99415,     0.99416,     0.99416,     0.99416,     0.99416,\n",
              "            0.99417,     0.99417,     0.99417,     0.99418,     0.99418,     0.99418,     0.99418,     0.99419,     0.99419,     0.99419,      0.9942,      0.9942,      0.9942,      0.9942,     0.99421,     0.99421,     0.99421,     0.99422,     0.99422,     0.99422,     0.99423,     0.99423,     0.99423,\n",
              "            0.99423,     0.99424,     0.99424,     0.99424,     0.99425,     0.99425,     0.99425,     0.99425,     0.99426,     0.99426,     0.99426,     0.99427,     0.99427,     0.99427,     0.99427,     0.99428,     0.99428,     0.99428,     0.99429,     0.99429,     0.99429,     0.99429,      0.9943,\n",
              "             0.9943,      0.9943,     0.99431,     0.99431,     0.99431,     0.99431,     0.99432,     0.99432,     0.99432,     0.99433,     0.99433,     0.99433,     0.99434,     0.99434,     0.99434,     0.99434,     0.99435,     0.99435,     0.99435,     0.99436,     0.99436,     0.99436,     0.99436,\n",
              "            0.99437,     0.99437,     0.99437,     0.99438,     0.99438,     0.99438,     0.99438,     0.99439,     0.99439,     0.99439,      0.9944,      0.9944,      0.9944,      0.9944,     0.99441,     0.99441,     0.99441,     0.99442,     0.99442,     0.99442,     0.99442,     0.99443,     0.99443,\n",
              "            0.99443,     0.99444,     0.99444,     0.99444,     0.99444,     0.99445,     0.99445,     0.99445,     0.99446,     0.99446,     0.99446,     0.99447,     0.99447,     0.99447,     0.99447,     0.99448,     0.99448,     0.99448,     0.99449,     0.99449,     0.99449,     0.99449,      0.9945,\n",
              "             0.9945,      0.9945,     0.99451,     0.99451,     0.99451,     0.99451,     0.99452,     0.99452,     0.99452,     0.99453,     0.99453,     0.99453,     0.99453,     0.99454,     0.99454,     0.99454,     0.99455,     0.99455,     0.99455,     0.99455,     0.99456,     0.99456,     0.99456,\n",
              "            0.99457,     0.99457,     0.99457,     0.99458,     0.99458,     0.99458,     0.99458,     0.99459,     0.99459,     0.99459,      0.9946,      0.9946,      0.9946,      0.9946,     0.99461,     0.99461,     0.99461,     0.99462,     0.99462,     0.99462,     0.99462,     0.99463,     0.99463,\n",
              "            0.99463,     0.99464,     0.99464,     0.99464,     0.99464,     0.99465,     0.99465,     0.99465,     0.99466,     0.99466,     0.99466,     0.99466,     0.99467,     0.99467,     0.99467,     0.99468,     0.99468,     0.99468,     0.99468,     0.99469,     0.99469,     0.99469,      0.9947,\n",
              "             0.9947,      0.9947,     0.99471,     0.99471,     0.99471,     0.99471,     0.99472,     0.99472,     0.99472,     0.99473,     0.99473,     0.99473,     0.99473,     0.99474,     0.99474,     0.99474,     0.99475,     0.99475,     0.99475,     0.99475,     0.99476,     0.99476,     0.99476,\n",
              "            0.99477,     0.99477,     0.99477,     0.99477,     0.99478,     0.99478,     0.99478,     0.99479,     0.99479,     0.99479,     0.99479,      0.9948,      0.9948,      0.9948,     0.99481,     0.99481,     0.99481,     0.99482,     0.99482,     0.99482,     0.99482,     0.99483,     0.99483,\n",
              "            0.99483,     0.99484,     0.99484,     0.99484,     0.99484,     0.99485,     0.99485,     0.99485,     0.99486,     0.99486,     0.99486,     0.99486,     0.99487,     0.99487,     0.99487,     0.99488,     0.99488,     0.99488,     0.99488,     0.99489,     0.99489,     0.99489,      0.9949,\n",
              "             0.9949,      0.9949,      0.9949,     0.99491,     0.99491,     0.99491,     0.99492,     0.99492,     0.99492,     0.99492,     0.99493,     0.99493,     0.99493,     0.99494,     0.99494,     0.99494,     0.99495,     0.99495,     0.99495,     0.99495,     0.99496,     0.99496,     0.99496,\n",
              "            0.99497,     0.99497,     0.99497,     0.99497,     0.99498,     0.99498,     0.99498,     0.99499,     0.99499,     0.99499,     0.99499,       0.995,       0.995,       0.995,     0.99501,     0.99501,     0.99501,     0.99501,     0.99502,     0.99502,     0.99502,     0.99503,     0.99503,\n",
              "            0.99503,     0.99503,     0.99504,     0.99504,     0.99504,     0.99505,     0.99505,     0.99505,     0.99505,     0.99506,     0.99506,     0.99506,     0.99507,     0.99507,     0.99507,     0.99508,     0.99508,     0.99508,     0.99508,     0.99509,     0.99509,     0.99509,      0.9951,\n",
              "             0.9951,      0.9951,      0.9951,     0.99511,     0.99511,     0.99512,     0.99512,     0.99513,     0.99513,     0.99514,     0.99515,     0.99515,     0.99516,     0.99517,     0.99517,     0.99518,     0.99518,     0.99519,      0.9952,      0.9952,     0.99521,     0.99522,     0.99522,\n",
              "            0.99523,     0.99523,     0.99524,     0.99525,     0.99525,     0.99526,     0.99527,     0.99527,     0.99528,     0.99528,     0.99529,      0.9953,      0.9953,     0.99531,     0.99532,     0.99532,     0.99533,     0.99533,     0.99534,     0.99535,     0.99535,     0.99536,     0.99537,\n",
              "            0.99537,     0.99538,     0.99538,     0.99539,      0.9954,      0.9954,     0.99541,     0.99542,     0.99542,     0.99543,     0.99543,     0.99544,     0.99545,     0.99545,     0.99546,     0.99547,     0.99547,     0.99548,     0.99548,     0.99549,      0.9955,      0.9955,     0.99551,\n",
              "            0.99552,     0.99552,     0.99553,     0.99553,     0.99554,     0.99555,     0.99555,     0.99556,     0.99557,     0.99557,     0.99558,     0.99558,     0.99559,      0.9956,      0.9956,     0.99561,     0.99562,     0.99562,     0.99563,     0.99563,     0.99564,     0.99565,     0.99565,\n",
              "            0.99566,     0.99567,     0.99567,     0.99568,     0.99568,     0.99569,      0.9957,      0.9957,     0.99571,     0.99572,     0.99572,     0.99573,     0.99573,     0.99574,     0.99575,     0.99575,     0.99576,     0.99577,     0.99577,     0.99578,     0.99578,     0.99579,      0.9958,\n",
              "             0.9958,     0.99581,     0.99582,     0.99582,     0.99583,     0.99583,     0.99584,     0.99585,     0.99585,     0.99586,     0.99587,     0.99587,     0.99588,     0.99588,     0.99589,      0.9959,      0.9959,     0.99591,     0.99592,     0.99592,     0.99593,     0.99593,     0.99594,\n",
              "            0.99595,     0.99595,     0.99596,     0.99597,     0.99597,     0.99598,     0.99598,     0.99599,       0.996,       0.996,     0.99601,     0.99601,     0.99602,     0.99603,     0.99603,     0.99604,     0.99605,     0.99605,     0.99606,     0.99606,     0.99607,     0.99608,     0.99608,\n",
              "            0.99609,      0.9961,      0.9961,     0.99611,     0.99611,     0.99612,     0.99613,     0.99613,     0.99614,     0.99615,     0.99615,     0.99616,     0.99616,     0.99617,     0.99618,     0.99618,     0.99619,      0.9962,      0.9962,     0.99621,     0.99621,     0.99622,     0.99623,\n",
              "            0.99623,     0.99624,     0.99625,     0.99625,     0.99626,     0.99626,     0.99627,     0.99628,     0.99628,     0.99629,      0.9963,      0.9963,     0.99631,     0.99631,     0.99632,     0.99633,     0.99631,     0.99628,     0.99625,     0.99622,     0.99619,     0.99617,     0.99614,\n",
              "            0.99611,     0.99608,     0.99605,     0.99603,       0.996,     0.99597,     0.99594,     0.99591,     0.99589,     0.99586,     0.99583,      0.9958,     0.99577,     0.99575,     0.99572,     0.99569,     0.99566,     0.99563,     0.99561,     0.99558,     0.99555,     0.99552,     0.99549,\n",
              "            0.99547,     0.99544,     0.99541,     0.99538,     0.99535,     0.99533,      0.9953,     0.99527,     0.99524,     0.99521,     0.99519,     0.99516,     0.99513,      0.9951,     0.99499,     0.99431,     0.99378,     0.99363,     0.99348,     0.99333,     0.99318,     0.99303,     0.99289,\n",
              "            0.99274,     0.99132,       0.991,     0.99068,     0.99036,     0.98729,     0.98633,     0.98619,     0.98606,     0.98592,     0.98579,     0.98565,     0.98552,     0.98538,     0.98524,     0.98511,     0.98502,     0.98493,     0.98483,     0.98474,     0.98465,     0.98456,     0.98446,\n",
              "            0.98437,     0.98428,     0.98419,     0.98409,       0.984,     0.98391,     0.98338,     0.98209,     0.97052,     0.96939,      0.9685,     0.96062,     0.94857,     0.94788,     0.93618,      0.9121,     0.90478,     0.89295,     0.89193,     0.88145,     0.87371,     0.86271,      0.8531,\n",
              "            0.82167,     0.80266,      0.7739,     0.75897,     0.71405,     0.68081,     0.65028,     0.60654,      0.5419,     0.36386,     0.25383,     0.19198,     0.12128,    0.063348,    0.044715,    0.039913,    0.021935,    0.018839,    0.016376,    0.013253,   0.0093216,   0.0079018,     0.00648,\n",
              "          0.0050562,           0,           0,           0,           0,           0,           0,           0,           0,           0,           0,           0,           0,           0,           0,           0,           0,           0,           0,           0,           0,           0,           0,\n",
              "                  0,           0,           0,           0,           0,           0,           0,           0,           0,           0,           0,           0,           0,           0,           0,           0,           0,           0,           0,           0,           0,           0,           0,\n",
              "                  0,           0,           0,           0,           0,           0,           0,           0,           0,           0,           0,           0,           0,           0,           0,           0,           0,           0,           0,           0,           0,           0,           0,\n",
              "                  0,           0,           0,           0,           0,           0,           0,           0,           0,           0,           0,           0,           0,           0,           0,           0,           0,           0,           0,           0,           0,           0,           0,\n",
              "                  0,           0,           0,           0,           0,           0,           0,           0,           0,           0,           0,           0,           0,           0,           0,           0,           0,           0,           0,           0,           0,           0,           0,\n",
              "                  0,           0,           0,           0,           0,           0,           0,           0,           0,           0,           0]]), 'Confidence', 'F1'], [array([          0,    0.001001,    0.002002,    0.003003,    0.004004,    0.005005,    0.006006,    0.007007,    0.008008,    0.009009,     0.01001,    0.011011,    0.012012,    0.013013,    0.014014,    0.015015,    0.016016,    0.017017,    0.018018,    0.019019,     0.02002,    0.021021,    0.022022,    0.023023,\n",
              "          0.024024,    0.025025,    0.026026,    0.027027,    0.028028,    0.029029,     0.03003,    0.031031,    0.032032,    0.033033,    0.034034,    0.035035,    0.036036,    0.037037,    0.038038,    0.039039,     0.04004,    0.041041,    0.042042,    0.043043,    0.044044,    0.045045,    0.046046,    0.047047,\n",
              "          0.048048,    0.049049,     0.05005,    0.051051,    0.052052,    0.053053,    0.054054,    0.055055,    0.056056,    0.057057,    0.058058,    0.059059,     0.06006,    0.061061,    0.062062,    0.063063,    0.064064,    0.065065,    0.066066,    0.067067,    0.068068,    0.069069,     0.07007,    0.071071,\n",
              "          0.072072,    0.073073,    0.074074,    0.075075,    0.076076,    0.077077,    0.078078,    0.079079,     0.08008,    0.081081,    0.082082,    0.083083,    0.084084,    0.085085,    0.086086,    0.087087,    0.088088,    0.089089,     0.09009,    0.091091,    0.092092,    0.093093,    0.094094,    0.095095,\n",
              "          0.096096,    0.097097,    0.098098,    0.099099,      0.1001,      0.1011,      0.1021,      0.1031,      0.1041,     0.10511,     0.10611,     0.10711,     0.10811,     0.10911,     0.11011,     0.11111,     0.11211,     0.11311,     0.11411,     0.11512,     0.11612,     0.11712,     0.11812,     0.11912,\n",
              "           0.12012,     0.12112,     0.12212,     0.12312,     0.12412,     0.12513,     0.12613,     0.12713,     0.12813,     0.12913,     0.13013,     0.13113,     0.13213,     0.13313,     0.13413,     0.13514,     0.13614,     0.13714,     0.13814,     0.13914,     0.14014,     0.14114,     0.14214,     0.14314,\n",
              "           0.14414,     0.14515,     0.14615,     0.14715,     0.14815,     0.14915,     0.15015,     0.15115,     0.15215,     0.15315,     0.15415,     0.15516,     0.15616,     0.15716,     0.15816,     0.15916,     0.16016,     0.16116,     0.16216,     0.16316,     0.16416,     0.16517,     0.16617,     0.16717,\n",
              "           0.16817,     0.16917,     0.17017,     0.17117,     0.17217,     0.17317,     0.17417,     0.17518,     0.17618,     0.17718,     0.17818,     0.17918,     0.18018,     0.18118,     0.18218,     0.18318,     0.18418,     0.18519,     0.18619,     0.18719,     0.18819,     0.18919,     0.19019,     0.19119,\n",
              "           0.19219,     0.19319,     0.19419,      0.1952,      0.1962,      0.1972,      0.1982,      0.1992,      0.2002,      0.2012,      0.2022,      0.2032,      0.2042,     0.20521,     0.20621,     0.20721,     0.20821,     0.20921,     0.21021,     0.21121,     0.21221,     0.21321,     0.21421,     0.21522,\n",
              "           0.21622,     0.21722,     0.21822,     0.21922,     0.22022,     0.22122,     0.22222,     0.22322,     0.22422,     0.22523,     0.22623,     0.22723,     0.22823,     0.22923,     0.23023,     0.23123,     0.23223,     0.23323,     0.23423,     0.23524,     0.23624,     0.23724,     0.23824,     0.23924,\n",
              "           0.24024,     0.24124,     0.24224,     0.24324,     0.24424,     0.24525,     0.24625,     0.24725,     0.24825,     0.24925,     0.25025,     0.25125,     0.25225,     0.25325,     0.25425,     0.25526,     0.25626,     0.25726,     0.25826,     0.25926,     0.26026,     0.26126,     0.26226,     0.26326,\n",
              "           0.26426,     0.26527,     0.26627,     0.26727,     0.26827,     0.26927,     0.27027,     0.27127,     0.27227,     0.27327,     0.27427,     0.27528,     0.27628,     0.27728,     0.27828,     0.27928,     0.28028,     0.28128,     0.28228,     0.28328,     0.28428,     0.28529,     0.28629,     0.28729,\n",
              "           0.28829,     0.28929,     0.29029,     0.29129,     0.29229,     0.29329,     0.29429,      0.2953,      0.2963,      0.2973,      0.2983,      0.2993,      0.3003,      0.3013,      0.3023,      0.3033,      0.3043,     0.30531,     0.30631,     0.30731,     0.30831,     0.30931,     0.31031,     0.31131,\n",
              "           0.31231,     0.31331,     0.31431,     0.31532,     0.31632,     0.31732,     0.31832,     0.31932,     0.32032,     0.32132,     0.32232,     0.32332,     0.32432,     0.32533,     0.32633,     0.32733,     0.32833,     0.32933,     0.33033,     0.33133,     0.33233,     0.33333,     0.33433,     0.33534,\n",
              "           0.33634,     0.33734,     0.33834,     0.33934,     0.34034,     0.34134,     0.34234,     0.34334,     0.34434,     0.34535,     0.34635,     0.34735,     0.34835,     0.34935,     0.35035,     0.35135,     0.35235,     0.35335,     0.35435,     0.35536,     0.35636,     0.35736,     0.35836,     0.35936,\n",
              "           0.36036,     0.36136,     0.36236,     0.36336,     0.36436,     0.36537,     0.36637,     0.36737,     0.36837,     0.36937,     0.37037,     0.37137,     0.37237,     0.37337,     0.37437,     0.37538,     0.37638,     0.37738,     0.37838,     0.37938,     0.38038,     0.38138,     0.38238,     0.38338,\n",
              "           0.38438,     0.38539,     0.38639,     0.38739,     0.38839,     0.38939,     0.39039,     0.39139,     0.39239,     0.39339,     0.39439,      0.3954,      0.3964,      0.3974,      0.3984,      0.3994,      0.4004,      0.4014,      0.4024,      0.4034,      0.4044,     0.40541,     0.40641,     0.40741,\n",
              "           0.40841,     0.40941,     0.41041,     0.41141,     0.41241,     0.41341,     0.41441,     0.41542,     0.41642,     0.41742,     0.41842,     0.41942,     0.42042,     0.42142,     0.42242,     0.42342,     0.42442,     0.42543,     0.42643,     0.42743,     0.42843,     0.42943,     0.43043,     0.43143,\n",
              "           0.43243,     0.43343,     0.43443,     0.43544,     0.43644,     0.43744,     0.43844,     0.43944,     0.44044,     0.44144,     0.44244,     0.44344,     0.44444,     0.44545,     0.44645,     0.44745,     0.44845,     0.44945,     0.45045,     0.45145,     0.45245,     0.45345,     0.45445,     0.45546,\n",
              "           0.45646,     0.45746,     0.45846,     0.45946,     0.46046,     0.46146,     0.46246,     0.46346,     0.46446,     0.46547,     0.46647,     0.46747,     0.46847,     0.46947,     0.47047,     0.47147,     0.47247,     0.47347,     0.47447,     0.47548,     0.47648,     0.47748,     0.47848,     0.47948,\n",
              "           0.48048,     0.48148,     0.48248,     0.48348,     0.48448,     0.48549,     0.48649,     0.48749,     0.48849,     0.48949,     0.49049,     0.49149,     0.49249,     0.49349,     0.49449,      0.4955,      0.4965,      0.4975,      0.4985,      0.4995,      0.5005,      0.5015,      0.5025,      0.5035,\n",
              "            0.5045,     0.50551,     0.50651,     0.50751,     0.50851,     0.50951,     0.51051,     0.51151,     0.51251,     0.51351,     0.51451,     0.51552,     0.51652,     0.51752,     0.51852,     0.51952,     0.52052,     0.52152,     0.52252,     0.52352,     0.52452,     0.52553,     0.52653,     0.52753,\n",
              "           0.52853,     0.52953,     0.53053,     0.53153,     0.53253,     0.53353,     0.53453,     0.53554,     0.53654,     0.53754,     0.53854,     0.53954,     0.54054,     0.54154,     0.54254,     0.54354,     0.54454,     0.54555,     0.54655,     0.54755,     0.54855,     0.54955,     0.55055,     0.55155,\n",
              "           0.55255,     0.55355,     0.55455,     0.55556,     0.55656,     0.55756,     0.55856,     0.55956,     0.56056,     0.56156,     0.56256,     0.56356,     0.56456,     0.56557,     0.56657,     0.56757,     0.56857,     0.56957,     0.57057,     0.57157,     0.57257,     0.57357,     0.57457,     0.57558,\n",
              "           0.57658,     0.57758,     0.57858,     0.57958,     0.58058,     0.58158,     0.58258,     0.58358,     0.58458,     0.58559,     0.58659,     0.58759,     0.58859,     0.58959,     0.59059,     0.59159,     0.59259,     0.59359,     0.59459,      0.5956,      0.5966,      0.5976,      0.5986,      0.5996,\n",
              "            0.6006,      0.6016,      0.6026,      0.6036,      0.6046,     0.60561,     0.60661,     0.60761,     0.60861,     0.60961,     0.61061,     0.61161,     0.61261,     0.61361,     0.61461,     0.61562,     0.61662,     0.61762,     0.61862,     0.61962,     0.62062,     0.62162,     0.62262,     0.62362,\n",
              "           0.62462,     0.62563,     0.62663,     0.62763,     0.62863,     0.62963,     0.63063,     0.63163,     0.63263,     0.63363,     0.63463,     0.63564,     0.63664,     0.63764,     0.63864,     0.63964,     0.64064,     0.64164,     0.64264,     0.64364,     0.64464,     0.64565,     0.64665,     0.64765,\n",
              "           0.64865,     0.64965,     0.65065,     0.65165,     0.65265,     0.65365,     0.65465,     0.65566,     0.65666,     0.65766,     0.65866,     0.65966,     0.66066,     0.66166,     0.66266,     0.66366,     0.66466,     0.66567,     0.66667,     0.66767,     0.66867,     0.66967,     0.67067,     0.67167,\n",
              "           0.67267,     0.67367,     0.67467,     0.67568,     0.67668,     0.67768,     0.67868,     0.67968,     0.68068,     0.68168,     0.68268,     0.68368,     0.68468,     0.68569,     0.68669,     0.68769,     0.68869,     0.68969,     0.69069,     0.69169,     0.69269,     0.69369,     0.69469,      0.6957,\n",
              "            0.6967,      0.6977,      0.6987,      0.6997,      0.7007,      0.7017,      0.7027,      0.7037,      0.7047,     0.70571,     0.70671,     0.70771,     0.70871,     0.70971,     0.71071,     0.71171,     0.71271,     0.71371,     0.71471,     0.71572,     0.71672,     0.71772,     0.71872,     0.71972,\n",
              "           0.72072,     0.72172,     0.72272,     0.72372,     0.72472,     0.72573,     0.72673,     0.72773,     0.72873,     0.72973,     0.73073,     0.73173,     0.73273,     0.73373,     0.73473,     0.73574,     0.73674,     0.73774,     0.73874,     0.73974,     0.74074,     0.74174,     0.74274,     0.74374,\n",
              "           0.74474,     0.74575,     0.74675,     0.74775,     0.74875,     0.74975,     0.75075,     0.75175,     0.75275,     0.75375,     0.75475,     0.75576,     0.75676,     0.75776,     0.75876,     0.75976,     0.76076,     0.76176,     0.76276,     0.76376,     0.76476,     0.76577,     0.76677,     0.76777,\n",
              "           0.76877,     0.76977,     0.77077,     0.77177,     0.77277,     0.77377,     0.77477,     0.77578,     0.77678,     0.77778,     0.77878,     0.77978,     0.78078,     0.78178,     0.78278,     0.78378,     0.78478,     0.78579,     0.78679,     0.78779,     0.78879,     0.78979,     0.79079,     0.79179,\n",
              "           0.79279,     0.79379,     0.79479,      0.7958,      0.7968,      0.7978,      0.7988,      0.7998,      0.8008,      0.8018,      0.8028,      0.8038,      0.8048,     0.80581,     0.80681,     0.80781,     0.80881,     0.80981,     0.81081,     0.81181,     0.81281,     0.81381,     0.81481,     0.81582,\n",
              "           0.81682,     0.81782,     0.81882,     0.81982,     0.82082,     0.82182,     0.82282,     0.82382,     0.82482,     0.82583,     0.82683,     0.82783,     0.82883,     0.82983,     0.83083,     0.83183,     0.83283,     0.83383,     0.83483,     0.83584,     0.83684,     0.83784,     0.83884,     0.83984,\n",
              "           0.84084,     0.84184,     0.84284,     0.84384,     0.84484,     0.84585,     0.84685,     0.84785,     0.84885,     0.84985,     0.85085,     0.85185,     0.85285,     0.85385,     0.85485,     0.85586,     0.85686,     0.85786,     0.85886,     0.85986,     0.86086,     0.86186,     0.86286,     0.86386,\n",
              "           0.86486,     0.86587,     0.86687,     0.86787,     0.86887,     0.86987,     0.87087,     0.87187,     0.87287,     0.87387,     0.87487,     0.87588,     0.87688,     0.87788,     0.87888,     0.87988,     0.88088,     0.88188,     0.88288,     0.88388,     0.88488,     0.88589,     0.88689,     0.88789,\n",
              "           0.88889,     0.88989,     0.89089,     0.89189,     0.89289,     0.89389,     0.89489,      0.8959,      0.8969,      0.8979,      0.8989,      0.8999,      0.9009,      0.9019,      0.9029,      0.9039,      0.9049,     0.90591,     0.90691,     0.90791,     0.90891,     0.90991,     0.91091,     0.91191,\n",
              "           0.91291,     0.91391,     0.91491,     0.91592,     0.91692,     0.91792,     0.91892,     0.91992,     0.92092,     0.92192,     0.92292,     0.92392,     0.92492,     0.92593,     0.92693,     0.92793,     0.92893,     0.92993,     0.93093,     0.93193,     0.93293,     0.93393,     0.93493,     0.93594,\n",
              "           0.93694,     0.93794,     0.93894,     0.93994,     0.94094,     0.94194,     0.94294,     0.94394,     0.94494,     0.94595,     0.94695,     0.94795,     0.94895,     0.94995,     0.95095,     0.95195,     0.95295,     0.95395,     0.95495,     0.95596,     0.95696,     0.95796,     0.95896,     0.95996,\n",
              "           0.96096,     0.96196,     0.96296,     0.96396,     0.96496,     0.96597,     0.96697,     0.96797,     0.96897,     0.96997,     0.97097,     0.97197,     0.97297,     0.97397,     0.97497,     0.97598,     0.97698,     0.97798,     0.97898,     0.97998,     0.98098,     0.98198,     0.98298,     0.98398,\n",
              "           0.98498,     0.98599,     0.98699,     0.98799,     0.98899,     0.98999,     0.99099,     0.99199,     0.99299,     0.99399,     0.99499,       0.996,       0.997,       0.998,       0.999,           1]), array([[    0.61667,     0.61667,     0.82343,     0.84303,     0.85636,       0.867,     0.88485,     0.89658,     0.89795,     0.90365,     0.90538,      0.9067,     0.90827,     0.91144,     0.91251,     0.91413,     0.91545,     0.91663,     0.92452,     0.92785,     0.94241,     0.94347,      0.9449,\n",
              "            0.94885,     0.95622,     0.96556,     0.96723,     0.96875,     0.97058,     0.97464,     0.97837,     0.97843,     0.97849,     0.97854,      0.9786,     0.97866,     0.97871,     0.97877,     0.97883,     0.97888,     0.97894,       0.979,     0.97905,     0.97911,     0.97917,     0.97922,\n",
              "            0.97928,     0.97934,     0.97939,     0.97945,     0.97951,     0.97956,     0.97962,     0.97968,     0.97973,     0.97979,     0.97984,      0.9799,     0.97996,     0.98001,     0.98007,     0.98013,     0.98018,     0.98024,      0.9803,     0.98035,     0.98041,     0.98047,     0.98052,\n",
              "            0.98058,     0.98064,     0.98069,     0.98311,     0.98316,     0.98321,     0.98326,      0.9833,     0.98335,      0.9834,     0.98344,     0.98349,     0.98354,     0.98359,     0.98363,     0.98368,     0.98373,     0.98377,     0.98382,     0.98387,     0.98392,     0.98396,     0.98401,\n",
              "            0.98406,      0.9841,     0.98415,      0.9842,     0.98425,     0.98429,     0.98434,     0.98439,     0.98443,     0.98448,     0.98453,     0.98458,     0.98462,     0.98467,     0.98472,     0.98476,     0.98481,     0.98486,     0.98491,     0.98495,       0.985,     0.98505,     0.98509,\n",
              "            0.98514,     0.98519,     0.98524,     0.98528,     0.98533,     0.98538,     0.98542,     0.98547,     0.98803,     0.98821,     0.98838,     0.98855,     0.98872,      0.9889,     0.98907,     0.98924,     0.98941,     0.98958,     0.98976,     0.98993,      0.9901,     0.99268,     0.99269,\n",
              "            0.99269,      0.9927,     0.99271,     0.99271,     0.99272,     0.99272,     0.99273,     0.99274,     0.99274,     0.99275,     0.99275,     0.99276,     0.99276,     0.99277,     0.99278,     0.99278,     0.99279,     0.99279,      0.9928,      0.9928,     0.99281,     0.99282,     0.99282,\n",
              "            0.99283,     0.99283,     0.99284,     0.99284,     0.99285,     0.99286,     0.99286,     0.99287,     0.99287,     0.99288,     0.99289,     0.99289,      0.9929,      0.9929,     0.99291,     0.99291,     0.99292,     0.99293,     0.99293,     0.99294,     0.99294,     0.99295,     0.99295,\n",
              "            0.99296,     0.99297,     0.99297,     0.99298,     0.99298,     0.99299,       0.993,       0.993,     0.99301,     0.99301,     0.99302,     0.99302,     0.99303,     0.99304,     0.99304,     0.99305,     0.99305,     0.99306,     0.99306,     0.99307,     0.99308,     0.99308,     0.99309,\n",
              "            0.99309,      0.9931,      0.9931,     0.99311,     0.99312,     0.99312,     0.99313,     0.99313,     0.99314,     0.99315,     0.99315,     0.99316,     0.99316,     0.99317,     0.99317,     0.99318,     0.99319,     0.99319,      0.9932,      0.9932,     0.99321,     0.99321,     0.99322,\n",
              "            0.99323,     0.99323,     0.99324,     0.99324,     0.99325,     0.99326,     0.99326,     0.99327,     0.99327,     0.99328,     0.99328,     0.99329,      0.9933,      0.9933,     0.99331,     0.99331,     0.99332,     0.99332,     0.99333,     0.99334,     0.99334,     0.99335,     0.99335,\n",
              "            0.99336,     0.99336,     0.99337,     0.99338,     0.99338,     0.99339,     0.99339,      0.9934,     0.99341,     0.99341,     0.99342,     0.99342,     0.99343,     0.99343,     0.99344,     0.99345,     0.99345,     0.99346,     0.99346,     0.99347,     0.99347,     0.99348,     0.99349,\n",
              "            0.99349,      0.9935,      0.9935,     0.99351,     0.99352,     0.99352,     0.99353,     0.99353,     0.99354,     0.99354,     0.99355,     0.99356,     0.99356,     0.99357,     0.99357,     0.99358,     0.99358,     0.99359,      0.9936,      0.9936,     0.99361,     0.99361,     0.99362,\n",
              "            0.99362,     0.99363,     0.99364,     0.99364,     0.99365,     0.99365,     0.99366,     0.99367,     0.99367,     0.99368,     0.99368,     0.99369,     0.99369,      0.9937,     0.99371,     0.99371,     0.99372,     0.99372,     0.99373,     0.99373,     0.99374,     0.99375,     0.99375,\n",
              "            0.99376,     0.99376,     0.99377,     0.99377,     0.99378,     0.99379,     0.99379,      0.9938,      0.9938,     0.99381,     0.99382,     0.99382,     0.99383,     0.99383,     0.99384,     0.99384,     0.99385,     0.99386,     0.99386,     0.99387,     0.99387,     0.99388,     0.99388,\n",
              "            0.99389,      0.9939,      0.9939,     0.99391,     0.99391,     0.99392,     0.99393,     0.99393,     0.99394,     0.99394,     0.99395,     0.99395,     0.99396,     0.99397,     0.99397,     0.99398,     0.99398,     0.99399,     0.99399,       0.994,     0.99401,     0.99401,     0.99402,\n",
              "            0.99402,     0.99403,     0.99403,     0.99404,     0.99405,     0.99405,     0.99406,     0.99406,     0.99407,     0.99408,     0.99408,     0.99409,     0.99409,      0.9941,      0.9941,     0.99411,     0.99412,     0.99412,     0.99413,     0.99413,     0.99414,     0.99414,     0.99415,\n",
              "            0.99416,     0.99416,     0.99417,     0.99417,     0.99418,     0.99419,     0.99419,      0.9942,      0.9942,     0.99421,     0.99421,     0.99422,     0.99423,     0.99423,     0.99424,     0.99424,     0.99425,     0.99425,     0.99426,     0.99427,     0.99427,     0.99428,     0.99428,\n",
              "            0.99429,     0.99429,      0.9943,     0.99431,     0.99431,     0.99432,     0.99432,     0.99433,     0.99434,     0.99434,     0.99435,     0.99435,     0.99436,     0.99436,     0.99437,     0.99438,     0.99438,     0.99439,     0.99439,      0.9944,      0.9944,     0.99441,     0.99442,\n",
              "            0.99442,     0.99443,     0.99443,     0.99444,     0.99445,     0.99445,     0.99446,     0.99446,     0.99447,     0.99447,     0.99448,     0.99449,     0.99449,      0.9945,      0.9945,     0.99451,     0.99451,     0.99452,     0.99453,     0.99453,     0.99454,     0.99454,     0.99455,\n",
              "            0.99455,     0.99456,     0.99457,     0.99457,     0.99458,     0.99458,     0.99459,      0.9946,      0.9946,     0.99461,     0.99461,     0.99462,     0.99462,     0.99463,     0.99464,     0.99464,     0.99465,     0.99465,     0.99466,     0.99466,     0.99467,     0.99468,     0.99468,\n",
              "            0.99469,     0.99469,      0.9947,     0.99471,     0.99471,     0.99472,     0.99472,     0.99473,     0.99473,     0.99474,     0.99475,     0.99475,     0.99476,     0.99476,     0.99477,     0.99477,     0.99478,     0.99479,     0.99479,      0.9948,      0.9948,     0.99481,     0.99481,\n",
              "            0.99482,     0.99483,     0.99483,     0.99484,     0.99484,     0.99485,     0.99486,     0.99486,     0.99487,     0.99487,     0.99488,     0.99488,     0.99489,      0.9949,      0.9949,     0.99491,     0.99491,     0.99492,     0.99492,     0.99493,     0.99494,     0.99494,     0.99495,\n",
              "            0.99495,     0.99496,     0.99497,     0.99497,     0.99498,     0.99498,     0.99499,     0.99499,       0.995,     0.99501,     0.99501,     0.99502,     0.99502,     0.99503,     0.99503,     0.99504,     0.99505,     0.99505,     0.99506,     0.99506,     0.99507,     0.99507,     0.99508,\n",
              "            0.99509,     0.99509,      0.9951,      0.9951,     0.99511,     0.99512,     0.99513,     0.99515,     0.99516,     0.99517,     0.99518,      0.9952,     0.99521,     0.99522,     0.99523,     0.99525,     0.99526,     0.99527,     0.99528,      0.9953,     0.99531,     0.99532,     0.99533,\n",
              "            0.99535,     0.99536,     0.99537,     0.99538,      0.9954,     0.99541,     0.99542,     0.99543,     0.99545,     0.99546,     0.99547,     0.99548,      0.9955,     0.99551,     0.99552,     0.99553,     0.99555,     0.99556,     0.99557,     0.99558,      0.9956,     0.99561,     0.99562,\n",
              "            0.99563,     0.99565,     0.99566,     0.99567,     0.99568,      0.9957,     0.99571,     0.99572,     0.99573,     0.99575,     0.99576,     0.99577,     0.99578,      0.9958,     0.99581,     0.99582,     0.99583,     0.99585,     0.99586,     0.99587,     0.99588,      0.9959,     0.99591,\n",
              "            0.99592,     0.99593,     0.99595,     0.99596,     0.99597,     0.99598,       0.996,     0.99601,     0.99602,     0.99603,     0.99605,     0.99606,     0.99607,     0.99608,      0.9961,     0.99611,     0.99612,     0.99613,     0.99615,     0.99616,     0.99617,     0.99618,      0.9962,\n",
              "            0.99621,     0.99622,     0.99623,     0.99625,     0.99626,     0.99627,     0.99628,      0.9963,     0.99631,     0.99632,     0.99633,     0.99635,     0.99636,     0.99637,     0.99638,      0.9964,     0.99641,     0.99642,     0.99643,     0.99645,     0.99646,     0.99647,     0.99648,\n",
              "             0.9965,     0.99651,     0.99652,     0.99653,     0.99655,     0.99656,     0.99657,     0.99658,      0.9966,     0.99661,     0.99662,     0.99663,     0.99665,     0.99666,     0.99667,     0.99668,      0.9967,     0.99671,     0.99672,     0.99673,     0.99675,     0.99676,     0.99677,\n",
              "            0.99678,      0.9968,     0.99681,     0.99682,     0.99683,     0.99685,     0.99686,     0.99687,     0.99688,      0.9969,     0.99691,     0.99692,     0.99693,     0.99695,     0.99696,     0.99697,     0.99698,       0.997,     0.99701,     0.99702,     0.99703,     0.99705,     0.99706,\n",
              "            0.99707,     0.99708,      0.9971,     0.99711,     0.99712,     0.99713,     0.99715,     0.99716,     0.99717,     0.99718,      0.9972,     0.99721,     0.99722,     0.99723,     0.99725,     0.99726,     0.99727,     0.99728,      0.9973,     0.99731,     0.99732,     0.99733,     0.99735,\n",
              "            0.99736,     0.99737,     0.99738,      0.9974,     0.99741,     0.99742,     0.99743,     0.99745,     0.99746,     0.99747,     0.99748,      0.9975,     0.99751,     0.99752,     0.99753,     0.99755,     0.99755,     0.99755,     0.99755,     0.99755,     0.99755,     0.99755,     0.99755,\n",
              "            0.99755,     0.99755,     0.99755,     0.99755,     0.99755,     0.99755,     0.99755,     0.99755,     0.99755,     0.99755,     0.99755,     0.99755,     0.99755,     0.99755,     0.99755,     0.99755,     0.99755,     0.99755,     0.99755,     0.99755,     0.99755,     0.99755,     0.99754,\n",
              "            0.99754,     0.99754,     0.99754,     0.99754,     0.99754,     0.99754,     0.99754,     0.99754,     0.99754,     0.99754,     0.99754,     0.99754,     0.99754,     0.99754,      0.9998,           1,           1,           1,           1,           1,           1,           1,           1,\n",
              "                  1,           1,           1,           1,           1,           1,           1,           1,           1,           1,           1,           1,           1,           1,           1,           1,           1,           1,           1,           1,           1,           1,           1,\n",
              "                  1,           1,           1,           1,           1,           1,           1,           1,           1,           1,           1,           1,           1,           1,           1,           1,           1,           1,           1,           1,           1,           1,           1,\n",
              "                  1,           1,           1,           1,           1,           1,           1,           1,           1,           1,           1,           1,           1,           1,           1,           1,           1,           1,           1,           1,           1,           1,           1,\n",
              "                  1,           1,           1,           1,           1,           1,           1,           1,           1,           1,           1,           1,           1,           1,           1,           1,           1,           1,           1,           1,           1,           1,           1,\n",
              "                  1,           1,           1,           1,           1,           1,           1,           1,           1,           1,           1,           1,           1,           1,           1,           1,           1,           1,           1,           1,           1,           1,           1,\n",
              "                  1,           1,           1,           1,           1,           1,           1,           1,           1,           1,           1,           1,           1,           1,           1,           1,           1,           1,           1,           1,           1,           1,           1,\n",
              "                  1,           1,           1,           1,           1,           1,           1,           1,           1,           1,           1,           1,           1,           1,           1,           1,           1,           1,           1,           1,           1,           1,           1,\n",
              "                  1,           1,           1,           1,           1,           1,           1,           1,           1,           1,           1,           1,           1,           1,           1,           1,           1,           1,           1,           1,           1,           1,           1,\n",
              "                  1,           1,           1,           1,           1,           1,           1,           1,           1,           1,           1]]), 'Confidence', 'Precision'], [array([          0,    0.001001,    0.002002,    0.003003,    0.004004,    0.005005,    0.006006,    0.007007,    0.008008,    0.009009,     0.01001,    0.011011,    0.012012,    0.013013,    0.014014,    0.015015,    0.016016,    0.017017,    0.018018,    0.019019,     0.02002,    0.021021,    0.022022,    0.023023,\n",
              "          0.024024,    0.025025,    0.026026,    0.027027,    0.028028,    0.029029,     0.03003,    0.031031,    0.032032,    0.033033,    0.034034,    0.035035,    0.036036,    0.037037,    0.038038,    0.039039,     0.04004,    0.041041,    0.042042,    0.043043,    0.044044,    0.045045,    0.046046,    0.047047,\n",
              "          0.048048,    0.049049,     0.05005,    0.051051,    0.052052,    0.053053,    0.054054,    0.055055,    0.056056,    0.057057,    0.058058,    0.059059,     0.06006,    0.061061,    0.062062,    0.063063,    0.064064,    0.065065,    0.066066,    0.067067,    0.068068,    0.069069,     0.07007,    0.071071,\n",
              "          0.072072,    0.073073,    0.074074,    0.075075,    0.076076,    0.077077,    0.078078,    0.079079,     0.08008,    0.081081,    0.082082,    0.083083,    0.084084,    0.085085,    0.086086,    0.087087,    0.088088,    0.089089,     0.09009,    0.091091,    0.092092,    0.093093,    0.094094,    0.095095,\n",
              "          0.096096,    0.097097,    0.098098,    0.099099,      0.1001,      0.1011,      0.1021,      0.1031,      0.1041,     0.10511,     0.10611,     0.10711,     0.10811,     0.10911,     0.11011,     0.11111,     0.11211,     0.11311,     0.11411,     0.11512,     0.11612,     0.11712,     0.11812,     0.11912,\n",
              "           0.12012,     0.12112,     0.12212,     0.12312,     0.12412,     0.12513,     0.12613,     0.12713,     0.12813,     0.12913,     0.13013,     0.13113,     0.13213,     0.13313,     0.13413,     0.13514,     0.13614,     0.13714,     0.13814,     0.13914,     0.14014,     0.14114,     0.14214,     0.14314,\n",
              "           0.14414,     0.14515,     0.14615,     0.14715,     0.14815,     0.14915,     0.15015,     0.15115,     0.15215,     0.15315,     0.15415,     0.15516,     0.15616,     0.15716,     0.15816,     0.15916,     0.16016,     0.16116,     0.16216,     0.16316,     0.16416,     0.16517,     0.16617,     0.16717,\n",
              "           0.16817,     0.16917,     0.17017,     0.17117,     0.17217,     0.17317,     0.17417,     0.17518,     0.17618,     0.17718,     0.17818,     0.17918,     0.18018,     0.18118,     0.18218,     0.18318,     0.18418,     0.18519,     0.18619,     0.18719,     0.18819,     0.18919,     0.19019,     0.19119,\n",
              "           0.19219,     0.19319,     0.19419,      0.1952,      0.1962,      0.1972,      0.1982,      0.1992,      0.2002,      0.2012,      0.2022,      0.2032,      0.2042,     0.20521,     0.20621,     0.20721,     0.20821,     0.20921,     0.21021,     0.21121,     0.21221,     0.21321,     0.21421,     0.21522,\n",
              "           0.21622,     0.21722,     0.21822,     0.21922,     0.22022,     0.22122,     0.22222,     0.22322,     0.22422,     0.22523,     0.22623,     0.22723,     0.22823,     0.22923,     0.23023,     0.23123,     0.23223,     0.23323,     0.23423,     0.23524,     0.23624,     0.23724,     0.23824,     0.23924,\n",
              "           0.24024,     0.24124,     0.24224,     0.24324,     0.24424,     0.24525,     0.24625,     0.24725,     0.24825,     0.24925,     0.25025,     0.25125,     0.25225,     0.25325,     0.25425,     0.25526,     0.25626,     0.25726,     0.25826,     0.25926,     0.26026,     0.26126,     0.26226,     0.26326,\n",
              "           0.26426,     0.26527,     0.26627,     0.26727,     0.26827,     0.26927,     0.27027,     0.27127,     0.27227,     0.27327,     0.27427,     0.27528,     0.27628,     0.27728,     0.27828,     0.27928,     0.28028,     0.28128,     0.28228,     0.28328,     0.28428,     0.28529,     0.28629,     0.28729,\n",
              "           0.28829,     0.28929,     0.29029,     0.29129,     0.29229,     0.29329,     0.29429,      0.2953,      0.2963,      0.2973,      0.2983,      0.2993,      0.3003,      0.3013,      0.3023,      0.3033,      0.3043,     0.30531,     0.30631,     0.30731,     0.30831,     0.30931,     0.31031,     0.31131,\n",
              "           0.31231,     0.31331,     0.31431,     0.31532,     0.31632,     0.31732,     0.31832,     0.31932,     0.32032,     0.32132,     0.32232,     0.32332,     0.32432,     0.32533,     0.32633,     0.32733,     0.32833,     0.32933,     0.33033,     0.33133,     0.33233,     0.33333,     0.33433,     0.33534,\n",
              "           0.33634,     0.33734,     0.33834,     0.33934,     0.34034,     0.34134,     0.34234,     0.34334,     0.34434,     0.34535,     0.34635,     0.34735,     0.34835,     0.34935,     0.35035,     0.35135,     0.35235,     0.35335,     0.35435,     0.35536,     0.35636,     0.35736,     0.35836,     0.35936,\n",
              "           0.36036,     0.36136,     0.36236,     0.36336,     0.36436,     0.36537,     0.36637,     0.36737,     0.36837,     0.36937,     0.37037,     0.37137,     0.37237,     0.37337,     0.37437,     0.37538,     0.37638,     0.37738,     0.37838,     0.37938,     0.38038,     0.38138,     0.38238,     0.38338,\n",
              "           0.38438,     0.38539,     0.38639,     0.38739,     0.38839,     0.38939,     0.39039,     0.39139,     0.39239,     0.39339,     0.39439,      0.3954,      0.3964,      0.3974,      0.3984,      0.3994,      0.4004,      0.4014,      0.4024,      0.4034,      0.4044,     0.40541,     0.40641,     0.40741,\n",
              "           0.40841,     0.40941,     0.41041,     0.41141,     0.41241,     0.41341,     0.41441,     0.41542,     0.41642,     0.41742,     0.41842,     0.41942,     0.42042,     0.42142,     0.42242,     0.42342,     0.42442,     0.42543,     0.42643,     0.42743,     0.42843,     0.42943,     0.43043,     0.43143,\n",
              "           0.43243,     0.43343,     0.43443,     0.43544,     0.43644,     0.43744,     0.43844,     0.43944,     0.44044,     0.44144,     0.44244,     0.44344,     0.44444,     0.44545,     0.44645,     0.44745,     0.44845,     0.44945,     0.45045,     0.45145,     0.45245,     0.45345,     0.45445,     0.45546,\n",
              "           0.45646,     0.45746,     0.45846,     0.45946,     0.46046,     0.46146,     0.46246,     0.46346,     0.46446,     0.46547,     0.46647,     0.46747,     0.46847,     0.46947,     0.47047,     0.47147,     0.47247,     0.47347,     0.47447,     0.47548,     0.47648,     0.47748,     0.47848,     0.47948,\n",
              "           0.48048,     0.48148,     0.48248,     0.48348,     0.48448,     0.48549,     0.48649,     0.48749,     0.48849,     0.48949,     0.49049,     0.49149,     0.49249,     0.49349,     0.49449,      0.4955,      0.4965,      0.4975,      0.4985,      0.4995,      0.5005,      0.5015,      0.5025,      0.5035,\n",
              "            0.5045,     0.50551,     0.50651,     0.50751,     0.50851,     0.50951,     0.51051,     0.51151,     0.51251,     0.51351,     0.51451,     0.51552,     0.51652,     0.51752,     0.51852,     0.51952,     0.52052,     0.52152,     0.52252,     0.52352,     0.52452,     0.52553,     0.52653,     0.52753,\n",
              "           0.52853,     0.52953,     0.53053,     0.53153,     0.53253,     0.53353,     0.53453,     0.53554,     0.53654,     0.53754,     0.53854,     0.53954,     0.54054,     0.54154,     0.54254,     0.54354,     0.54454,     0.54555,     0.54655,     0.54755,     0.54855,     0.54955,     0.55055,     0.55155,\n",
              "           0.55255,     0.55355,     0.55455,     0.55556,     0.55656,     0.55756,     0.55856,     0.55956,     0.56056,     0.56156,     0.56256,     0.56356,     0.56456,     0.56557,     0.56657,     0.56757,     0.56857,     0.56957,     0.57057,     0.57157,     0.57257,     0.57357,     0.57457,     0.57558,\n",
              "           0.57658,     0.57758,     0.57858,     0.57958,     0.58058,     0.58158,     0.58258,     0.58358,     0.58458,     0.58559,     0.58659,     0.58759,     0.58859,     0.58959,     0.59059,     0.59159,     0.59259,     0.59359,     0.59459,      0.5956,      0.5966,      0.5976,      0.5986,      0.5996,\n",
              "            0.6006,      0.6016,      0.6026,      0.6036,      0.6046,     0.60561,     0.60661,     0.60761,     0.60861,     0.60961,     0.61061,     0.61161,     0.61261,     0.61361,     0.61461,     0.61562,     0.61662,     0.61762,     0.61862,     0.61962,     0.62062,     0.62162,     0.62262,     0.62362,\n",
              "           0.62462,     0.62563,     0.62663,     0.62763,     0.62863,     0.62963,     0.63063,     0.63163,     0.63263,     0.63363,     0.63463,     0.63564,     0.63664,     0.63764,     0.63864,     0.63964,     0.64064,     0.64164,     0.64264,     0.64364,     0.64464,     0.64565,     0.64665,     0.64765,\n",
              "           0.64865,     0.64965,     0.65065,     0.65165,     0.65265,     0.65365,     0.65465,     0.65566,     0.65666,     0.65766,     0.65866,     0.65966,     0.66066,     0.66166,     0.66266,     0.66366,     0.66466,     0.66567,     0.66667,     0.66767,     0.66867,     0.66967,     0.67067,     0.67167,\n",
              "           0.67267,     0.67367,     0.67467,     0.67568,     0.67668,     0.67768,     0.67868,     0.67968,     0.68068,     0.68168,     0.68268,     0.68368,     0.68468,     0.68569,     0.68669,     0.68769,     0.68869,     0.68969,     0.69069,     0.69169,     0.69269,     0.69369,     0.69469,      0.6957,\n",
              "            0.6967,      0.6977,      0.6987,      0.6997,      0.7007,      0.7017,      0.7027,      0.7037,      0.7047,     0.70571,     0.70671,     0.70771,     0.70871,     0.70971,     0.71071,     0.71171,     0.71271,     0.71371,     0.71471,     0.71572,     0.71672,     0.71772,     0.71872,     0.71972,\n",
              "           0.72072,     0.72172,     0.72272,     0.72372,     0.72472,     0.72573,     0.72673,     0.72773,     0.72873,     0.72973,     0.73073,     0.73173,     0.73273,     0.73373,     0.73473,     0.73574,     0.73674,     0.73774,     0.73874,     0.73974,     0.74074,     0.74174,     0.74274,     0.74374,\n",
              "           0.74474,     0.74575,     0.74675,     0.74775,     0.74875,     0.74975,     0.75075,     0.75175,     0.75275,     0.75375,     0.75475,     0.75576,     0.75676,     0.75776,     0.75876,     0.75976,     0.76076,     0.76176,     0.76276,     0.76376,     0.76476,     0.76577,     0.76677,     0.76777,\n",
              "           0.76877,     0.76977,     0.77077,     0.77177,     0.77277,     0.77377,     0.77477,     0.77578,     0.77678,     0.77778,     0.77878,     0.77978,     0.78078,     0.78178,     0.78278,     0.78378,     0.78478,     0.78579,     0.78679,     0.78779,     0.78879,     0.78979,     0.79079,     0.79179,\n",
              "           0.79279,     0.79379,     0.79479,      0.7958,      0.7968,      0.7978,      0.7988,      0.7998,      0.8008,      0.8018,      0.8028,      0.8038,      0.8048,     0.80581,     0.80681,     0.80781,     0.80881,     0.80981,     0.81081,     0.81181,     0.81281,     0.81381,     0.81481,     0.81582,\n",
              "           0.81682,     0.81782,     0.81882,     0.81982,     0.82082,     0.82182,     0.82282,     0.82382,     0.82482,     0.82583,     0.82683,     0.82783,     0.82883,     0.82983,     0.83083,     0.83183,     0.83283,     0.83383,     0.83483,     0.83584,     0.83684,     0.83784,     0.83884,     0.83984,\n",
              "           0.84084,     0.84184,     0.84284,     0.84384,     0.84484,     0.84585,     0.84685,     0.84785,     0.84885,     0.84985,     0.85085,     0.85185,     0.85285,     0.85385,     0.85485,     0.85586,     0.85686,     0.85786,     0.85886,     0.85986,     0.86086,     0.86186,     0.86286,     0.86386,\n",
              "           0.86486,     0.86587,     0.86687,     0.86787,     0.86887,     0.86987,     0.87087,     0.87187,     0.87287,     0.87387,     0.87487,     0.87588,     0.87688,     0.87788,     0.87888,     0.87988,     0.88088,     0.88188,     0.88288,     0.88388,     0.88488,     0.88589,     0.88689,     0.88789,\n",
              "           0.88889,     0.88989,     0.89089,     0.89189,     0.89289,     0.89389,     0.89489,      0.8959,      0.8969,      0.8979,      0.8989,      0.8999,      0.9009,      0.9019,      0.9029,      0.9039,      0.9049,     0.90591,     0.90691,     0.90791,     0.90891,     0.90991,     0.91091,     0.91191,\n",
              "           0.91291,     0.91391,     0.91491,     0.91592,     0.91692,     0.91792,     0.91892,     0.91992,     0.92092,     0.92192,     0.92292,     0.92392,     0.92492,     0.92593,     0.92693,     0.92793,     0.92893,     0.92993,     0.93093,     0.93193,     0.93293,     0.93393,     0.93493,     0.93594,\n",
              "           0.93694,     0.93794,     0.93894,     0.93994,     0.94094,     0.94194,     0.94294,     0.94394,     0.94494,     0.94595,     0.94695,     0.94795,     0.94895,     0.94995,     0.95095,     0.95195,     0.95295,     0.95395,     0.95495,     0.95596,     0.95696,     0.95796,     0.95896,     0.95996,\n",
              "           0.96096,     0.96196,     0.96296,     0.96396,     0.96496,     0.96597,     0.96697,     0.96797,     0.96897,     0.96997,     0.97097,     0.97197,     0.97297,     0.97397,     0.97497,     0.97598,     0.97698,     0.97798,     0.97898,     0.97998,     0.98098,     0.98198,     0.98298,     0.98398,\n",
              "           0.98498,     0.98599,     0.98699,     0.98799,     0.98899,     0.98999,     0.99099,     0.99199,     0.99299,     0.99399,     0.99499,       0.996,       0.997,       0.998,       0.999,           1]), array([[    0.99511,     0.99511,     0.99511,     0.99511,     0.99511,     0.99511,     0.99511,     0.99511,     0.99511,     0.99511,     0.99511,     0.99511,     0.99511,     0.99511,     0.99511,     0.99511,     0.99511,     0.99511,     0.99511,     0.99511,     0.99511,     0.99511,     0.99511,\n",
              "            0.99511,     0.99511,     0.99511,     0.99511,     0.99511,     0.99511,     0.99511,     0.99511,     0.99511,     0.99511,     0.99511,     0.99511,     0.99511,     0.99511,     0.99511,     0.99511,     0.99511,     0.99511,     0.99511,     0.99511,     0.99511,     0.99511,     0.99511,\n",
              "            0.99511,     0.99511,     0.99511,     0.99511,     0.99511,     0.99511,     0.99511,     0.99511,     0.99511,     0.99511,     0.99511,     0.99511,     0.99511,     0.99511,     0.99511,     0.99511,     0.99511,     0.99511,     0.99511,     0.99511,     0.99511,     0.99511,     0.99511,\n",
              "            0.99511,     0.99511,     0.99511,     0.99511,     0.99511,     0.99511,     0.99511,     0.99511,     0.99511,     0.99511,     0.99511,     0.99511,     0.99511,     0.99511,     0.99511,     0.99511,     0.99511,     0.99511,     0.99511,     0.99511,     0.99511,     0.99511,     0.99511,\n",
              "            0.99511,     0.99511,     0.99511,     0.99511,     0.99511,     0.99511,     0.99511,     0.99511,     0.99511,     0.99511,     0.99511,     0.99511,     0.99511,     0.99511,     0.99511,     0.99511,     0.99511,     0.99511,     0.99511,     0.99511,     0.99511,     0.99511,     0.99511,\n",
              "            0.99511,     0.99511,     0.99511,     0.99511,     0.99511,     0.99511,     0.99511,     0.99511,     0.99511,     0.99511,     0.99511,     0.99511,     0.99511,     0.99511,     0.99511,     0.99511,     0.99511,     0.99511,     0.99511,     0.99511,     0.99511,     0.99511,     0.99511,\n",
              "            0.99511,     0.99511,     0.99511,     0.99511,     0.99511,     0.99511,     0.99511,     0.99511,     0.99511,     0.99511,     0.99511,     0.99511,     0.99511,     0.99511,     0.99511,     0.99511,     0.99511,     0.99511,     0.99511,     0.99511,     0.99511,     0.99511,     0.99511,\n",
              "            0.99511,     0.99511,     0.99511,     0.99511,     0.99511,     0.99511,     0.99511,     0.99511,     0.99511,     0.99511,     0.99511,     0.99511,     0.99511,     0.99511,     0.99511,     0.99511,     0.99511,     0.99511,     0.99511,     0.99511,     0.99511,     0.99511,     0.99511,\n",
              "            0.99511,     0.99511,     0.99511,     0.99511,     0.99511,     0.99511,     0.99511,     0.99511,     0.99511,     0.99511,     0.99511,     0.99511,     0.99511,     0.99511,     0.99511,     0.99511,     0.99511,     0.99511,     0.99511,     0.99511,     0.99511,     0.99511,     0.99511,\n",
              "            0.99511,     0.99511,     0.99511,     0.99511,     0.99511,     0.99511,     0.99511,     0.99511,     0.99511,     0.99511,     0.99511,     0.99511,     0.99511,     0.99511,     0.99511,     0.99511,     0.99511,     0.99511,     0.99511,     0.99511,     0.99511,     0.99511,     0.99511,\n",
              "            0.99511,     0.99511,     0.99511,     0.99511,     0.99511,     0.99511,     0.99511,     0.99511,     0.99511,     0.99511,     0.99511,     0.99511,     0.99511,     0.99511,     0.99511,     0.99511,     0.99511,     0.99511,     0.99511,     0.99511,     0.99511,     0.99511,     0.99511,\n",
              "            0.99511,     0.99511,     0.99511,     0.99511,     0.99511,     0.99511,     0.99511,     0.99511,     0.99511,     0.99511,     0.99511,     0.99511,     0.99511,     0.99511,     0.99511,     0.99511,     0.99511,     0.99511,     0.99511,     0.99511,     0.99511,     0.99511,     0.99511,\n",
              "            0.99511,     0.99511,     0.99511,     0.99511,     0.99511,     0.99511,     0.99511,     0.99511,     0.99511,     0.99511,     0.99511,     0.99511,     0.99511,     0.99511,     0.99511,     0.99511,     0.99511,     0.99511,     0.99511,     0.99511,     0.99511,     0.99511,     0.99511,\n",
              "            0.99511,     0.99511,     0.99511,     0.99511,     0.99511,     0.99511,     0.99511,     0.99511,     0.99511,     0.99511,     0.99511,     0.99511,     0.99511,     0.99511,     0.99511,     0.99511,     0.99511,     0.99511,     0.99511,     0.99511,     0.99511,     0.99511,     0.99511,\n",
              "            0.99511,     0.99511,     0.99511,     0.99511,     0.99511,     0.99511,     0.99511,     0.99511,     0.99511,     0.99511,     0.99511,     0.99511,     0.99511,     0.99511,     0.99511,     0.99511,     0.99511,     0.99511,     0.99511,     0.99511,     0.99511,     0.99511,     0.99511,\n",
              "            0.99511,     0.99511,     0.99511,     0.99511,     0.99511,     0.99511,     0.99511,     0.99511,     0.99511,     0.99511,     0.99511,     0.99511,     0.99511,     0.99511,     0.99511,     0.99511,     0.99511,     0.99511,     0.99511,     0.99511,     0.99511,     0.99511,     0.99511,\n",
              "            0.99511,     0.99511,     0.99511,     0.99511,     0.99511,     0.99511,     0.99511,     0.99511,     0.99511,     0.99511,     0.99511,     0.99511,     0.99511,     0.99511,     0.99511,     0.99511,     0.99511,     0.99511,     0.99511,     0.99511,     0.99511,     0.99511,     0.99511,\n",
              "            0.99511,     0.99511,     0.99511,     0.99511,     0.99511,     0.99511,     0.99511,     0.99511,     0.99511,     0.99511,     0.99511,     0.99511,     0.99511,     0.99511,     0.99511,     0.99511,     0.99511,     0.99511,     0.99511,     0.99511,     0.99511,     0.99511,     0.99511,\n",
              "            0.99511,     0.99511,     0.99511,     0.99511,     0.99511,     0.99511,     0.99511,     0.99511,     0.99511,     0.99511,     0.99511,     0.99511,     0.99511,     0.99511,     0.99511,     0.99511,     0.99511,     0.99511,     0.99511,     0.99511,     0.99511,     0.99511,     0.99511,\n",
              "            0.99511,     0.99511,     0.99511,     0.99511,     0.99511,     0.99511,     0.99511,     0.99511,     0.99511,     0.99511,     0.99511,     0.99511,     0.99511,     0.99511,     0.99511,     0.99511,     0.99511,     0.99511,     0.99511,     0.99511,     0.99511,     0.99511,     0.99511,\n",
              "            0.99511,     0.99511,     0.99511,     0.99511,     0.99511,     0.99511,     0.99511,     0.99511,     0.99511,     0.99511,     0.99511,     0.99511,     0.99511,     0.99511,     0.99511,     0.99511,     0.99511,     0.99511,     0.99511,     0.99511,     0.99511,     0.99511,     0.99511,\n",
              "            0.99511,     0.99511,     0.99511,     0.99511,     0.99511,     0.99511,     0.99511,     0.99511,     0.99511,     0.99511,     0.99511,     0.99511,     0.99511,     0.99511,     0.99511,     0.99511,     0.99511,     0.99511,     0.99511,     0.99511,     0.99511,     0.99511,     0.99511,\n",
              "            0.99511,     0.99511,     0.99511,     0.99511,     0.99511,     0.99511,     0.99511,     0.99511,     0.99511,     0.99511,     0.99511,     0.99511,     0.99511,     0.99511,     0.99511,     0.99511,     0.99511,     0.99511,     0.99511,     0.99511,     0.99511,     0.99511,     0.99511,\n",
              "            0.99511,     0.99511,     0.99511,     0.99511,     0.99511,     0.99511,     0.99511,     0.99511,     0.99511,     0.99511,     0.99511,     0.99511,     0.99511,     0.99511,     0.99511,     0.99511,     0.99511,     0.99511,     0.99511,     0.99511,     0.99511,     0.99511,     0.99511,\n",
              "            0.99511,     0.99511,     0.99511,     0.99511,     0.99511,     0.99511,     0.99511,     0.99511,     0.99511,     0.99511,     0.99511,     0.99511,     0.99511,     0.99511,     0.99511,     0.99511,     0.99511,     0.99511,     0.99511,     0.99511,     0.99511,     0.99511,     0.99511,\n",
              "            0.99511,     0.99511,     0.99511,     0.99511,     0.99511,     0.99511,     0.99511,     0.99511,     0.99511,     0.99511,     0.99511,     0.99511,     0.99511,     0.99511,     0.99511,     0.99511,     0.99511,     0.99511,     0.99511,     0.99511,     0.99511,     0.99511,     0.99511,\n",
              "            0.99511,     0.99511,     0.99511,     0.99511,     0.99511,     0.99511,     0.99511,     0.99511,     0.99511,     0.99511,     0.99511,     0.99511,     0.99511,     0.99511,     0.99511,     0.99511,     0.99511,     0.99511,     0.99511,     0.99511,     0.99511,     0.99511,     0.99511,\n",
              "            0.99511,     0.99511,     0.99511,     0.99511,     0.99511,     0.99511,     0.99511,     0.99511,     0.99511,     0.99511,     0.99511,     0.99511,     0.99511,     0.99511,     0.99511,     0.99511,     0.99511,     0.99511,     0.99511,     0.99511,     0.99511,     0.99511,     0.99511,\n",
              "            0.99511,     0.99511,     0.99511,     0.99511,     0.99511,     0.99511,     0.99511,     0.99511,     0.99511,     0.99511,     0.99511,     0.99511,     0.99511,     0.99511,     0.99511,     0.99511,     0.99511,     0.99511,     0.99511,     0.99511,     0.99511,     0.99511,     0.99511,\n",
              "            0.99511,     0.99511,     0.99511,     0.99511,     0.99511,     0.99511,     0.99511,     0.99511,     0.99511,     0.99511,     0.99511,     0.99511,     0.99511,     0.99511,     0.99511,     0.99511,     0.99511,     0.99511,     0.99511,     0.99511,     0.99511,     0.99511,     0.99511,\n",
              "            0.99511,     0.99511,     0.99511,     0.99511,     0.99511,     0.99511,     0.99511,     0.99511,     0.99511,     0.99511,     0.99511,     0.99511,     0.99511,     0.99511,     0.99511,     0.99511,     0.99511,     0.99511,     0.99511,     0.99511,     0.99511,     0.99511,     0.99511,\n",
              "            0.99511,     0.99511,     0.99511,     0.99511,     0.99511,     0.99511,     0.99511,     0.99511,     0.99511,     0.99511,     0.99511,     0.99511,     0.99511,     0.99511,     0.99511,     0.99511,     0.99511,     0.99511,     0.99511,     0.99511,     0.99511,     0.99511,     0.99511,\n",
              "            0.99511,     0.99511,     0.99511,     0.99511,     0.99511,     0.99511,     0.99511,     0.99511,     0.99511,     0.99511,     0.99511,     0.99511,     0.99511,     0.99511,     0.99511,     0.99511,     0.99507,     0.99501,     0.99495,      0.9949,     0.99484,     0.99479,     0.99473,\n",
              "            0.99468,     0.99462,     0.99456,     0.99451,     0.99445,      0.9944,     0.99434,     0.99429,     0.99423,     0.99417,     0.99412,     0.99406,     0.99401,     0.99395,      0.9939,     0.99384,     0.99378,     0.99373,     0.99367,     0.99362,     0.99356,     0.99351,     0.99345,\n",
              "            0.99339,     0.99334,     0.99328,     0.99323,     0.99317,     0.99312,     0.99306,       0.993,     0.99295,     0.99289,     0.99284,     0.99278,     0.99273,     0.99267,     0.99022,     0.98868,     0.98764,     0.98735,     0.98705,     0.98676,     0.98646,     0.98617,     0.98587,\n",
              "            0.98558,     0.98278,     0.98215,     0.98153,      0.9809,     0.97489,     0.97303,     0.97277,      0.9725,     0.97224,     0.97197,     0.97171,     0.97145,     0.97118,     0.97092,     0.97066,     0.97048,      0.9703,     0.97012,     0.96994,     0.96976,     0.96958,      0.9694,\n",
              "            0.96922,     0.96905,     0.96887,     0.96869,     0.96851,     0.96833,     0.96731,      0.9648,     0.94274,     0.94059,     0.93892,     0.92422,     0.90217,     0.90092,     0.88002,      0.8384,     0.82611,     0.80661,     0.80494,     0.78803,     0.77574,     0.75857,     0.74384,\n",
              "            0.69732,     0.67036,     0.63118,     0.61156,     0.55527,     0.51608,     0.48179,     0.43528,     0.37165,     0.22239,     0.14536,     0.10618,    0.064556,     0.03271,    0.022869,    0.020363,    0.011089,   0.0095089,   0.0082558,   0.0066705,   0.0046826,   0.0039666,   0.0032505,\n",
              "          0.0025345,           0,           0,           0,           0,           0,           0,           0,           0,           0,           0,           0,           0,           0,           0,           0,           0,           0,           0,           0,           0,           0,           0,\n",
              "                  0,           0,           0,           0,           0,           0,           0,           0,           0,           0,           0,           0,           0,           0,           0,           0,           0,           0,           0,           0,           0,           0,           0,\n",
              "                  0,           0,           0,           0,           0,           0,           0,           0,           0,           0,           0,           0,           0,           0,           0,           0,           0,           0,           0,           0,           0,           0,           0,\n",
              "                  0,           0,           0,           0,           0,           0,           0,           0,           0,           0,           0,           0,           0,           0,           0,           0,           0,           0,           0,           0,           0,           0,           0,\n",
              "                  0,           0,           0,           0,           0,           0,           0,           0,           0,           0,           0,           0,           0,           0,           0,           0,           0,           0,           0,           0,           0,           0,           0,\n",
              "                  0,           0,           0,           0,           0,           0,           0,           0,           0,           0,           0]]), 'Confidence', 'Recall']]\n",
              "fitness: 0.8312781170233555\n",
              "keys: ['metrics/precision(B)', 'metrics/recall(B)', 'metrics/mAP50(B)', 'metrics/mAP50-95(B)']\n",
              "maps: array([    0.81309])\n",
              "names: {0: 'Money'}\n",
              "plot: True\n",
              "results_dict: {'metrics/precision(B)': 0.9971464999564981, 'metrics/recall(B)': 0.9951100244498777, 'metrics/mAP50(B)': 0.995, 'metrics/mAP50-95(B)': 0.8130867966926172, 'fitness': 0.8312781170233555}\n",
              "save_dir: PosixPath('/content/drive/MyDrive/[2] Colab Notebooks/Detect Money in Bill/checkpoint/train')\n",
              "speed: {'preprocess': 0.23555457592010498, 'inference': 5.0061845779418945, 'loss': 0.0005853176116943359, 'postprocess': 2.2406864166259766}\n",
              "task: 'detect'"
            ]
          },
          "execution_count": 16,
          "metadata": {},
          "output_type": "execute_result"
        }
      ],
      "source": [
        "# 30 epoch\n",
        "model.train(data=\"path_to_config_file\", epochs=30, device=0, project=\"path_to_checkpoint\")"
      ]
    },
    {
      "cell_type": "markdown",
      "metadata": {
        "id": "PuDmvcrGCe0c"
      },
      "source": [
        "## **OBJECT DETECTION INFERENCE**"
      ]
    },
    {
      "cell_type": "code",
      "execution_count": null,
      "metadata": {
        "id": "balVUEE0-OjE"
      },
      "outputs": [],
      "source": [
        "model = YOLO(\"/content/drive/MyDrive/[2] Colab Notebooks/Detect Money in Bill/checkpoint/train/weights/best.pt\")"
      ]
    },
    {
      "cell_type": "code",
      "execution_count": null,
      "metadata": {
        "colab": {
          "base_uri": "https://localhost:8080/"
        },
        "id": "L_9Dqa7r4OCE",
        "outputId": "3c67ed0e-6c0f-49be-c798-8102df926260"
      },
      "outputs": [
        {
          "name": "stdout",
          "output_type": "stream",
          "text": [
            "\n",
            "image 1/1 /content/sample_data/data/images/image_0004.jpg: 640x288 1 Money, 22.9ms\n",
            "Speed: 1.9ms preprocess, 22.9ms inference, 1.6ms postprocess per image at shape (1, 3, 640, 288)\n",
            "Results saved to \u001b[1m/content/predict/round_1\u001b[0m\n"
          ]
        },
        {
          "data": {
            "text/plain": [
              "[ultralytics.engine.results.Results object with attributes:\n",
              " \n",
              " boxes: ultralytics.engine.results.Boxes object\n",
              " keypoints: None\n",
              " masks: None\n",
              " names: {0: 'Money'}\n",
              " obb: None\n",
              " orig_img: array([[[175, 191,   0],\n",
              "         [175, 191,   0],\n",
              "         [175, 191,   0],\n",
              "         ...,\n",
              "         [175, 191,   0],\n",
              "         [175, 191,   0],\n",
              "         [175, 191,   0]],\n",
              " \n",
              "        [[175, 191,   0],\n",
              "         [175, 191,   0],\n",
              "         [175, 191,   0],\n",
              "         ...,\n",
              "         [175, 191,   0],\n",
              "         [175, 191,   0],\n",
              "         [175, 191,   0]],\n",
              " \n",
              "        [[175, 191,   0],\n",
              "         [175, 191,   0],\n",
              "         [175, 191,   0],\n",
              "         ...,\n",
              "         [175, 191,   0],\n",
              "         [175, 191,   0],\n",
              "         [175, 191,   0]],\n",
              " \n",
              "        ...,\n",
              " \n",
              "        [[255, 255, 255],\n",
              "         [255, 255, 255],\n",
              "         [255, 255, 255],\n",
              "         ...,\n",
              "         [255, 255, 255],\n",
              "         [255, 255, 255],\n",
              "         [255, 255, 255]],\n",
              " \n",
              "        [[255, 255, 255],\n",
              "         [255, 255, 255],\n",
              "         [255, 255, 255],\n",
              "         ...,\n",
              "         [255, 255, 255],\n",
              "         [255, 255, 255],\n",
              "         [255, 255, 255]],\n",
              " \n",
              "        [[255, 255, 255],\n",
              "         [255, 255, 255],\n",
              "         [255, 255, 255],\n",
              "         ...,\n",
              "         [255, 255, 255],\n",
              "         [255, 255, 255],\n",
              "         [255, 255, 255]]], dtype=uint8)\n",
              " orig_shape: (1908, 859)\n",
              " path: '/content/sample_data/data/images/image_0004.jpg'\n",
              " probs: None\n",
              " save_dir: None\n",
              " speed: {'preprocess': 1.9185543060302734, 'inference': 22.93872833251953, 'postprocess': 1.554250717163086}]"
            ]
          },
          "execution_count": 22,
          "metadata": {},
          "output_type": "execute_result"
        }
      ],
      "source": [
        "model.predict(\"/content/sample_data/data/images/image_0004.jpg\", save_crop=True)"
      ]
    },
    {
      "cell_type": "markdown",
      "metadata": {
        "id": "R3LLA2hVMFLO"
      },
      "source": [
        "## **CHARACTER DETECTION**"
      ]
    },
    {
      "cell_type": "code",
      "execution_count": null,
      "metadata": {
        "id": "LETdZdfkJtmp"
      },
      "outputs": [],
      "source": [
        "reader = easyocr.Reader(['en','vi']) # this needs to run only once to load the model into memory"
      ]
    },
    {
      "cell_type": "code",
      "execution_count": null,
      "metadata": {
        "colab": {
          "base_uri": "https://localhost:8080/"
        },
        "id": "SCJoVKuaKB06",
        "outputId": "92ae67ac-9ffb-4bcb-de32-1cf4686167d5"
      },
      "outputs": [
        {
          "name": "stdout",
          "output_type": "stream",
          "text": [
            "413,000 VND\n"
          ]
        }
      ],
      "source": [
        "result = reader.readtext('/content/predict/round_1/crops/Money/image_0004.jpg')\n",
        "print(result[0][1])"
      ]
    },
    {
      "cell_type": "code",
      "execution_count": null,
      "metadata": {
        "colab": {
          "base_uri": "https://localhost:8080/"
        },
        "id": "8en42mmBKjpp",
        "outputId": "8db4f5d4-7a8c-4522-d706-809a341902e1"
      },
      "outputs": [
        {
          "name": "stdout",
          "output_type": "stream",
          "text": [
            "413000\n"
          ]
        }
      ],
      "source": [
        "money = result[0][1]\n",
        "money = re.sub(r'[^0-9]', '', money)\n",
        "print(int(money))"
      ]
    },
    {
      "cell_type": "markdown",
      "metadata": {
        "id": "725lx-PzouAO"
      },
      "source": [
        "# **PREDICT PIPELINE** (or kind of)"
      ]
    },
    {
      "cell_type": "markdown",
      "metadata": {
        "id": "UYK5Q5xeOjGE"
      },
      "source": [
        "## **IMPORT LIBRARY**"
      ]
    },
    {
      "cell_type": "code",
      "execution_count": 2,
      "metadata": {
        "colab": {
          "base_uri": "https://localhost:8080/"
        },
        "id": "IXPkbx03kFwh",
        "outputId": "dbb0f6d6-6167-4827-f6a3-e8e3a21b1305"
      },
      "outputs": [
        {
          "name": "stdout",
          "output_type": "stream",
          "text": [
            "Collecting easyocr\n",
            "  Downloading easyocr-1.7.1-py3-none-any.whl (2.9 MB)\n",
            "\u001b[2K     \u001b[90m━━━━━━━━━━━━━━━━━━━━━━━━━━━━━━━━━━━━━━━━\u001b[0m \u001b[32m2.9/2.9 MB\u001b[0m \u001b[31m22.7 MB/s\u001b[0m eta \u001b[36m0:00:00\u001b[0m\n",
            "\u001b[?25hRequirement already satisfied: torch in /usr/local/lib/python3.10/dist-packages (from easyocr) (2.1.0+cu121)\n",
            "Requirement already satisfied: torchvision>=0.5 in /usr/local/lib/python3.10/dist-packages (from easyocr) (0.16.0+cu121)\n",
            "Requirement already satisfied: opencv-python-headless in /usr/local/lib/python3.10/dist-packages (from easyocr) (4.9.0.80)\n",
            "Requirement already satisfied: scipy in /usr/local/lib/python3.10/dist-packages (from easyocr) (1.11.4)\n",
            "Requirement already satisfied: numpy in /usr/local/lib/python3.10/dist-packages (from easyocr) (1.25.2)\n",
            "Requirement already satisfied: Pillow in /usr/local/lib/python3.10/dist-packages (from easyocr) (9.4.0)\n",
            "Requirement already satisfied: scikit-image in /usr/local/lib/python3.10/dist-packages (from easyocr) (0.19.3)\n",
            "Collecting python-bidi (from easyocr)\n",
            "  Downloading python_bidi-0.4.2-py2.py3-none-any.whl (30 kB)\n",
            "Requirement already satisfied: PyYAML in /usr/local/lib/python3.10/dist-packages (from easyocr) (6.0.1)\n",
            "Requirement already satisfied: Shapely in /usr/local/lib/python3.10/dist-packages (from easyocr) (2.0.3)\n",
            "Collecting pyclipper (from easyocr)\n",
            "  Downloading pyclipper-1.3.0.post5-cp310-cp310-manylinux_2_12_x86_64.manylinux2010_x86_64.whl (908 kB)\n",
            "\u001b[2K     \u001b[90m━━━━━━━━━━━━━━━━━━━━━━━━━━━━━━━━━━━━━━━━\u001b[0m \u001b[32m908.3/908.3 kB\u001b[0m \u001b[31m64.0 MB/s\u001b[0m eta \u001b[36m0:00:00\u001b[0m\n",
            "\u001b[?25hCollecting ninja (from easyocr)\n",
            "  Downloading ninja-1.11.1.1-py2.py3-none-manylinux1_x86_64.manylinux_2_5_x86_64.whl (307 kB)\n",
            "\u001b[2K     \u001b[90m━━━━━━━━━━━━━━━━━━━━━━━━━━━━━━━━━━━━━━━━\u001b[0m \u001b[32m307.2/307.2 kB\u001b[0m \u001b[31m36.0 MB/s\u001b[0m eta \u001b[36m0:00:00\u001b[0m\n",
            "\u001b[?25hRequirement already satisfied: requests in /usr/local/lib/python3.10/dist-packages (from torchvision>=0.5->easyocr) (2.31.0)\n",
            "Requirement already satisfied: filelock in /usr/local/lib/python3.10/dist-packages (from torch->easyocr) (3.13.1)\n",
            "Requirement already satisfied: typing-extensions in /usr/local/lib/python3.10/dist-packages (from torch->easyocr) (4.10.0)\n",
            "Requirement already satisfied: sympy in /usr/local/lib/python3.10/dist-packages (from torch->easyocr) (1.12)\n",
            "Requirement already satisfied: networkx in /usr/local/lib/python3.10/dist-packages (from torch->easyocr) (3.2.1)\n",
            "Requirement already satisfied: jinja2 in /usr/local/lib/python3.10/dist-packages (from torch->easyocr) (3.1.3)\n",
            "Requirement already satisfied: fsspec in /usr/local/lib/python3.10/dist-packages (from torch->easyocr) (2023.6.0)\n",
            "Requirement already satisfied: triton==2.1.0 in /usr/local/lib/python3.10/dist-packages (from torch->easyocr) (2.1.0)\n",
            "Requirement already satisfied: six in /usr/local/lib/python3.10/dist-packages (from python-bidi->easyocr) (1.16.0)\n",
            "Requirement already satisfied: imageio>=2.4.1 in /usr/local/lib/python3.10/dist-packages (from scikit-image->easyocr) (2.31.6)\n",
            "Requirement already satisfied: tifffile>=2019.7.26 in /usr/local/lib/python3.10/dist-packages (from scikit-image->easyocr) (2024.2.12)\n",
            "Requirement already satisfied: PyWavelets>=1.1.1 in /usr/local/lib/python3.10/dist-packages (from scikit-image->easyocr) (1.5.0)\n",
            "Requirement already satisfied: packaging>=20.0 in /usr/local/lib/python3.10/dist-packages (from scikit-image->easyocr) (23.2)\n",
            "Requirement already satisfied: MarkupSafe>=2.0 in /usr/local/lib/python3.10/dist-packages (from jinja2->torch->easyocr) (2.1.5)\n",
            "Requirement already satisfied: charset-normalizer<4,>=2 in /usr/local/lib/python3.10/dist-packages (from requests->torchvision>=0.5->easyocr) (3.3.2)\n",
            "Requirement already satisfied: idna<4,>=2.5 in /usr/local/lib/python3.10/dist-packages (from requests->torchvision>=0.5->easyocr) (3.6)\n",
            "Requirement already satisfied: urllib3<3,>=1.21.1 in /usr/local/lib/python3.10/dist-packages (from requests->torchvision>=0.5->easyocr) (2.0.7)\n",
            "Requirement already satisfied: certifi>=2017.4.17 in /usr/local/lib/python3.10/dist-packages (from requests->torchvision>=0.5->easyocr) (2024.2.2)\n",
            "Requirement already satisfied: mpmath>=0.19 in /usr/local/lib/python3.10/dist-packages (from sympy->torch->easyocr) (1.3.0)\n",
            "Installing collected packages: pyclipper, ninja, python-bidi, easyocr\n",
            "Successfully installed easyocr-1.7.1 ninja-1.11.1.1 pyclipper-1.3.0.post5 python-bidi-0.4.2\n"
          ]
        }
      ],
      "source": [
        "!pip install easyocr"
      ]
    },
    {
      "cell_type": "code",
      "execution_count": 3,
      "metadata": {
        "colab": {
          "base_uri": "https://localhost:8080/"
        },
        "id": "u7kBQmrhkJ8b",
        "outputId": "1dace659-7e4f-455d-b058-d2f5005b9bf9"
      },
      "outputs": [
        {
          "name": "stdout",
          "output_type": "stream",
          "text": [
            "Collecting ultralytics\n",
            "  Downloading ultralytics-8.1.24-py3-none-any.whl (719 kB)\n",
            "\u001b[2K     \u001b[90m━━━━━━━━━━━━━━━━━━━━━━━━━━━━━━━━━━━━━━━━\u001b[0m \u001b[32m719.5/719.5 kB\u001b[0m \u001b[31m5.4 MB/s\u001b[0m eta \u001b[36m0:00:00\u001b[0m\n",
            "\u001b[?25hRequirement already satisfied: matplotlib>=3.3.0 in /usr/local/lib/python3.10/dist-packages (from ultralytics) (3.7.1)\n",
            "Requirement already satisfied: opencv-python>=4.6.0 in /usr/local/lib/python3.10/dist-packages (from ultralytics) (4.8.0.76)\n",
            "Requirement already satisfied: pillow>=7.1.2 in /usr/local/lib/python3.10/dist-packages (from ultralytics) (9.4.0)\n",
            "Requirement already satisfied: pyyaml>=5.3.1 in /usr/local/lib/python3.10/dist-packages (from ultralytics) (6.0.1)\n",
            "Requirement already satisfied: requests>=2.23.0 in /usr/local/lib/python3.10/dist-packages (from ultralytics) (2.31.0)\n",
            "Requirement already satisfied: scipy>=1.4.1 in /usr/local/lib/python3.10/dist-packages (from ultralytics) (1.11.4)\n",
            "Requirement already satisfied: torch>=1.8.0 in /usr/local/lib/python3.10/dist-packages (from ultralytics) (2.1.0+cu121)\n",
            "Requirement already satisfied: torchvision>=0.9.0 in /usr/local/lib/python3.10/dist-packages (from ultralytics) (0.16.0+cu121)\n",
            "Requirement already satisfied: tqdm>=4.64.0 in /usr/local/lib/python3.10/dist-packages (from ultralytics) (4.66.2)\n",
            "Requirement already satisfied: psutil in /usr/local/lib/python3.10/dist-packages (from ultralytics) (5.9.5)\n",
            "Requirement already satisfied: py-cpuinfo in /usr/local/lib/python3.10/dist-packages (from ultralytics) (9.0.0)\n",
            "Collecting thop>=0.1.1 (from ultralytics)\n",
            "  Downloading thop-0.1.1.post2209072238-py3-none-any.whl (15 kB)\n",
            "Requirement already satisfied: pandas>=1.1.4 in /usr/local/lib/python3.10/dist-packages (from ultralytics) (1.5.3)\n",
            "Requirement already satisfied: seaborn>=0.11.0 in /usr/local/lib/python3.10/dist-packages (from ultralytics) (0.13.1)\n",
            "Requirement already satisfied: contourpy>=1.0.1 in /usr/local/lib/python3.10/dist-packages (from matplotlib>=3.3.0->ultralytics) (1.2.0)\n",
            "Requirement already satisfied: cycler>=0.10 in /usr/local/lib/python3.10/dist-packages (from matplotlib>=3.3.0->ultralytics) (0.12.1)\n",
            "Requirement already satisfied: fonttools>=4.22.0 in /usr/local/lib/python3.10/dist-packages (from matplotlib>=3.3.0->ultralytics) (4.49.0)\n",
            "Requirement already satisfied: kiwisolver>=1.0.1 in /usr/local/lib/python3.10/dist-packages (from matplotlib>=3.3.0->ultralytics) (1.4.5)\n",
            "Requirement already satisfied: numpy>=1.20 in /usr/local/lib/python3.10/dist-packages (from matplotlib>=3.3.0->ultralytics) (1.25.2)\n",
            "Requirement already satisfied: packaging>=20.0 in /usr/local/lib/python3.10/dist-packages (from matplotlib>=3.3.0->ultralytics) (23.2)\n",
            "Requirement already satisfied: pyparsing>=2.3.1 in /usr/local/lib/python3.10/dist-packages (from matplotlib>=3.3.0->ultralytics) (3.1.1)\n",
            "Requirement already satisfied: python-dateutil>=2.7 in /usr/local/lib/python3.10/dist-packages (from matplotlib>=3.3.0->ultralytics) (2.8.2)\n",
            "Requirement already satisfied: pytz>=2020.1 in /usr/local/lib/python3.10/dist-packages (from pandas>=1.1.4->ultralytics) (2023.4)\n",
            "Requirement already satisfied: charset-normalizer<4,>=2 in /usr/local/lib/python3.10/dist-packages (from requests>=2.23.0->ultralytics) (3.3.2)\n",
            "Requirement already satisfied: idna<4,>=2.5 in /usr/local/lib/python3.10/dist-packages (from requests>=2.23.0->ultralytics) (3.6)\n",
            "Requirement already satisfied: urllib3<3,>=1.21.1 in /usr/local/lib/python3.10/dist-packages (from requests>=2.23.0->ultralytics) (2.0.7)\n",
            "Requirement already satisfied: certifi>=2017.4.17 in /usr/local/lib/python3.10/dist-packages (from requests>=2.23.0->ultralytics) (2024.2.2)\n",
            "Requirement already satisfied: filelock in /usr/local/lib/python3.10/dist-packages (from torch>=1.8.0->ultralytics) (3.13.1)\n",
            "Requirement already satisfied: typing-extensions in /usr/local/lib/python3.10/dist-packages (from torch>=1.8.0->ultralytics) (4.10.0)\n",
            "Requirement already satisfied: sympy in /usr/local/lib/python3.10/dist-packages (from torch>=1.8.0->ultralytics) (1.12)\n",
            "Requirement already satisfied: networkx in /usr/local/lib/python3.10/dist-packages (from torch>=1.8.0->ultralytics) (3.2.1)\n",
            "Requirement already satisfied: jinja2 in /usr/local/lib/python3.10/dist-packages (from torch>=1.8.0->ultralytics) (3.1.3)\n",
            "Requirement already satisfied: fsspec in /usr/local/lib/python3.10/dist-packages (from torch>=1.8.0->ultralytics) (2023.6.0)\n",
            "Requirement already satisfied: triton==2.1.0 in /usr/local/lib/python3.10/dist-packages (from torch>=1.8.0->ultralytics) (2.1.0)\n",
            "Requirement already satisfied: six>=1.5 in /usr/local/lib/python3.10/dist-packages (from python-dateutil>=2.7->matplotlib>=3.3.0->ultralytics) (1.16.0)\n",
            "Requirement already satisfied: MarkupSafe>=2.0 in /usr/local/lib/python3.10/dist-packages (from jinja2->torch>=1.8.0->ultralytics) (2.1.5)\n",
            "Requirement already satisfied: mpmath>=0.19 in /usr/local/lib/python3.10/dist-packages (from sympy->torch>=1.8.0->ultralytics) (1.3.0)\n",
            "Installing collected packages: thop, ultralytics\n",
            "Successfully installed thop-0.1.1.post2209072238 ultralytics-8.1.24\n"
          ]
        }
      ],
      "source": [
        "!pip install ultralytics"
      ]
    },
    {
      "cell_type": "code",
      "execution_count": 4,
      "metadata": {
        "id": "StvzWy_fB86R"
      },
      "outputs": [],
      "source": [
        "# System File, Path\n",
        "import os\n",
        "# OCR\n",
        "import easyocr\n",
        "# Text Processing\n",
        "import re\n",
        "# Object Detection\n",
        "from ultralytics import YOLO\n",
        "# Utilize CUDA\n",
        "import torch\n",
        "# Extract Data\n",
        "import zipfile\n",
        "# Delete Files\n",
        "import shutil\n",
        "# Parallel\n",
        "from concurrent.futures import ThreadPoolExecutor, as_completed\n",
        "import concurrent\n",
        "# Plot\n",
        "import matplotlib.pyplot as plt"
      ]
    },
    {
      "cell_type": "markdown",
      "metadata": {
        "id": "SnPA9kx8OlQS"
      },
      "source": [
        "## **IMPORT MODELS**"
      ]
    },
    {
      "cell_type": "code",
      "execution_count": 5,
      "metadata": {
        "id": "Hv8nub42B_df"
      },
      "outputs": [],
      "source": [
        "model = YOLO(\"path_to_best_checkpoint\")"
      ]
    },
    {
      "cell_type": "code",
      "execution_count": 6,
      "metadata": {
        "colab": {
          "base_uri": "https://localhost:8080/"
        },
        "id": "GDE9hSyFB_w2",
        "outputId": "3026920e-179c-4d2f-eba0-79d8b0f6fadc"
      },
      "outputs": [
        {
          "name": "stderr",
          "output_type": "stream",
          "text": [
            "WARNING:easyocr.easyocr:Neither CUDA nor MPS are available - defaulting to CPU. Note: This module is much faster with a GPU.\n",
            "WARNING:easyocr.easyocr:Downloading detection model, please wait. This may take several minutes depending upon your network connection.\n"
          ]
        },
        {
          "name": "stdout",
          "output_type": "stream",
          "text": [
            "Progress: |██████████████████████████████████████████████████| 100.0% Complete"
          ]
        },
        {
          "name": "stderr",
          "output_type": "stream",
          "text": [
            "WARNING:easyocr.easyocr:Downloading recognition model, please wait. This may take several minutes depending upon your network connection.\n"
          ]
        },
        {
          "name": "stdout",
          "output_type": "stream",
          "text": [
            "Progress: |██████████████████████████████████████████████████| 100.0% Complete"
          ]
        }
      ],
      "source": [
        "reader = easyocr.Reader(['en','vi']) # this needs to run only once to load the model into memory"
      ]
    },
    {
      "cell_type": "markdown",
      "metadata": {
        "id": "4QcadcTiOoQy"
      },
      "source": [
        "## **EXTRACT DATA**"
      ]
    },
    {
      "cell_type": "code",
      "execution_count": 7,
      "metadata": {
        "id": "RelQB-ICsN5d"
      },
      "outputs": [],
      "source": [
        "with zipfile.ZipFile(\"path_to_test_data\", 'r') as zip_ref:\n",
        "  zip_ref.extractall(\"path_to_extract_test_data\")"
      ]
    },
    {
      "cell_type": "markdown",
      "metadata": {
        "id": "M_4ErnUAOqGD"
      },
      "source": [
        "## **DEFINE PATHS**"
      ]
    },
    {
      "cell_type": "code",
      "execution_count": 8,
      "metadata": {
        "id": "2LUWvYIxAT-3"
      },
      "outputs": [],
      "source": [
        "image_path = \"path_to_directory_contain_image\"\n",
        "image_crop_path = \"/content/runs/detect/predict/crops/Money\" # After you run the detect money location code, it will autimatically stores your crop images in this path (or similar). Adjust this after you have run detect money location code."
      ]
    },
    {
      "cell_type": "markdown",
      "metadata": {
        "id": "EFuSq6l2Or7b"
      },
      "source": [
        "## **DETECT MONEY LOCATION**"
      ]
    },
    {
      "cell_type": "code",
      "execution_count": 9,
      "metadata": {
        "colab": {
          "base_uri": "https://localhost:8080/"
        },
        "id": "2QqLonfhowfm",
        "outputId": "bd46a6a8-d538-417f-ef3d-d0ff43d098a0"
      },
      "outputs": [
        {
          "name": "stdout",
          "output_type": "stream",
          "text": [
            "\n",
            "image 1/1 /content/test_data/image_0001.jpg: 640x288 1 Money, 762.9ms\n",
            "Speed: 13.2ms preprocess, 762.9ms inference, 17.3ms postprocess per image at shape (1, 3, 640, 288)\n",
            "Results saved to \u001b[1mruns/detect/predict\u001b[0m\n",
            "\n",
            "image 1/1 /content/test_data/image_0002.jpg: 640x288 1 Money, 626.3ms\n",
            "Speed: 2.2ms preprocess, 626.3ms inference, 0.8ms postprocess per image at shape (1, 3, 640, 288)\n",
            "Results saved to \u001b[1mruns/detect/predict\u001b[0m\n",
            "\n",
            "image 1/1 /content/test_data/image_0003.jpg: 640x288 1 Money, 632.4ms\n",
            "Speed: 2.2ms preprocess, 632.4ms inference, 0.8ms postprocess per image at shape (1, 3, 640, 288)\n",
            "Results saved to \u001b[1mruns/detect/predict\u001b[0m\n",
            "\n",
            "image 1/1 /content/test_data/image_0004.jpg: 640x288 1 Money, 629.6ms\n",
            "Speed: 2.2ms preprocess, 629.6ms inference, 0.8ms postprocess per image at shape (1, 3, 640, 288)\n",
            "Results saved to \u001b[1mruns/detect/predict\u001b[0m\n",
            "\n",
            "image 1/1 /content/test_data/image_0005.jpg: 640x288 1 Money, 635.6ms\n",
            "Speed: 2.2ms preprocess, 635.6ms inference, 1.1ms postprocess per image at shape (1, 3, 640, 288)\n",
            "Results saved to \u001b[1mruns/detect/predict\u001b[0m\n",
            "\n",
            "image 1/1 /content/test_data/image_0006.jpg: 640x288 1 Money, 621.5ms\n",
            "Speed: 2.3ms preprocess, 621.5ms inference, 0.7ms postprocess per image at shape (1, 3, 640, 288)\n",
            "Results saved to \u001b[1mruns/detect/predict\u001b[0m\n",
            "\n",
            "image 1/1 /content/test_data/image_0007.jpg: 640x288 1 Money, 635.8ms\n",
            "Speed: 2.3ms preprocess, 635.8ms inference, 0.8ms postprocess per image at shape (1, 3, 640, 288)\n",
            "Results saved to \u001b[1mruns/detect/predict\u001b[0m\n",
            "\n",
            "image 1/1 /content/test_data/image_0008.jpg: 640x288 1 Money, 635.0ms\n",
            "Speed: 2.2ms preprocess, 635.0ms inference, 0.8ms postprocess per image at shape (1, 3, 640, 288)\n",
            "Results saved to \u001b[1mruns/detect/predict\u001b[0m\n",
            "\n",
            "image 1/1 /content/test_data/image_0009.jpg: 640x288 1 Money, 637.6ms\n",
            "Speed: 2.2ms preprocess, 637.6ms inference, 0.8ms postprocess per image at shape (1, 3, 640, 288)\n",
            "Results saved to \u001b[1mruns/detect/predict\u001b[0m\n",
            "\n",
            "image 1/1 /content/test_data/image_0010.jpg: 640x288 1 Money, 638.7ms\n",
            "Speed: 2.4ms preprocess, 638.7ms inference, 0.8ms postprocess per image at shape (1, 3, 640, 288)\n",
            "Results saved to \u001b[1mruns/detect/predict\u001b[0m\n",
            "\n",
            "image 1/1 /content/test_data/image_0011.jpg: 640x288 1 Money, 635.4ms\n",
            "Speed: 2.5ms preprocess, 635.4ms inference, 0.8ms postprocess per image at shape (1, 3, 640, 288)\n",
            "Results saved to \u001b[1mruns/detect/predict\u001b[0m\n",
            "\n",
            "image 1/1 /content/test_data/image_0012.jpg: 640x288 1 Money, 934.5ms\n",
            "Speed: 2.3ms preprocess, 934.5ms inference, 1.1ms postprocess per image at shape (1, 3, 640, 288)\n",
            "Results saved to \u001b[1mruns/detect/predict\u001b[0m\n",
            "\n",
            "image 1/1 /content/test_data/image_0013.jpg: 640x288 1 Money, 1023.3ms\n",
            "Speed: 3.3ms preprocess, 1023.3ms inference, 1.1ms postprocess per image at shape (1, 3, 640, 288)\n",
            "Results saved to \u001b[1mruns/detect/predict\u001b[0m\n",
            "\n",
            "image 1/1 /content/test_data/image_0014.jpg: 640x288 1 Money, 1012.8ms\n",
            "Speed: 3.0ms preprocess, 1012.8ms inference, 1.0ms postprocess per image at shape (1, 3, 640, 288)\n",
            "Results saved to \u001b[1mruns/detect/predict\u001b[0m\n",
            "\n",
            "image 1/1 /content/test_data/image_0015.jpg: 640x288 1 Money, 839.2ms\n",
            "Speed: 3.1ms preprocess, 839.2ms inference, 0.7ms postprocess per image at shape (1, 3, 640, 288)\n",
            "Results saved to \u001b[1mruns/detect/predict\u001b[0m\n",
            "\n",
            "image 1/1 /content/test_data/image_0016.jpg: 640x288 1 Money, 616.6ms\n",
            "Speed: 2.1ms preprocess, 616.6ms inference, 0.8ms postprocess per image at shape (1, 3, 640, 288)\n",
            "Results saved to \u001b[1mruns/detect/predict\u001b[0m\n",
            "\n",
            "image 1/1 /content/test_data/image_0017.jpg: 640x288 1 Money, 632.4ms\n",
            "Speed: 2.4ms preprocess, 632.4ms inference, 0.8ms postprocess per image at shape (1, 3, 640, 288)\n",
            "Results saved to \u001b[1mruns/detect/predict\u001b[0m\n",
            "\n",
            "image 1/1 /content/test_data/image_0018.jpg: 640x288 1 Money, 632.9ms\n",
            "Speed: 2.2ms preprocess, 632.9ms inference, 1.1ms postprocess per image at shape (1, 3, 640, 288)\n",
            "Results saved to \u001b[1mruns/detect/predict\u001b[0m\n",
            "\n",
            "image 1/1 /content/test_data/image_0019.jpg: 640x288 1 Money, 615.6ms\n",
            "Speed: 2.2ms preprocess, 615.6ms inference, 0.9ms postprocess per image at shape (1, 3, 640, 288)\n",
            "Results saved to \u001b[1mruns/detect/predict\u001b[0m\n",
            "\n",
            "image 1/1 /content/test_data/image_0020.jpg: 640x288 1 Money, 625.5ms\n",
            "Speed: 2.2ms preprocess, 625.5ms inference, 0.8ms postprocess per image at shape (1, 3, 640, 288)\n",
            "Results saved to \u001b[1mruns/detect/predict\u001b[0m\n",
            "\n",
            "image 1/1 /content/test_data/image_0021.jpg: 640x288 1 Money, 640.6ms\n",
            "Speed: 2.2ms preprocess, 640.6ms inference, 0.8ms postprocess per image at shape (1, 3, 640, 288)\n",
            "Results saved to \u001b[1mruns/detect/predict\u001b[0m\n",
            "\n",
            "image 1/1 /content/test_data/image_0022.jpg: 640x288 1 Money, 624.4ms\n",
            "Speed: 2.4ms preprocess, 624.4ms inference, 0.8ms postprocess per image at shape (1, 3, 640, 288)\n",
            "Results saved to \u001b[1mruns/detect/predict\u001b[0m\n",
            "\n",
            "image 1/1 /content/test_data/image_0023.jpg: 640x288 1 Money, 630.9ms\n",
            "Speed: 2.4ms preprocess, 630.9ms inference, 0.8ms postprocess per image at shape (1, 3, 640, 288)\n",
            "Results saved to \u001b[1mruns/detect/predict\u001b[0m\n",
            "\n",
            "image 1/1 /content/test_data/image_0024.jpg: 640x288 1 Money, 653.1ms\n",
            "Speed: 2.3ms preprocess, 653.1ms inference, 0.8ms postprocess per image at shape (1, 3, 640, 288)\n",
            "Results saved to \u001b[1mruns/detect/predict\u001b[0m\n",
            "\n",
            "image 1/1 /content/test_data/image_0025.jpg: 640x288 1 Money, 630.6ms\n",
            "Speed: 2.3ms preprocess, 630.6ms inference, 1.2ms postprocess per image at shape (1, 3, 640, 288)\n",
            "Results saved to \u001b[1mruns/detect/predict\u001b[0m\n",
            "\n",
            "image 1/1 /content/test_data/image_0026.jpg: 640x288 1 Money, 632.5ms\n",
            "Speed: 2.7ms preprocess, 632.5ms inference, 0.8ms postprocess per image at shape (1, 3, 640, 288)\n",
            "Results saved to \u001b[1mruns/detect/predict\u001b[0m\n",
            "\n",
            "image 1/1 /content/test_data/image_0027.jpg: 640x288 1 Money, 643.0ms\n",
            "Speed: 2.3ms preprocess, 643.0ms inference, 0.8ms postprocess per image at shape (1, 3, 640, 288)\n",
            "Results saved to \u001b[1mruns/detect/predict\u001b[0m\n",
            "\n",
            "image 1/1 /content/test_data/image_0028.jpg: 640x288 1 Money, 627.2ms\n",
            "Speed: 2.4ms preprocess, 627.2ms inference, 0.8ms postprocess per image at shape (1, 3, 640, 288)\n",
            "Results saved to \u001b[1mruns/detect/predict\u001b[0m\n",
            "\n",
            "image 1/1 /content/test_data/image_0029.jpg: 640x288 1 Money, 694.3ms\n",
            "Speed: 3.1ms preprocess, 694.3ms inference, 1.2ms postprocess per image at shape (1, 3, 640, 288)\n",
            "Results saved to \u001b[1mruns/detect/predict\u001b[0m\n",
            "\n",
            "image 1/1 /content/test_data/image_0030.jpg: 640x288 1 Money, 1025.8ms\n",
            "Speed: 3.1ms preprocess, 1025.8ms inference, 1.1ms postprocess per image at shape (1, 3, 640, 288)\n",
            "Results saved to \u001b[1mruns/detect/predict\u001b[0m\n",
            "\n",
            "image 1/1 /content/test_data/image_0031.jpg: 640x288 1 Money, 1003.6ms\n",
            "Speed: 3.1ms preprocess, 1003.6ms inference, 1.0ms postprocess per image at shape (1, 3, 640, 288)\n",
            "Results saved to \u001b[1mruns/detect/predict\u001b[0m\n",
            "\n",
            "image 1/1 /content/test_data/image_0032.jpg: 640x288 1 Money, 1030.2ms\n",
            "Speed: 3.0ms preprocess, 1030.2ms inference, 1.1ms postprocess per image at shape (1, 3, 640, 288)\n",
            "Results saved to \u001b[1mruns/detect/predict\u001b[0m\n",
            "\n",
            "image 1/1 /content/test_data/image_0033.jpg: 640x288 1 Money, 642.3ms\n",
            "Speed: 3.2ms preprocess, 642.3ms inference, 0.8ms postprocess per image at shape (1, 3, 640, 288)\n",
            "Results saved to \u001b[1mruns/detect/predict\u001b[0m\n",
            "\n",
            "image 1/1 /content/test_data/image_0034.jpg: 640x288 1 Money, 626.8ms\n",
            "Speed: 2.2ms preprocess, 626.8ms inference, 0.8ms postprocess per image at shape (1, 3, 640, 288)\n",
            "Results saved to \u001b[1mruns/detect/predict\u001b[0m\n",
            "\n",
            "image 1/1 /content/test_data/image_0035.jpg: 640x288 1 Money, 627.3ms\n",
            "Speed: 2.2ms preprocess, 627.3ms inference, 0.8ms postprocess per image at shape (1, 3, 640, 288)\n",
            "Results saved to \u001b[1mruns/detect/predict\u001b[0m\n",
            "\n",
            "image 1/1 /content/test_data/image_0036.jpg: 640x288 1 Money, 623.5ms\n",
            "Speed: 3.2ms preprocess, 623.5ms inference, 0.8ms postprocess per image at shape (1, 3, 640, 288)\n",
            "Results saved to \u001b[1mruns/detect/predict\u001b[0m\n",
            "\n",
            "image 1/1 /content/test_data/image_0037.jpg: 640x288 1 Money, 627.0ms\n",
            "Speed: 2.2ms preprocess, 627.0ms inference, 0.8ms postprocess per image at shape (1, 3, 640, 288)\n",
            "Results saved to \u001b[1mruns/detect/predict\u001b[0m\n",
            "\n",
            "image 1/1 /content/test_data/image_0038.jpg: 640x288 1 Money, 622.4ms\n",
            "Speed: 2.6ms preprocess, 622.4ms inference, 0.8ms postprocess per image at shape (1, 3, 640, 288)\n",
            "Results saved to \u001b[1mruns/detect/predict\u001b[0m\n",
            "\n",
            "image 1/1 /content/test_data/image_0039.jpg: 640x288 1 Money, 628.8ms\n",
            "Speed: 2.2ms preprocess, 628.8ms inference, 0.8ms postprocess per image at shape (1, 3, 640, 288)\n",
            "Results saved to \u001b[1mruns/detect/predict\u001b[0m\n",
            "\n",
            "image 1/1 /content/test_data/image_0040.jpg: 640x288 1 Money, 632.0ms\n",
            "Speed: 2.6ms preprocess, 632.0ms inference, 0.8ms postprocess per image at shape (1, 3, 640, 288)\n",
            "Results saved to \u001b[1mruns/detect/predict\u001b[0m\n",
            "\n",
            "image 1/1 /content/test_data/image_0041.jpg: 640x288 1 Money, 631.8ms\n",
            "Speed: 2.3ms preprocess, 631.8ms inference, 1.1ms postprocess per image at shape (1, 3, 640, 288)\n",
            "Results saved to \u001b[1mruns/detect/predict\u001b[0m\n",
            "\n",
            "image 1/1 /content/test_data/image_0042.jpg: 640x288 1 Money, 632.2ms\n",
            "Speed: 2.2ms preprocess, 632.2ms inference, 0.7ms postprocess per image at shape (1, 3, 640, 288)\n",
            "Results saved to \u001b[1mruns/detect/predict\u001b[0m\n",
            "\n",
            "image 1/1 /content/test_data/image_0043.jpg: 640x288 1 Money, 633.0ms\n",
            "Speed: 2.2ms preprocess, 633.0ms inference, 0.8ms postprocess per image at shape (1, 3, 640, 288)\n",
            "Results saved to \u001b[1mruns/detect/predict\u001b[0m\n",
            "\n",
            "image 1/1 /content/test_data/image_0044.jpg: 640x288 1 Money, 636.2ms\n",
            "Speed: 2.1ms preprocess, 636.2ms inference, 0.8ms postprocess per image at shape (1, 3, 640, 288)\n",
            "Results saved to \u001b[1mruns/detect/predict\u001b[0m\n",
            "\n",
            "image 1/1 /content/test_data/image_0045.jpg: 640x288 1 Money, 889.1ms\n",
            "Speed: 2.3ms preprocess, 889.1ms inference, 1.2ms postprocess per image at shape (1, 3, 640, 288)\n",
            "Results saved to \u001b[1mruns/detect/predict\u001b[0m\n",
            "\n",
            "image 1/1 /content/test_data/image_0046.jpg: 640x288 1 Money, 1384.1ms\n",
            "Speed: 2.9ms preprocess, 1384.1ms inference, 1.0ms postprocess per image at shape (1, 3, 640, 288)\n",
            "Results saved to \u001b[1mruns/detect/predict\u001b[0m\n",
            "\n",
            "image 1/1 /content/test_data/image_0047.jpg: 640x288 1 Money, 987.3ms\n",
            "Speed: 2.9ms preprocess, 987.3ms inference, 1.1ms postprocess per image at shape (1, 3, 640, 288)\n",
            "Results saved to \u001b[1mruns/detect/predict\u001b[0m\n",
            "\n",
            "image 1/1 /content/test_data/image_0048.jpg: 640x288 1 Money, 1035.5ms\n",
            "Speed: 3.1ms preprocess, 1035.5ms inference, 1.2ms postprocess per image at shape (1, 3, 640, 288)\n",
            "Results saved to \u001b[1mruns/detect/predict\u001b[0m\n",
            "\n",
            "image 1/1 /content/test_data/image_0049.jpg: 640x288 1 Money, 863.7ms\n",
            "Speed: 3.1ms preprocess, 863.7ms inference, 1.2ms postprocess per image at shape (1, 3, 640, 288)\n",
            "Results saved to \u001b[1mruns/detect/predict\u001b[0m\n",
            "\n",
            "image 1/1 /content/test_data/image_0050.jpg: 640x288 1 Money, 631.7ms\n",
            "Speed: 2.3ms preprocess, 631.7ms inference, 0.8ms postprocess per image at shape (1, 3, 640, 288)\n",
            "Results saved to \u001b[1mruns/detect/predict\u001b[0m\n",
            "\n",
            "image 1/1 /content/test_data/image_0051.jpg: 640x288 1 Money, 620.5ms\n",
            "Speed: 2.5ms preprocess, 620.5ms inference, 0.8ms postprocess per image at shape (1, 3, 640, 288)\n",
            "Results saved to \u001b[1mruns/detect/predict\u001b[0m\n",
            "\n",
            "image 1/1 /content/test_data/image_0052.jpg: 640x288 1 Money, 632.1ms\n",
            "Speed: 2.7ms preprocess, 632.1ms inference, 0.7ms postprocess per image at shape (1, 3, 640, 288)\n",
            "Results saved to \u001b[1mruns/detect/predict\u001b[0m\n",
            "\n",
            "image 1/1 /content/test_data/image_0053.jpg: 640x288 1 Money, 633.1ms\n",
            "Speed: 2.4ms preprocess, 633.1ms inference, 0.7ms postprocess per image at shape (1, 3, 640, 288)\n",
            "Results saved to \u001b[1mruns/detect/predict\u001b[0m\n",
            "\n",
            "image 1/1 /content/test_data/image_0054.jpg: 640x288 1 Money, 625.7ms\n",
            "Speed: 2.2ms preprocess, 625.7ms inference, 0.8ms postprocess per image at shape (1, 3, 640, 288)\n",
            "Results saved to \u001b[1mruns/detect/predict\u001b[0m\n",
            "\n",
            "image 1/1 /content/test_data/image_0055.jpg: 640x288 1 Money, 629.9ms\n",
            "Speed: 2.3ms preprocess, 629.9ms inference, 0.8ms postprocess per image at shape (1, 3, 640, 288)\n",
            "Results saved to \u001b[1mruns/detect/predict\u001b[0m\n",
            "\n",
            "image 1/1 /content/test_data/image_0056.jpg: 640x288 1 Money, 629.7ms\n",
            "Speed: 2.2ms preprocess, 629.7ms inference, 0.8ms postprocess per image at shape (1, 3, 640, 288)\n",
            "Results saved to \u001b[1mruns/detect/predict\u001b[0m\n",
            "\n",
            "image 1/1 /content/test_data/image_0057.jpg: 640x288 1 Money, 629.9ms\n",
            "Speed: 2.1ms preprocess, 629.9ms inference, 0.8ms postprocess per image at shape (1, 3, 640, 288)\n",
            "Results saved to \u001b[1mruns/detect/predict\u001b[0m\n",
            "\n",
            "image 1/1 /content/test_data/image_0058.jpg: 640x288 1 Money, 1006.5ms\n",
            "Speed: 2.2ms preprocess, 1006.5ms inference, 0.8ms postprocess per image at shape (1, 3, 640, 288)\n",
            "Results saved to \u001b[1mruns/detect/predict\u001b[0m\n",
            "\n",
            "image 1/1 /content/test_data/image_0059.jpg: 640x288 1 Money, 622.7ms\n",
            "Speed: 2.2ms preprocess, 622.7ms inference, 0.8ms postprocess per image at shape (1, 3, 640, 288)\n",
            "Results saved to \u001b[1mruns/detect/predict\u001b[0m\n",
            "\n",
            "image 1/1 /content/test_data/image_0060.jpg: 640x288 1 Money, 631.0ms\n",
            "Speed: 2.1ms preprocess, 631.0ms inference, 0.8ms postprocess per image at shape (1, 3, 640, 288)\n",
            "Results saved to \u001b[1mruns/detect/predict\u001b[0m\n",
            "\n",
            "image 1/1 /content/test_data/image_0061.jpg: 640x288 1 Money, 640.2ms\n",
            "Speed: 2.3ms preprocess, 640.2ms inference, 0.8ms postprocess per image at shape (1, 3, 640, 288)\n",
            "Results saved to \u001b[1mruns/detect/predict\u001b[0m\n",
            "\n",
            "image 1/1 /content/test_data/image_0062.jpg: 640x288 1 Money, 622.0ms\n",
            "Speed: 2.4ms preprocess, 622.0ms inference, 1.0ms postprocess per image at shape (1, 3, 640, 288)\n",
            "Results saved to \u001b[1mruns/detect/predict\u001b[0m\n",
            "\n",
            "image 1/1 /content/test_data/image_0063.jpg: 640x288 1 Money, 944.7ms\n",
            "Speed: 2.3ms preprocess, 944.7ms inference, 1.0ms postprocess per image at shape (1, 3, 640, 288)\n",
            "Results saved to \u001b[1mruns/detect/predict\u001b[0m\n",
            "\n",
            "image 1/1 /content/test_data/image_0064.jpg: 640x288 1 Money, 1004.8ms\n",
            "Speed: 3.0ms preprocess, 1004.8ms inference, 1.1ms postprocess per image at shape (1, 3, 640, 288)\n",
            "Results saved to \u001b[1mruns/detect/predict\u001b[0m\n",
            "\n",
            "image 1/1 /content/test_data/image_0065.jpg: 640x288 1 Money, 1031.4ms\n",
            "Speed: 3.0ms preprocess, 1031.4ms inference, 1.1ms postprocess per image at shape (1, 3, 640, 288)\n",
            "Results saved to \u001b[1mruns/detect/predict\u001b[0m\n",
            "\n",
            "image 1/1 /content/test_data/image_0066.jpg: 640x288 1 Money, 834.5ms\n",
            "Speed: 3.6ms preprocess, 834.5ms inference, 0.8ms postprocess per image at shape (1, 3, 640, 288)\n",
            "Results saved to \u001b[1mruns/detect/predict\u001b[0m\n",
            "\n",
            "image 1/1 /content/test_data/image_0067.jpg: 640x288 1 Money, 635.8ms\n",
            "Speed: 2.2ms preprocess, 635.8ms inference, 0.8ms postprocess per image at shape (1, 3, 640, 288)\n",
            "Results saved to \u001b[1mruns/detect/predict\u001b[0m\n",
            "\n",
            "image 1/1 /content/test_data/image_0068.jpg: 640x288 1 Money, 632.7ms\n",
            "Speed: 2.1ms preprocess, 632.7ms inference, 0.8ms postprocess per image at shape (1, 3, 640, 288)\n",
            "Results saved to \u001b[1mruns/detect/predict\u001b[0m\n",
            "\n",
            "image 1/1 /content/test_data/image_0069.jpg: 640x288 1 Money, 625.7ms\n",
            "Speed: 2.5ms preprocess, 625.7ms inference, 1.1ms postprocess per image at shape (1, 3, 640, 288)\n",
            "Results saved to \u001b[1mruns/detect/predict\u001b[0m\n",
            "\n",
            "image 1/1 /content/test_data/image_0070.jpg: 640x288 1 Money, 644.1ms\n",
            "Speed: 2.3ms preprocess, 644.1ms inference, 0.8ms postprocess per image at shape (1, 3, 640, 288)\n",
            "Results saved to \u001b[1mruns/detect/predict\u001b[0m\n",
            "\n",
            "image 1/1 /content/test_data/image_0071.jpg: 640x288 1 Money, 641.4ms\n",
            "Speed: 2.2ms preprocess, 641.4ms inference, 0.8ms postprocess per image at shape (1, 3, 640, 288)\n",
            "Results saved to \u001b[1mruns/detect/predict\u001b[0m\n",
            "\n",
            "image 1/1 /content/test_data/image_0072.jpg: 640x288 1 Money, 615.9ms\n",
            "Speed: 2.1ms preprocess, 615.9ms inference, 0.8ms postprocess per image at shape (1, 3, 640, 288)\n",
            "Results saved to \u001b[1mruns/detect/predict\u001b[0m\n",
            "\n",
            "image 1/1 /content/test_data/image_0073.jpg: 640x288 1 Money, 632.9ms\n",
            "Speed: 2.4ms preprocess, 632.9ms inference, 1.1ms postprocess per image at shape (1, 3, 640, 288)\n",
            "Results saved to \u001b[1mruns/detect/predict\u001b[0m\n",
            "\n",
            "image 1/1 /content/test_data/image_0074.jpg: 640x288 1 Money, 642.9ms\n",
            "Speed: 2.4ms preprocess, 642.9ms inference, 0.8ms postprocess per image at shape (1, 3, 640, 288)\n",
            "Results saved to \u001b[1mruns/detect/predict\u001b[0m\n",
            "\n",
            "image 1/1 /content/test_data/image_0075.jpg: 640x288 1 Money, 626.0ms\n",
            "Speed: 2.5ms preprocess, 626.0ms inference, 0.8ms postprocess per image at shape (1, 3, 640, 288)\n",
            "Results saved to \u001b[1mruns/detect/predict\u001b[0m\n",
            "\n",
            "image 1/1 /content/test_data/image_0076.jpg: 640x288 1 Money, 623.5ms\n",
            "Speed: 2.3ms preprocess, 623.5ms inference, 0.8ms postprocess per image at shape (1, 3, 640, 288)\n",
            "Results saved to \u001b[1mruns/detect/predict\u001b[0m\n",
            "\n",
            "image 1/1 /content/test_data/image_0077.jpg: 640x288 1 Money, 664.5ms\n",
            "Speed: 3.0ms preprocess, 664.5ms inference, 0.8ms postprocess per image at shape (1, 3, 640, 288)\n",
            "Results saved to \u001b[1mruns/detect/predict\u001b[0m\n",
            "\n",
            "image 1/1 /content/test_data/image_0078.jpg: 640x288 1 Money, 626.7ms\n",
            "Speed: 2.2ms preprocess, 626.7ms inference, 0.7ms postprocess per image at shape (1, 3, 640, 288)\n",
            "Results saved to \u001b[1mruns/detect/predict\u001b[0m\n",
            "\n",
            "image 1/1 /content/test_data/image_0079.jpg: 640x288 1 Money, 627.7ms\n",
            "Speed: 2.2ms preprocess, 627.7ms inference, 0.8ms postprocess per image at shape (1, 3, 640, 288)\n",
            "Results saved to \u001b[1mruns/detect/predict\u001b[0m\n",
            "\n",
            "image 1/1 /content/test_data/image_0080.jpg: 640x288 1 Money, 767.3ms\n",
            "Speed: 2.3ms preprocess, 767.3ms inference, 1.0ms postprocess per image at shape (1, 3, 640, 288)\n",
            "Results saved to \u001b[1mruns/detect/predict\u001b[0m\n",
            "\n",
            "image 1/1 /content/test_data/image_0081.jpg: 640x288 1 Money, 1017.5ms\n",
            "Speed: 3.1ms preprocess, 1017.5ms inference, 1.1ms postprocess per image at shape (1, 3, 640, 288)\n",
            "Results saved to \u001b[1mruns/detect/predict\u001b[0m\n",
            "\n",
            "image 1/1 /content/test_data/image_0082.jpg: 640x288 1 Money, 1010.2ms\n",
            "Speed: 5.4ms preprocess, 1010.2ms inference, 1.0ms postprocess per image at shape (1, 3, 640, 288)\n",
            "Results saved to \u001b[1mruns/detect/predict\u001b[0m\n",
            "\n",
            "image 1/1 /content/test_data/image_0083.jpg: 640x288 1 Money, 1015.4ms\n",
            "Speed: 3.2ms preprocess, 1015.4ms inference, 0.8ms postprocess per image at shape (1, 3, 640, 288)\n",
            "Results saved to \u001b[1mruns/detect/predict\u001b[0m\n",
            "\n",
            "image 1/1 /content/test_data/image_0084.jpg: 640x288 1 Money, 635.0ms\n",
            "Speed: 2.7ms preprocess, 635.0ms inference, 0.8ms postprocess per image at shape (1, 3, 640, 288)\n",
            "Results saved to \u001b[1mruns/detect/predict\u001b[0m\n",
            "\n",
            "image 1/1 /content/test_data/image_0085.jpg: 640x288 1 Money, 638.4ms\n",
            "Speed: 2.3ms preprocess, 638.4ms inference, 0.8ms postprocess per image at shape (1, 3, 640, 288)\n",
            "Results saved to \u001b[1mruns/detect/predict\u001b[0m\n",
            "\n",
            "image 1/1 /content/test_data/image_0086.jpg: 640x288 1 Money, 645.8ms\n",
            "Speed: 3.3ms preprocess, 645.8ms inference, 0.7ms postprocess per image at shape (1, 3, 640, 288)\n",
            "Results saved to \u001b[1mruns/detect/predict\u001b[0m\n",
            "\n",
            "image 1/1 /content/test_data/image_0087.jpg: 640x288 1 Money, 632.3ms\n",
            "Speed: 2.2ms preprocess, 632.3ms inference, 0.8ms postprocess per image at shape (1, 3, 640, 288)\n",
            "Results saved to \u001b[1mruns/detect/predict\u001b[0m\n",
            "\n",
            "image 1/1 /content/test_data/image_0088.jpg: 640x288 1 Money, 648.1ms\n",
            "Speed: 2.2ms preprocess, 648.1ms inference, 0.8ms postprocess per image at shape (1, 3, 640, 288)\n",
            "Results saved to \u001b[1mruns/detect/predict\u001b[0m\n",
            "\n",
            "image 1/1 /content/test_data/image_0089.jpg: 640x288 1 Money, 955.4ms\n",
            "Speed: 2.2ms preprocess, 955.4ms inference, 1.2ms postprocess per image at shape (1, 3, 640, 288)\n",
            "Results saved to \u001b[1mruns/detect/predict\u001b[0m\n",
            "\n",
            "image 1/1 /content/test_data/image_0090.jpg: 640x288 1 Money, 1001.5ms\n",
            "Speed: 2.3ms preprocess, 1001.5ms inference, 0.8ms postprocess per image at shape (1, 3, 640, 288)\n",
            "Results saved to \u001b[1mruns/detect/predict\u001b[0m\n",
            "\n",
            "image 1/1 /content/test_data/image_0091.jpg: 640x288 1 Money, 625.2ms\n",
            "Speed: 2.5ms preprocess, 625.2ms inference, 0.8ms postprocess per image at shape (1, 3, 640, 288)\n",
            "Results saved to \u001b[1mruns/detect/predict\u001b[0m\n",
            "\n",
            "image 1/1 /content/test_data/image_0092.jpg: 640x288 1 Money, 627.8ms\n",
            "Speed: 3.0ms preprocess, 627.8ms inference, 0.8ms postprocess per image at shape (1, 3, 640, 288)\n",
            "Results saved to \u001b[1mruns/detect/predict\u001b[0m\n",
            "\n",
            "image 1/1 /content/test_data/image_0093.jpg: 640x288 1 Money, 632.4ms\n",
            "Speed: 2.2ms preprocess, 632.4ms inference, 0.8ms postprocess per image at shape (1, 3, 640, 288)\n",
            "Results saved to \u001b[1mruns/detect/predict\u001b[0m\n",
            "\n",
            "image 1/1 /content/test_data/image_0094.jpg: 640x288 1 Money, 623.8ms\n",
            "Speed: 2.2ms preprocess, 623.8ms inference, 0.8ms postprocess per image at shape (1, 3, 640, 288)\n",
            "Results saved to \u001b[1mruns/detect/predict\u001b[0m\n",
            "\n",
            "image 1/1 /content/test_data/image_0095.jpg: 640x288 1 Money, 617.3ms\n",
            "Speed: 2.3ms preprocess, 617.3ms inference, 1.0ms postprocess per image at shape (1, 3, 640, 288)\n",
            "Results saved to \u001b[1mruns/detect/predict\u001b[0m\n",
            "\n",
            "image 1/1 /content/test_data/image_0096.jpg: 640x288 1 Money, 631.9ms\n",
            "Speed: 2.5ms preprocess, 631.9ms inference, 0.8ms postprocess per image at shape (1, 3, 640, 288)\n",
            "Results saved to \u001b[1mruns/detect/predict\u001b[0m\n",
            "\n",
            "image 1/1 /content/test_data/image_0097.jpg: 640x288 1 Money, 1010.7ms\n",
            "Speed: 3.1ms preprocess, 1010.7ms inference, 1.0ms postprocess per image at shape (1, 3, 640, 288)\n",
            "Results saved to \u001b[1mruns/detect/predict\u001b[0m\n",
            "\n",
            "image 1/1 /content/test_data/image_0098.jpg: 640x288 1 Money, 1015.4ms\n",
            "Speed: 2.9ms preprocess, 1015.4ms inference, 1.0ms postprocess per image at shape (1, 3, 640, 288)\n",
            "Results saved to \u001b[1mruns/detect/predict\u001b[0m\n",
            "\n",
            "image 1/1 /content/test_data/image_0099.jpg: 640x288 1 Money, 1036.7ms\n",
            "Speed: 3.0ms preprocess, 1036.7ms inference, 1.2ms postprocess per image at shape (1, 3, 640, 288)\n",
            "Results saved to \u001b[1mruns/detect/predict\u001b[0m\n",
            "\n",
            "image 1/1 /content/test_data/image_0100.jpg: 640x288 1 Money, 757.8ms\n",
            "Speed: 3.1ms preprocess, 757.8ms inference, 0.8ms postprocess per image at shape (1, 3, 640, 288)\n",
            "Results saved to \u001b[1mruns/detect/predict\u001b[0m\n",
            "\n",
            "image 1/1 /content/test_data/image_0101.jpg: 640x288 1 Money, 619.9ms\n",
            "Speed: 2.7ms preprocess, 619.9ms inference, 0.8ms postprocess per image at shape (1, 3, 640, 288)\n",
            "Results saved to \u001b[1mruns/detect/predict\u001b[0m\n",
            "\n",
            "image 1/1 /content/test_data/image_0102.jpg: 640x288 1 Money, 640.9ms\n",
            "Speed: 3.0ms preprocess, 640.9ms inference, 0.8ms postprocess per image at shape (1, 3, 640, 288)\n",
            "Results saved to \u001b[1mruns/detect/predict\u001b[0m\n",
            "\n",
            "image 1/1 /content/test_data/image_0103.jpg: 640x288 1 Money, 636.2ms\n",
            "Speed: 2.2ms preprocess, 636.2ms inference, 0.8ms postprocess per image at shape (1, 3, 640, 288)\n",
            "Results saved to \u001b[1mruns/detect/predict\u001b[0m\n",
            "\n",
            "image 1/1 /content/test_data/image_0104.jpg: 640x288 1 Money, 622.2ms\n",
            "Speed: 2.2ms preprocess, 622.2ms inference, 0.8ms postprocess per image at shape (1, 3, 640, 288)\n",
            "Results saved to \u001b[1mruns/detect/predict\u001b[0m\n",
            "\n",
            "image 1/1 /content/test_data/image_0105.jpg: 640x288 1 Money, 627.8ms\n",
            "Speed: 2.3ms preprocess, 627.8ms inference, 0.8ms postprocess per image at shape (1, 3, 640, 288)\n",
            "Results saved to \u001b[1mruns/detect/predict\u001b[0m\n",
            "\n",
            "image 1/1 /content/test_data/image_0106.jpg: 640x288 1 Money, 638.0ms\n",
            "Speed: 2.2ms preprocess, 638.0ms inference, 0.8ms postprocess per image at shape (1, 3, 640, 288)\n",
            "Results saved to \u001b[1mruns/detect/predict\u001b[0m\n",
            "\n",
            "image 1/1 /content/test_data/image_0107.jpg: 640x288 1 Money, 632.4ms\n",
            "Speed: 2.9ms preprocess, 632.4ms inference, 0.9ms postprocess per image at shape (1, 3, 640, 288)\n",
            "Results saved to \u001b[1mruns/detect/predict\u001b[0m\n",
            "\n",
            "image 1/1 /content/test_data/image_0108.jpg: 640x288 1 Money, 628.7ms\n",
            "Speed: 2.2ms preprocess, 628.7ms inference, 0.7ms postprocess per image at shape (1, 3, 640, 288)\n",
            "Results saved to \u001b[1mruns/detect/predict\u001b[0m\n",
            "\n",
            "image 1/1 /content/test_data/image_0109.jpg: 640x288 1 Money, 641.1ms\n",
            "Speed: 2.2ms preprocess, 641.1ms inference, 0.8ms postprocess per image at shape (1, 3, 640, 288)\n",
            "Results saved to \u001b[1mruns/detect/predict\u001b[0m\n",
            "\n",
            "image 1/1 /content/test_data/image_0110.jpg: 640x288 1 Money, 629.9ms\n",
            "Speed: 2.2ms preprocess, 629.9ms inference, 0.8ms postprocess per image at shape (1, 3, 640, 288)\n",
            "Results saved to \u001b[1mruns/detect/predict\u001b[0m\n",
            "\n",
            "image 1/1 /content/test_data/image_0111.jpg: 640x288 1 Money, 625.0ms\n",
            "Speed: 2.2ms preprocess, 625.0ms inference, 0.8ms postprocess per image at shape (1, 3, 640, 288)\n",
            "Results saved to \u001b[1mruns/detect/predict\u001b[0m\n",
            "\n",
            "image 1/1 /content/test_data/image_0112.jpg: 640x288 1 Money, 640.2ms\n",
            "Speed: 2.3ms preprocess, 640.2ms inference, 0.8ms postprocess per image at shape (1, 3, 640, 288)\n",
            "Results saved to \u001b[1mruns/detect/predict\u001b[0m\n",
            "\n",
            "image 1/1 /content/test_data/image_0113.jpg: 640x288 1 Money, 636.2ms\n",
            "Speed: 2.2ms preprocess, 636.2ms inference, 0.8ms postprocess per image at shape (1, 3, 640, 288)\n",
            "Results saved to \u001b[1mruns/detect/predict\u001b[0m\n",
            "\n",
            "image 1/1 /content/test_data/image_0114.jpg: 640x288 1 Money, 783.1ms\n",
            "Speed: 2.2ms preprocess, 783.1ms inference, 1.0ms postprocess per image at shape (1, 3, 640, 288)\n",
            "Results saved to \u001b[1mruns/detect/predict\u001b[0m\n",
            "\n",
            "image 1/1 /content/test_data/image_0115.jpg: 640x288 1 Money, 1013.4ms\n",
            "Speed: 4.9ms preprocess, 1013.4ms inference, 3.4ms postprocess per image at shape (1, 3, 640, 288)\n",
            "Results saved to \u001b[1mruns/detect/predict\u001b[0m\n",
            "\n",
            "image 1/1 /content/test_data/image_0116.jpg: 640x288 1 Money, 1025.9ms\n",
            "Speed: 3.0ms preprocess, 1025.9ms inference, 3.6ms postprocess per image at shape (1, 3, 640, 288)\n",
            "Results saved to \u001b[1mruns/detect/predict\u001b[0m\n",
            "\n",
            "image 1/1 /content/test_data/image_0117.jpg: 640x288 1 Money, 1005.2ms\n",
            "Speed: 3.7ms preprocess, 1005.2ms inference, 0.8ms postprocess per image at shape (1, 3, 640, 288)\n",
            "Results saved to \u001b[1mruns/detect/predict\u001b[0m\n",
            "\n",
            "image 1/1 /content/test_data/image_0118.jpg: 640x288 1 Money, 616.6ms\n",
            "Speed: 2.3ms preprocess, 616.6ms inference, 0.8ms postprocess per image at shape (1, 3, 640, 288)\n",
            "Results saved to \u001b[1mruns/detect/predict\u001b[0m\n",
            "\n",
            "image 1/1 /content/test_data/image_0119.jpg: 640x288 1 Money, 638.4ms\n",
            "Speed: 2.2ms preprocess, 638.4ms inference, 0.8ms postprocess per image at shape (1, 3, 640, 288)\n",
            "Results saved to \u001b[1mruns/detect/predict\u001b[0m\n",
            "\n",
            "image 1/1 /content/test_data/image_0120.jpg: 640x288 1 Money, 639.5ms\n",
            "Speed: 2.4ms preprocess, 639.5ms inference, 0.8ms postprocess per image at shape (1, 3, 640, 288)\n",
            "Results saved to \u001b[1mruns/detect/predict\u001b[0m\n",
            "\n",
            "image 1/1 /content/test_data/image_0121.jpg: 640x288 1 Money, 624.7ms\n",
            "Speed: 2.2ms preprocess, 624.7ms inference, 0.8ms postprocess per image at shape (1, 3, 640, 288)\n",
            "Results saved to \u001b[1mruns/detect/predict\u001b[0m\n",
            "\n",
            "image 1/1 /content/test_data/image_0122.jpg: 640x288 1 Money, 637.9ms\n",
            "Speed: 2.2ms preprocess, 637.9ms inference, 0.8ms postprocess per image at shape (1, 3, 640, 288)\n",
            "Results saved to \u001b[1mruns/detect/predict\u001b[0m\n",
            "\n",
            "image 1/1 /content/test_data/image_0123.jpg: 640x288 1 Money, 649.6ms\n",
            "Speed: 2.4ms preprocess, 649.6ms inference, 0.8ms postprocess per image at shape (1, 3, 640, 288)\n",
            "Results saved to \u001b[1mruns/detect/predict\u001b[0m\n",
            "\n",
            "image 1/1 /content/test_data/image_0124.jpg: 640x288 1 Money, 625.6ms\n",
            "Speed: 2.3ms preprocess, 625.6ms inference, 0.8ms postprocess per image at shape (1, 3, 640, 288)\n",
            "Results saved to \u001b[1mruns/detect/predict\u001b[0m\n",
            "\n",
            "image 1/1 /content/test_data/image_0125.jpg: 640x288 1 Money, 628.7ms\n",
            "Speed: 2.3ms preprocess, 628.7ms inference, 0.8ms postprocess per image at shape (1, 3, 640, 288)\n",
            "Results saved to \u001b[1mruns/detect/predict\u001b[0m\n",
            "\n",
            "image 1/1 /content/test_data/image_0126.jpg: 640x288 1 Money, 640.4ms\n",
            "Speed: 2.2ms preprocess, 640.4ms inference, 0.7ms postprocess per image at shape (1, 3, 640, 288)\n",
            "Results saved to \u001b[1mruns/detect/predict\u001b[0m\n",
            "\n",
            "image 1/1 /content/test_data/image_0127.jpg: 640x288 1 Money, 629.0ms\n",
            "Speed: 2.2ms preprocess, 629.0ms inference, 0.8ms postprocess per image at shape (1, 3, 640, 288)\n",
            "Results saved to \u001b[1mruns/detect/predict\u001b[0m\n",
            "\n",
            "image 1/1 /content/test_data/image_0128.jpg: 640x288 1 Money, 626.3ms\n",
            "Speed: 3.1ms preprocess, 626.3ms inference, 0.8ms postprocess per image at shape (1, 3, 640, 288)\n",
            "Results saved to \u001b[1mruns/detect/predict\u001b[0m\n",
            "\n",
            "image 1/1 /content/test_data/image_0129.jpg: 640x288 1 Money, 648.5ms\n",
            "Speed: 2.2ms preprocess, 648.5ms inference, 0.8ms postprocess per image at shape (1, 3, 640, 288)\n",
            "Results saved to \u001b[1mruns/detect/predict\u001b[0m\n",
            "\n",
            "image 1/1 /content/test_data/image_0130.jpg: 640x288 1 Money, 642.2ms\n",
            "Speed: 2.3ms preprocess, 642.2ms inference, 1.1ms postprocess per image at shape (1, 3, 640, 288)\n",
            "Results saved to \u001b[1mruns/detect/predict\u001b[0m\n",
            "\n",
            "image 1/1 /content/test_data/image_0131.jpg: 640x288 1 Money, 633.1ms\n",
            "Speed: 2.3ms preprocess, 633.1ms inference, 0.8ms postprocess per image at shape (1, 3, 640, 288)\n",
            "Results saved to \u001b[1mruns/detect/predict\u001b[0m\n",
            "\n",
            "image 1/1 /content/test_data/image_0132.jpg: 640x288 1 Money, 1008.6ms\n",
            "Speed: 2.2ms preprocess, 1008.6ms inference, 1.0ms postprocess per image at shape (1, 3, 640, 288)\n",
            "Results saved to \u001b[1mruns/detect/predict\u001b[0m\n",
            "\n",
            "image 1/1 /content/test_data/image_0133.jpg: 640x288 1 Money, 1022.7ms\n",
            "Speed: 3.0ms preprocess, 1022.7ms inference, 1.0ms postprocess per image at shape (1, 3, 640, 288)\n",
            "Results saved to \u001b[1mruns/detect/predict\u001b[0m\n",
            "\n",
            "image 1/1 /content/test_data/image_0134.jpg: 640x288 1 Money, 1036.3ms\n",
            "Speed: 3.0ms preprocess, 1036.3ms inference, 1.4ms postprocess per image at shape (1, 3, 640, 288)\n",
            "Results saved to \u001b[1mruns/detect/predict\u001b[0m\n",
            "\n",
            "image 1/1 /content/test_data/image_0135.jpg: 640x288 1 Money, 797.7ms\n",
            "Speed: 3.2ms preprocess, 797.7ms inference, 0.8ms postprocess per image at shape (1, 3, 640, 288)\n",
            "Results saved to \u001b[1mruns/detect/predict\u001b[0m\n",
            "\n",
            "image 1/1 /content/test_data/image_0136.jpg: 640x288 1 Money, 643.2ms\n",
            "Speed: 2.3ms preprocess, 643.2ms inference, 0.8ms postprocess per image at shape (1, 3, 640, 288)\n",
            "Results saved to \u001b[1mruns/detect/predict\u001b[0m\n",
            "\n",
            "image 1/1 /content/test_data/image_0137.jpg: 640x288 1 Money, 643.6ms\n",
            "Speed: 3.0ms preprocess, 643.6ms inference, 0.8ms postprocess per image at shape (1, 3, 640, 288)\n",
            "Results saved to \u001b[1mruns/detect/predict\u001b[0m\n",
            "\n",
            "image 1/1 /content/test_data/image_0138.jpg: 640x288 1 Money, 633.5ms\n",
            "Speed: 2.2ms preprocess, 633.5ms inference, 0.8ms postprocess per image at shape (1, 3, 640, 288)\n",
            "Results saved to \u001b[1mruns/detect/predict\u001b[0m\n",
            "\n",
            "image 1/1 /content/test_data/image_0139.jpg: 640x288 1 Money, 646.5ms\n",
            "Speed: 2.3ms preprocess, 646.5ms inference, 0.8ms postprocess per image at shape (1, 3, 640, 288)\n",
            "Results saved to \u001b[1mruns/detect/predict\u001b[0m\n",
            "\n",
            "image 1/1 /content/test_data/image_0140.jpg: 640x288 1 Money, 652.9ms\n",
            "Speed: 2.3ms preprocess, 652.9ms inference, 0.8ms postprocess per image at shape (1, 3, 640, 288)\n",
            "Results saved to \u001b[1mruns/detect/predict\u001b[0m\n",
            "\n",
            "image 1/1 /content/test_data/image_0141.jpg: 640x288 1 Money, 630.2ms\n",
            "Speed: 2.3ms preprocess, 630.2ms inference, 0.8ms postprocess per image at shape (1, 3, 640, 288)\n",
            "Results saved to \u001b[1mruns/detect/predict\u001b[0m\n",
            "\n",
            "image 1/1 /content/test_data/image_0142.jpg: 640x288 1 Money, 654.9ms\n",
            "Speed: 2.2ms preprocess, 654.9ms inference, 0.9ms postprocess per image at shape (1, 3, 640, 288)\n",
            "Results saved to \u001b[1mruns/detect/predict\u001b[0m\n",
            "\n",
            "image 1/1 /content/test_data/image_0143.jpg: 640x288 1 Money, 638.8ms\n",
            "Speed: 2.2ms preprocess, 638.8ms inference, 1.1ms postprocess per image at shape (1, 3, 640, 288)\n",
            "Results saved to \u001b[1mruns/detect/predict\u001b[0m\n",
            "\n",
            "image 1/1 /content/test_data/image_0144.jpg: 640x288 1 Money, 629.9ms\n",
            "Speed: 2.1ms preprocess, 629.9ms inference, 0.8ms postprocess per image at shape (1, 3, 640, 288)\n",
            "Results saved to \u001b[1mruns/detect/predict\u001b[0m\n",
            "\n",
            "image 1/1 /content/test_data/image_0145.jpg: 640x288 1 Money, 635.3ms\n",
            "Speed: 3.0ms preprocess, 635.3ms inference, 0.8ms postprocess per image at shape (1, 3, 640, 288)\n",
            "Results saved to \u001b[1mruns/detect/predict\u001b[0m\n",
            "\n",
            "image 1/1 /content/test_data/image_0146.jpg: 640x288 1 Money, 635.3ms\n",
            "Speed: 2.2ms preprocess, 635.3ms inference, 0.8ms postprocess per image at shape (1, 3, 640, 288)\n",
            "Results saved to \u001b[1mruns/detect/predict\u001b[0m\n",
            "\n",
            "image 1/1 /content/test_data/image_0147.jpg: 640x288 1 Money, 628.1ms\n",
            "Speed: 2.3ms preprocess, 628.1ms inference, 1.1ms postprocess per image at shape (1, 3, 640, 288)\n",
            "Results saved to \u001b[1mruns/detect/predict\u001b[0m\n",
            "\n",
            "image 1/1 /content/test_data/image_0148.jpg: 640x288 1 Money, 632.2ms\n",
            "Speed: 2.4ms preprocess, 632.2ms inference, 0.7ms postprocess per image at shape (1, 3, 640, 288)\n",
            "Results saved to \u001b[1mruns/detect/predict\u001b[0m\n",
            "\n",
            "image 1/1 /content/test_data/image_0149.jpg: 640x288 1 Money, 859.1ms\n",
            "Speed: 2.2ms preprocess, 859.1ms inference, 1.1ms postprocess per image at shape (1, 3, 640, 288)\n",
            "Results saved to \u001b[1mruns/detect/predict\u001b[0m\n",
            "\n",
            "image 1/1 /content/test_data/image_0150.jpg: 640x288 1 Money, 1022.6ms\n",
            "Speed: 6.1ms preprocess, 1022.6ms inference, 1.0ms postprocess per image at shape (1, 3, 640, 288)\n",
            "Results saved to \u001b[1mruns/detect/predict\u001b[0m\n",
            "\n",
            "image 1/1 /content/test_data/image_0151.jpg: 640x288 1 Money, 1019.7ms\n",
            "Speed: 3.0ms preprocess, 1019.7ms inference, 1.0ms postprocess per image at shape (1, 3, 640, 288)\n",
            "Results saved to \u001b[1mruns/detect/predict\u001b[0m\n",
            "\n",
            "image 1/1 /content/test_data/image_0152.jpg: 640x288 1 Money, 953.3ms\n",
            "Speed: 3.0ms preprocess, 953.3ms inference, 0.8ms postprocess per image at shape (1, 3, 640, 288)\n",
            "Results saved to \u001b[1mruns/detect/predict\u001b[0m\n",
            "\n",
            "image 1/1 /content/test_data/image_0153.jpg: 640x288 1 Money, 641.3ms\n",
            "Speed: 2.2ms preprocess, 641.3ms inference, 0.8ms postprocess per image at shape (1, 3, 640, 288)\n",
            "Results saved to \u001b[1mruns/detect/predict\u001b[0m\n",
            "\n",
            "image 1/1 /content/test_data/image_0154.jpg: 640x288 1 Money, 639.1ms\n",
            "Speed: 2.2ms preprocess, 639.1ms inference, 0.8ms postprocess per image at shape (1, 3, 640, 288)\n",
            "Results saved to \u001b[1mruns/detect/predict\u001b[0m\n",
            "\n",
            "image 1/1 /content/test_data/image_0155.jpg: 640x288 1 Money, 620.4ms\n",
            "Speed: 2.2ms preprocess, 620.4ms inference, 0.8ms postprocess per image at shape (1, 3, 640, 288)\n",
            "Results saved to \u001b[1mruns/detect/predict\u001b[0m\n",
            "\n",
            "image 1/1 /content/test_data/image_0156.jpg: 640x288 1 Money, 637.9ms\n",
            "Speed: 2.1ms preprocess, 637.9ms inference, 0.8ms postprocess per image at shape (1, 3, 640, 288)\n",
            "Results saved to \u001b[1mruns/detect/predict\u001b[0m\n",
            "\n",
            "image 1/1 /content/test_data/image_0157.jpg: 640x288 1 Money, 641.4ms\n",
            "Speed: 2.2ms preprocess, 641.4ms inference, 0.8ms postprocess per image at shape (1, 3, 640, 288)\n",
            "Results saved to \u001b[1mruns/detect/predict\u001b[0m\n",
            "\n",
            "image 1/1 /content/test_data/image_0158.jpg: 640x288 1 Money, 623.9ms\n",
            "Speed: 2.2ms preprocess, 623.9ms inference, 0.8ms postprocess per image at shape (1, 3, 640, 288)\n",
            "Results saved to \u001b[1mruns/detect/predict\u001b[0m\n",
            "\n",
            "image 1/1 /content/test_data/image_0159.jpg: 640x288 1 Money, 629.7ms\n",
            "Speed: 2.2ms preprocess, 629.7ms inference, 0.8ms postprocess per image at shape (1, 3, 640, 288)\n",
            "Results saved to \u001b[1mruns/detect/predict\u001b[0m\n",
            "\n",
            "image 1/1 /content/test_data/image_0160.jpg: 640x288 1 Money, 639.5ms\n",
            "Speed: 2.4ms preprocess, 639.5ms inference, 0.8ms postprocess per image at shape (1, 3, 640, 288)\n",
            "Results saved to \u001b[1mruns/detect/predict\u001b[0m\n",
            "\n",
            "image 1/1 /content/test_data/image_0161.jpg: 640x288 1 Money, 626.2ms\n",
            "Speed: 2.4ms preprocess, 626.2ms inference, 0.8ms postprocess per image at shape (1, 3, 640, 288)\n",
            "Results saved to \u001b[1mruns/detect/predict\u001b[0m\n",
            "\n",
            "image 1/1 /content/test_data/image_0162.jpg: 640x288 1 Money, 653.6ms\n",
            "Speed: 2.2ms preprocess, 653.6ms inference, 0.9ms postprocess per image at shape (1, 3, 640, 288)\n",
            "Results saved to \u001b[1mruns/detect/predict\u001b[0m\n",
            "\n",
            "image 1/1 /content/test_data/image_0163.jpg: 640x288 1 Money, 639.4ms\n",
            "Speed: 2.2ms preprocess, 639.4ms inference, 0.8ms postprocess per image at shape (1, 3, 640, 288)\n",
            "Results saved to \u001b[1mruns/detect/predict\u001b[0m\n",
            "\n",
            "image 1/1 /content/test_data/image_0164.jpg: 640x288 1 Money, 634.3ms\n",
            "Speed: 2.6ms preprocess, 634.3ms inference, 0.8ms postprocess per image at shape (1, 3, 640, 288)\n",
            "Results saved to \u001b[1mruns/detect/predict\u001b[0m\n",
            "\n",
            "image 1/1 /content/test_data/image_0165.jpg: 640x288 1 Money, 640.9ms\n",
            "Speed: 3.0ms preprocess, 640.9ms inference, 0.8ms postprocess per image at shape (1, 3, 640, 288)\n",
            "Results saved to \u001b[1mruns/detect/predict\u001b[0m\n",
            "\n",
            "image 1/1 /content/test_data/image_0166.jpg: 640x288 1 Money, 711.5ms\n",
            "Speed: 2.3ms preprocess, 711.5ms inference, 1.2ms postprocess per image at shape (1, 3, 640, 288)\n",
            "Results saved to \u001b[1mruns/detect/predict\u001b[0m\n",
            "\n",
            "image 1/1 /content/test_data/image_0167.jpg: 640x288 1 Money, 1010.0ms\n",
            "Speed: 3.0ms preprocess, 1010.0ms inference, 1.4ms postprocess per image at shape (1, 3, 640, 288)\n",
            "Results saved to \u001b[1mruns/detect/predict\u001b[0m\n",
            "\n",
            "image 1/1 /content/test_data/image_0168.jpg: 640x288 1 Money, 1045.2ms\n",
            "Speed: 2.9ms preprocess, 1045.2ms inference, 1.0ms postprocess per image at shape (1, 3, 640, 288)\n",
            "Results saved to \u001b[1mruns/detect/predict\u001b[0m\n",
            "\n",
            "image 1/1 /content/test_data/image_0169.jpg: 640x288 1 Money, 1048.7ms\n",
            "Speed: 3.0ms preprocess, 1048.7ms inference, 1.2ms postprocess per image at shape (1, 3, 640, 288)\n",
            "Results saved to \u001b[1mruns/detect/predict\u001b[0m\n",
            "\n",
            "image 1/1 /content/test_data/image_0170.jpg: 640x288 1 Money, 637.3ms\n",
            "Speed: 3.0ms preprocess, 637.3ms inference, 0.8ms postprocess per image at shape (1, 3, 640, 288)\n",
            "Results saved to \u001b[1mruns/detect/predict\u001b[0m\n",
            "\n",
            "image 1/1 /content/test_data/image_0171.jpg: 640x288 1 Money, 632.9ms\n",
            "Speed: 2.2ms preprocess, 632.9ms inference, 1.0ms postprocess per image at shape (1, 3, 640, 288)\n",
            "Results saved to \u001b[1mruns/detect/predict\u001b[0m\n",
            "\n",
            "image 1/1 /content/test_data/image_0172.jpg: 640x288 1 Money, 637.1ms\n",
            "Speed: 2.2ms preprocess, 637.1ms inference, 0.8ms postprocess per image at shape (1, 3, 640, 288)\n",
            "Results saved to \u001b[1mruns/detect/predict\u001b[0m\n",
            "\n",
            "image 1/1 /content/test_data/image_0173.jpg: 640x288 1 Money, 645.6ms\n",
            "Speed: 2.3ms preprocess, 645.6ms inference, 0.8ms postprocess per image at shape (1, 3, 640, 288)\n",
            "Results saved to \u001b[1mruns/detect/predict\u001b[0m\n",
            "\n",
            "image 1/1 /content/test_data/image_0174.jpg: 640x288 1 Money, 644.4ms\n",
            "Speed: 2.2ms preprocess, 644.4ms inference, 1.2ms postprocess per image at shape (1, 3, 640, 288)\n",
            "Results saved to \u001b[1mruns/detect/predict\u001b[0m\n",
            "\n",
            "image 1/1 /content/test_data/image_0175.jpg: 640x288 1 Money, 634.4ms\n",
            "Speed: 2.2ms preprocess, 634.4ms inference, 0.8ms postprocess per image at shape (1, 3, 640, 288)\n",
            "Results saved to \u001b[1mruns/detect/predict\u001b[0m\n",
            "\n",
            "image 1/1 /content/test_data/image_0176.jpg: 640x288 1 Money, 634.4ms\n",
            "Speed: 2.4ms preprocess, 634.4ms inference, 0.8ms postprocess per image at shape (1, 3, 640, 288)\n",
            "Results saved to \u001b[1mruns/detect/predict\u001b[0m\n",
            "\n",
            "image 1/1 /content/test_data/image_0177.jpg: 640x288 1 Money, 635.5ms\n",
            "Speed: 2.2ms preprocess, 635.5ms inference, 0.8ms postprocess per image at shape (1, 3, 640, 288)\n",
            "Results saved to \u001b[1mruns/detect/predict\u001b[0m\n",
            "\n",
            "image 1/1 /content/test_data/image_0178.jpg: 640x288 1 Money, 631.3ms\n",
            "Speed: 2.3ms preprocess, 631.3ms inference, 0.8ms postprocess per image at shape (1, 3, 640, 288)\n",
            "Results saved to \u001b[1mruns/detect/predict\u001b[0m\n",
            "\n",
            "image 1/1 /content/test_data/image_0179.jpg: 640x288 1 Money, 641.6ms\n",
            "Speed: 2.3ms preprocess, 641.6ms inference, 0.8ms postprocess per image at shape (1, 3, 640, 288)\n",
            "Results saved to \u001b[1mruns/detect/predict\u001b[0m\n",
            "\n",
            "image 1/1 /content/test_data/image_0180.jpg: 640x288 1 Money, 650.3ms\n",
            "Speed: 2.3ms preprocess, 650.3ms inference, 0.8ms postprocess per image at shape (1, 3, 640, 288)\n",
            "Results saved to \u001b[1mruns/detect/predict\u001b[0m\n",
            "\n",
            "image 1/1 /content/test_data/image_0181.jpg: 640x288 1 Money, 637.0ms\n",
            "Speed: 2.2ms preprocess, 637.0ms inference, 0.8ms postprocess per image at shape (1, 3, 640, 288)\n",
            "Results saved to \u001b[1mruns/detect/predict\u001b[0m\n",
            "\n",
            "image 1/1 /content/test_data/image_0182.jpg: 640x288 1 Money, 639.7ms\n",
            "Speed: 3.0ms preprocess, 639.7ms inference, 0.8ms postprocess per image at shape (1, 3, 640, 288)\n",
            "Results saved to \u001b[1mruns/detect/predict\u001b[0m\n",
            "\n",
            "image 1/1 /content/test_data/image_0183.jpg: 640x288 1 Money, 643.1ms\n",
            "Speed: 2.2ms preprocess, 643.1ms inference, 0.8ms postprocess per image at shape (1, 3, 640, 288)\n",
            "Results saved to \u001b[1mruns/detect/predict\u001b[0m\n",
            "\n",
            "image 1/1 /content/test_data/image_0184.jpg: 640x288 1 Money, 1012.1ms\n",
            "Speed: 2.4ms preprocess, 1012.1ms inference, 1.0ms postprocess per image at shape (1, 3, 640, 288)\n",
            "Results saved to \u001b[1mruns/detect/predict\u001b[0m\n",
            "\n",
            "image 1/1 /content/test_data/image_0185.jpg: 640x288 1 Money, 1011.4ms\n",
            "Speed: 2.8ms preprocess, 1011.4ms inference, 1.0ms postprocess per image at shape (1, 3, 640, 288)\n",
            "Results saved to \u001b[1mruns/detect/predict\u001b[0m\n",
            "\n",
            "image 1/1 /content/test_data/image_0186.jpg: 640x288 1 Money, 1024.1ms\n",
            "Speed: 3.0ms preprocess, 1024.1ms inference, 1.2ms postprocess per image at shape (1, 3, 640, 288)\n",
            "Results saved to \u001b[1mruns/detect/predict\u001b[0m\n",
            "\n",
            "image 1/1 /content/test_data/image_0187.jpg: 640x288 1 Money, 822.3ms\n",
            "Speed: 3.1ms preprocess, 822.3ms inference, 1.1ms postprocess per image at shape (1, 3, 640, 288)\n",
            "Results saved to \u001b[1mruns/detect/predict\u001b[0m\n",
            "\n",
            "image 1/1 /content/test_data/image_0188.jpg: 640x288 1 Money, 625.4ms\n",
            "Speed: 2.3ms preprocess, 625.4ms inference, 0.8ms postprocess per image at shape (1, 3, 640, 288)\n",
            "Results saved to \u001b[1mruns/detect/predict\u001b[0m\n",
            "\n",
            "image 1/1 /content/test_data/image_0189.jpg: 640x288 1 Money, 640.4ms\n",
            "Speed: 3.5ms preprocess, 640.4ms inference, 0.8ms postprocess per image at shape (1, 3, 640, 288)\n",
            "Results saved to \u001b[1mruns/detect/predict\u001b[0m\n",
            "\n",
            "image 1/1 /content/test_data/image_0190.jpg: 640x288 1 Money, 637.8ms\n",
            "Speed: 2.4ms preprocess, 637.8ms inference, 0.8ms postprocess per image at shape (1, 3, 640, 288)\n",
            "Results saved to \u001b[1mruns/detect/predict\u001b[0m\n",
            "\n",
            "image 1/1 /content/test_data/image_0191.jpg: 640x288 1 Money, 630.3ms\n",
            "Speed: 2.2ms preprocess, 630.3ms inference, 0.8ms postprocess per image at shape (1, 3, 640, 288)\n",
            "Results saved to \u001b[1mruns/detect/predict\u001b[0m\n",
            "\n",
            "image 1/1 /content/test_data/image_0192.jpg: 640x288 1 Money, 627.6ms\n",
            "Speed: 2.5ms preprocess, 627.6ms inference, 1.0ms postprocess per image at shape (1, 3, 640, 288)\n",
            "Results saved to \u001b[1mruns/detect/predict\u001b[0m\n",
            "\n",
            "image 1/1 /content/test_data/image_0193.jpg: 640x288 1 Money, 649.7ms\n",
            "Speed: 2.2ms preprocess, 649.7ms inference, 0.8ms postprocess per image at shape (1, 3, 640, 288)\n",
            "Results saved to \u001b[1mruns/detect/predict\u001b[0m\n",
            "\n",
            "image 1/1 /content/test_data/image_0194.jpg: 640x288 1 Money, 647.4ms\n",
            "Speed: 2.4ms preprocess, 647.4ms inference, 1.0ms postprocess per image at shape (1, 3, 640, 288)\n",
            "Results saved to \u001b[1mruns/detect/predict\u001b[0m\n",
            "\n",
            "image 1/1 /content/test_data/image_0195.jpg: 640x288 1 Money, 630.3ms\n",
            "Speed: 2.3ms preprocess, 630.3ms inference, 0.8ms postprocess per image at shape (1, 3, 640, 288)\n",
            "Results saved to \u001b[1mruns/detect/predict\u001b[0m\n",
            "\n",
            "image 1/1 /content/test_data/image_0196.jpg: 640x288 1 Money, 650.6ms\n",
            "Speed: 2.3ms preprocess, 650.6ms inference, 1.1ms postprocess per image at shape (1, 3, 640, 288)\n",
            "Results saved to \u001b[1mruns/detect/predict\u001b[0m\n",
            "\n",
            "image 1/1 /content/test_data/image_0197.jpg: 640x288 1 Money, 642.3ms\n",
            "Speed: 2.7ms preprocess, 642.3ms inference, 0.8ms postprocess per image at shape (1, 3, 640, 288)\n",
            "Results saved to \u001b[1mruns/detect/predict\u001b[0m\n",
            "\n",
            "image 1/1 /content/test_data/image_0198.jpg: 640x288 1 Money, 628.5ms\n",
            "Speed: 2.2ms preprocess, 628.5ms inference, 0.8ms postprocess per image at shape (1, 3, 640, 288)\n",
            "Results saved to \u001b[1mruns/detect/predict\u001b[0m\n",
            "\n",
            "image 1/1 /content/test_data/image_0199.jpg: 640x288 1 Money, 639.7ms\n",
            "Speed: 2.2ms preprocess, 639.7ms inference, 0.8ms postprocess per image at shape (1, 3, 640, 288)\n",
            "Results saved to \u001b[1mruns/detect/predict\u001b[0m\n",
            "\n",
            "image 1/1 /content/test_data/image_0200.jpg: 640x288 1 Money, 660.5ms\n",
            "Speed: 2.2ms preprocess, 660.5ms inference, 0.8ms postprocess per image at shape (1, 3, 640, 288)\n",
            "Results saved to \u001b[1mruns/detect/predict\u001b[0m\n",
            "\n",
            "image 1/1 /content/test_data/image_0201.jpg: 640x288 1 Money, 844.2ms\n",
            "Speed: 2.6ms preprocess, 844.2ms inference, 1.0ms postprocess per image at shape (1, 3, 640, 288)\n",
            "Results saved to \u001b[1mruns/detect/predict\u001b[0m\n",
            "\n",
            "image 1/1 /content/test_data/image_0202.jpg: 640x288 1 Money, 1026.9ms\n",
            "Speed: 3.0ms preprocess, 1026.9ms inference, 1.0ms postprocess per image at shape (1, 3, 640, 288)\n",
            "Results saved to \u001b[1mruns/detect/predict\u001b[0m\n",
            "\n",
            "image 1/1 /content/test_data/image_0203.jpg: 640x288 1 Money, 1018.8ms\n",
            "Speed: 3.1ms preprocess, 1018.8ms inference, 1.0ms postprocess per image at shape (1, 3, 640, 288)\n",
            "Results saved to \u001b[1mruns/detect/predict\u001b[0m\n",
            "\n",
            "image 1/1 /content/test_data/image_0204.jpg: 640x288 1 Money, 937.9ms\n",
            "Speed: 3.0ms preprocess, 937.9ms inference, 0.8ms postprocess per image at shape (1, 3, 640, 288)\n",
            "Results saved to \u001b[1mruns/detect/predict\u001b[0m\n",
            "\n",
            "image 1/1 /content/test_data/image_0205.jpg: 640x288 1 Money, 636.7ms\n",
            "Speed: 2.5ms preprocess, 636.7ms inference, 0.8ms postprocess per image at shape (1, 3, 640, 288)\n",
            "Results saved to \u001b[1mruns/detect/predict\u001b[0m\n",
            "\n",
            "image 1/1 /content/test_data/image_0206.jpg: 640x288 1 Money, 638.7ms\n",
            "Speed: 2.6ms preprocess, 638.7ms inference, 0.8ms postprocess per image at shape (1, 3, 640, 288)\n",
            "Results saved to \u001b[1mruns/detect/predict\u001b[0m\n",
            "\n",
            "image 1/1 /content/test_data/image_0207.jpg: 640x288 1 Money, 646.5ms\n",
            "Speed: 2.2ms preprocess, 646.5ms inference, 0.8ms postprocess per image at shape (1, 3, 640, 288)\n",
            "Results saved to \u001b[1mruns/detect/predict\u001b[0m\n",
            "\n",
            "image 1/1 /content/test_data/image_0208.jpg: 640x288 1 Money, 633.1ms\n",
            "Speed: 2.2ms preprocess, 633.1ms inference, 0.8ms postprocess per image at shape (1, 3, 640, 288)\n",
            "Results saved to \u001b[1mruns/detect/predict\u001b[0m\n",
            "\n",
            "image 1/1 /content/test_data/image_0209.jpg: 640x288 1 Money, 639.7ms\n",
            "Speed: 2.3ms preprocess, 639.7ms inference, 0.8ms postprocess per image at shape (1, 3, 640, 288)\n",
            "Results saved to \u001b[1mruns/detect/predict\u001b[0m\n",
            "\n",
            "image 1/1 /content/test_data/image_0210.jpg: 640x288 1 Money, 652.4ms\n",
            "Speed: 3.0ms preprocess, 652.4ms inference, 0.9ms postprocess per image at shape (1, 3, 640, 288)\n",
            "Results saved to \u001b[1mruns/detect/predict\u001b[0m\n",
            "\n",
            "image 1/1 /content/test_data/image_0211.jpg: 640x288 1 Money, 636.9ms\n",
            "Speed: 2.2ms preprocess, 636.9ms inference, 0.8ms postprocess per image at shape (1, 3, 640, 288)\n",
            "Results saved to \u001b[1mruns/detect/predict\u001b[0m\n",
            "\n",
            "image 1/1 /content/test_data/image_0212.jpg: 640x288 1 Money, 637.9ms\n",
            "Speed: 2.2ms preprocess, 637.9ms inference, 0.8ms postprocess per image at shape (1, 3, 640, 288)\n",
            "Results saved to \u001b[1mruns/detect/predict\u001b[0m\n",
            "\n",
            "image 1/1 /content/test_data/image_0213.jpg: 640x288 1 Money, 641.0ms\n",
            "Speed: 2.3ms preprocess, 641.0ms inference, 0.8ms postprocess per image at shape (1, 3, 640, 288)\n",
            "Results saved to \u001b[1mruns/detect/predict\u001b[0m\n",
            "\n",
            "image 1/1 /content/test_data/image_0214.jpg: 640x288 1 Money, 645.8ms\n",
            "Speed: 2.2ms preprocess, 645.8ms inference, 0.8ms postprocess per image at shape (1, 3, 640, 288)\n",
            "Results saved to \u001b[1mruns/detect/predict\u001b[0m\n",
            "\n",
            "image 1/1 /content/test_data/image_0215.jpg: 640x288 1 Money, 624.9ms\n",
            "Speed: 2.2ms preprocess, 624.9ms inference, 0.8ms postprocess per image at shape (1, 3, 640, 288)\n",
            "Results saved to \u001b[1mruns/detect/predict\u001b[0m\n",
            "\n",
            "image 1/1 /content/test_data/image_0216.jpg: 640x288 1 Money, 636.8ms\n",
            "Speed: 2.2ms preprocess, 636.8ms inference, 0.8ms postprocess per image at shape (1, 3, 640, 288)\n",
            "Results saved to \u001b[1mruns/detect/predict\u001b[0m\n",
            "\n",
            "image 1/1 /content/test_data/image_0217.jpg: 640x288 1 Money, 640.2ms\n",
            "Speed: 2.2ms preprocess, 640.2ms inference, 0.8ms postprocess per image at shape (1, 3, 640, 288)\n",
            "Results saved to \u001b[1mruns/detect/predict\u001b[0m\n",
            "\n",
            "image 1/1 /content/test_data/image_0218.jpg: 640x288 1 Money, 717.7ms\n",
            "Speed: 2.3ms preprocess, 717.7ms inference, 1.1ms postprocess per image at shape (1, 3, 640, 288)\n",
            "Results saved to \u001b[1mruns/detect/predict\u001b[0m\n",
            "\n",
            "image 1/1 /content/test_data/image_0219.jpg: 640x288 1 Money, 1026.5ms\n",
            "Speed: 3.1ms preprocess, 1026.5ms inference, 1.0ms postprocess per image at shape (1, 3, 640, 288)\n",
            "Results saved to \u001b[1mruns/detect/predict\u001b[0m\n",
            "\n",
            "image 1/1 /content/test_data/image_0220.jpg: 640x288 1 Money, 1036.5ms\n",
            "Speed: 3.1ms preprocess, 1036.5ms inference, 1.1ms postprocess per image at shape (1, 3, 640, 288)\n",
            "Results saved to \u001b[1mruns/detect/predict\u001b[0m\n",
            "\n",
            "image 1/1 /content/test_data/image_0221.jpg: 640x288 1 Money, 1022.9ms\n",
            "Speed: 3.0ms preprocess, 1022.9ms inference, 1.3ms postprocess per image at shape (1, 3, 640, 288)\n",
            "Results saved to \u001b[1mruns/detect/predict\u001b[0m\n",
            "\n",
            "image 1/1 /content/test_data/image_0222.jpg: 640x288 1 Money, 631.0ms\n",
            "Speed: 7.0ms preprocess, 631.0ms inference, 0.8ms postprocess per image at shape (1, 3, 640, 288)\n",
            "Results saved to \u001b[1mruns/detect/predict\u001b[0m\n",
            "\n",
            "image 1/1 /content/test_data/image_0223.jpg: 640x288 1 Money, 635.9ms\n",
            "Speed: 2.3ms preprocess, 635.9ms inference, 0.8ms postprocess per image at shape (1, 3, 640, 288)\n",
            "Results saved to \u001b[1mruns/detect/predict\u001b[0m\n",
            "\n",
            "image 1/1 /content/test_data/image_0224.jpg: 640x288 1 Money, 640.9ms\n",
            "Speed: 2.3ms preprocess, 640.9ms inference, 0.8ms postprocess per image at shape (1, 3, 640, 288)\n",
            "Results saved to \u001b[1mruns/detect/predict\u001b[0m\n",
            "\n",
            "image 1/1 /content/test_data/image_0225.jpg: 640x288 9 Moneys, 623.4ms\n",
            "Speed: 2.2ms preprocess, 623.4ms inference, 7.0ms postprocess per image at shape (1, 3, 640, 288)\n",
            "Results saved to \u001b[1mruns/detect/predict\u001b[0m\n",
            "\n",
            "image 1/1 /content/test_data/image_0226.jpg: 640x288 1 Money, 633.5ms\n",
            "Speed: 2.2ms preprocess, 633.5ms inference, 0.8ms postprocess per image at shape (1, 3, 640, 288)\n",
            "Results saved to \u001b[1mruns/detect/predict\u001b[0m\n",
            "\n",
            "image 1/1 /content/test_data/image_0227.jpg: 640x288 1 Money, 641.0ms\n",
            "Speed: 2.1ms preprocess, 641.0ms inference, 0.8ms postprocess per image at shape (1, 3, 640, 288)\n",
            "Results saved to \u001b[1mruns/detect/predict\u001b[0m\n",
            "\n",
            "image 1/1 /content/test_data/image_0228.jpg: 640x288 1 Money, 640.8ms\n",
            "Speed: 2.2ms preprocess, 640.8ms inference, 0.8ms postprocess per image at shape (1, 3, 640, 288)\n",
            "Results saved to \u001b[1mruns/detect/predict\u001b[0m\n",
            "\n",
            "image 1/1 /content/test_data/image_0229.jpg: 640x288 1 Money, 660.0ms\n",
            "Speed: 3.0ms preprocess, 660.0ms inference, 0.8ms postprocess per image at shape (1, 3, 640, 288)\n",
            "Results saved to \u001b[1mruns/detect/predict\u001b[0m\n",
            "\n",
            "image 1/1 /content/test_data/image_0230.jpg: 640x288 1 Money, 632.3ms\n",
            "Speed: 2.4ms preprocess, 632.3ms inference, 0.8ms postprocess per image at shape (1, 3, 640, 288)\n",
            "Results saved to \u001b[1mruns/detect/predict\u001b[0m\n",
            "\n",
            "image 1/1 /content/test_data/image_0231.jpg: 640x288 1 Money, 639.8ms\n",
            "Speed: 2.4ms preprocess, 639.8ms inference, 0.8ms postprocess per image at shape (1, 3, 640, 288)\n",
            "Results saved to \u001b[1mruns/detect/predict\u001b[0m\n",
            "\n",
            "image 1/1 /content/test_data/image_0232.jpg: 640x288 1 Money, 623.3ms\n",
            "Speed: 2.2ms preprocess, 623.3ms inference, 0.8ms postprocess per image at shape (1, 3, 640, 288)\n",
            "Results saved to \u001b[1mruns/detect/predict\u001b[0m\n",
            "\n",
            "image 1/1 /content/test_data/image_0233.jpg: 640x288 1 Money, 634.9ms\n",
            "Speed: 2.2ms preprocess, 634.9ms inference, 0.8ms postprocess per image at shape (1, 3, 640, 288)\n",
            "Results saved to \u001b[1mruns/detect/predict\u001b[0m\n",
            "\n",
            "image 1/1 /content/test_data/image_0234.jpg: 640x288 1 Money, 634.0ms\n",
            "Speed: 2.2ms preprocess, 634.0ms inference, 0.8ms postprocess per image at shape (1, 3, 640, 288)\n",
            "Results saved to \u001b[1mruns/detect/predict\u001b[0m\n",
            "\n",
            "image 1/1 /content/test_data/image_0235.jpg: 640x288 1 Money, 619.6ms\n",
            "Speed: 3.1ms preprocess, 619.6ms inference, 0.8ms postprocess per image at shape (1, 3, 640, 288)\n",
            "Results saved to \u001b[1mruns/detect/predict\u001b[0m\n",
            "\n",
            "image 1/1 /content/test_data/image_0236.jpg: 640x288 1 Money, 996.1ms\n",
            "Speed: 2.9ms preprocess, 996.1ms inference, 1.0ms postprocess per image at shape (1, 3, 640, 288)\n",
            "Results saved to \u001b[1mruns/detect/predict\u001b[0m\n",
            "\n",
            "image 1/1 /content/test_data/image_0237.jpg: 640x288 1 Money, 1001.7ms\n",
            "Speed: 4.6ms preprocess, 1001.7ms inference, 1.0ms postprocess per image at shape (1, 3, 640, 288)\n",
            "Results saved to \u001b[1mruns/detect/predict\u001b[0m\n",
            "\n",
            "image 1/1 /content/test_data/image_0238.jpg: 640x288 1 Money, 1041.1ms\n",
            "Speed: 3.1ms preprocess, 1041.1ms inference, 1.2ms postprocess per image at shape (1, 3, 640, 288)\n",
            "Results saved to \u001b[1mruns/detect/predict\u001b[0m\n",
            "\n",
            "image 1/1 /content/test_data/image_0239.jpg: 640x288 1 Money, 802.7ms\n",
            "Speed: 3.4ms preprocess, 802.7ms inference, 0.7ms postprocess per image at shape (1, 3, 640, 288)\n",
            "Results saved to \u001b[1mruns/detect/predict\u001b[0m\n",
            "\n",
            "image 1/1 /content/test_data/image_0240.jpg: 640x288 1 Money, 625.4ms\n",
            "Speed: 3.0ms preprocess, 625.4ms inference, 0.8ms postprocess per image at shape (1, 3, 640, 288)\n",
            "Results saved to \u001b[1mruns/detect/predict\u001b[0m\n",
            "\n",
            "image 1/1 /content/test_data/image_0241.jpg: 640x288 1 Money, 644.5ms\n",
            "Speed: 2.1ms preprocess, 644.5ms inference, 0.8ms postprocess per image at shape (1, 3, 640, 288)\n",
            "Results saved to \u001b[1mruns/detect/predict\u001b[0m\n",
            "\n",
            "image 1/1 /content/test_data/image_0242.jpg: 640x288 1 Money, 628.3ms\n",
            "Speed: 2.2ms preprocess, 628.3ms inference, 1.1ms postprocess per image at shape (1, 3, 640, 288)\n",
            "Results saved to \u001b[1mruns/detect/predict\u001b[0m\n",
            "\n",
            "image 1/1 /content/test_data/image_0243.jpg: 640x288 1 Money, 624.8ms\n",
            "Speed: 2.2ms preprocess, 624.8ms inference, 0.8ms postprocess per image at shape (1, 3, 640, 288)\n",
            "Results saved to \u001b[1mruns/detect/predict\u001b[0m\n",
            "\n",
            "image 1/1 /content/test_data/image_0244.jpg: 640x288 1 Money, 639.7ms\n",
            "Speed: 2.3ms preprocess, 639.7ms inference, 0.9ms postprocess per image at shape (1, 3, 640, 288)\n",
            "Results saved to \u001b[1mruns/detect/predict\u001b[0m\n",
            "\n",
            "image 1/1 /content/test_data/image_0245.jpg: 640x288 1 Money, 637.1ms\n",
            "Speed: 2.1ms preprocess, 637.1ms inference, 0.8ms postprocess per image at shape (1, 3, 640, 288)\n",
            "Results saved to \u001b[1mruns/detect/predict\u001b[0m\n",
            "\n",
            "image 1/1 /content/test_data/image_0246.jpg: 640x288 1 Money, 624.5ms\n",
            "Speed: 2.3ms preprocess, 624.5ms inference, 0.8ms postprocess per image at shape (1, 3, 640, 288)\n",
            "Results saved to \u001b[1mruns/detect/predict\u001b[0m\n",
            "\n",
            "image 1/1 /content/test_data/image_0247.jpg: 640x288 1 Money, 636.2ms\n",
            "Speed: 2.4ms preprocess, 636.2ms inference, 0.8ms postprocess per image at shape (1, 3, 640, 288)\n",
            "Results saved to \u001b[1mruns/detect/predict\u001b[0m\n",
            "\n",
            "image 1/1 /content/test_data/image_0248.jpg: 640x288 1 Money, 648.5ms\n",
            "Speed: 2.2ms preprocess, 648.5ms inference, 0.8ms postprocess per image at shape (1, 3, 640, 288)\n",
            "Results saved to \u001b[1mruns/detect/predict\u001b[0m\n",
            "\n",
            "image 1/1 /content/test_data/image_0249.jpg: 640x288 1 Money, 623.4ms\n",
            "Speed: 2.2ms preprocess, 623.4ms inference, 0.8ms postprocess per image at shape (1, 3, 640, 288)\n",
            "Results saved to \u001b[1mruns/detect/predict\u001b[0m\n",
            "\n",
            "image 1/1 /content/test_data/image_0250.jpg: 640x288 1 Money, 631.4ms\n",
            "Speed: 2.2ms preprocess, 631.4ms inference, 0.8ms postprocess per image at shape (1, 3, 640, 288)\n",
            "Results saved to \u001b[1mruns/detect/predict\u001b[0m\n",
            "\n",
            "image 1/1 /content/test_data/image_0251.jpg: 640x288 1 Money, 642.3ms\n",
            "Speed: 2.1ms preprocess, 642.3ms inference, 0.8ms postprocess per image at shape (1, 3, 640, 288)\n",
            "Results saved to \u001b[1mruns/detect/predict\u001b[0m\n",
            "\n",
            "image 1/1 /content/test_data/image_0252.jpg: 640x288 1 Money, 625.7ms\n",
            "Speed: 2.3ms preprocess, 625.7ms inference, 0.8ms postprocess per image at shape (1, 3, 640, 288)\n",
            "Results saved to \u001b[1mruns/detect/predict\u001b[0m\n",
            "\n",
            "image 1/1 /content/test_data/image_0253.jpg: 640x288 1 Money, 798.6ms\n",
            "Speed: 2.2ms preprocess, 798.6ms inference, 1.0ms postprocess per image at shape (1, 3, 640, 288)\n",
            "Results saved to \u001b[1mruns/detect/predict\u001b[0m\n",
            "\n",
            "image 1/1 /content/test_data/image_0254.jpg: 640x288 1 Money, 1012.7ms\n",
            "Speed: 3.1ms preprocess, 1012.7ms inference, 1.0ms postprocess per image at shape (1, 3, 640, 288)\n",
            "Results saved to \u001b[1mruns/detect/predict\u001b[0m\n",
            "\n",
            "image 1/1 /content/test_data/image_0255.jpg: 640x288 1 Money, 1031.3ms\n",
            "Speed: 3.0ms preprocess, 1031.3ms inference, 1.1ms postprocess per image at shape (1, 3, 640, 288)\n",
            "Results saved to \u001b[1mruns/detect/predict\u001b[0m\n",
            "\n",
            "image 1/1 /content/test_data/image_0256.jpg: 640x288 1 Money, 982.9ms\n",
            "Speed: 3.1ms preprocess, 982.9ms inference, 0.8ms postprocess per image at shape (1, 3, 640, 288)\n",
            "Results saved to \u001b[1mruns/detect/predict\u001b[0m\n",
            "\n",
            "image 1/1 /content/test_data/image_0257.jpg: 640x288 2 Moneys, 637.0ms\n",
            "Speed: 2.2ms preprocess, 637.0ms inference, 0.8ms postprocess per image at shape (1, 3, 640, 288)\n",
            "Results saved to \u001b[1mruns/detect/predict\u001b[0m\n",
            "\n",
            "image 1/1 /content/test_data/image_0258.jpg: 640x288 1 Money, 631.7ms\n",
            "Speed: 2.2ms preprocess, 631.7ms inference, 0.8ms postprocess per image at shape (1, 3, 640, 288)\n",
            "Results saved to \u001b[1mruns/detect/predict\u001b[0m\n",
            "\n",
            "image 1/1 /content/test_data/image_0259.jpg: 640x288 1 Money, 624.9ms\n",
            "Speed: 2.2ms preprocess, 624.9ms inference, 0.8ms postprocess per image at shape (1, 3, 640, 288)\n",
            "Results saved to \u001b[1mruns/detect/predict\u001b[0m\n",
            "\n",
            "image 1/1 /content/test_data/image_0260.jpg: 640x288 1 Money, 634.0ms\n",
            "Speed: 2.3ms preprocess, 634.0ms inference, 0.8ms postprocess per image at shape (1, 3, 640, 288)\n",
            "Results saved to \u001b[1mruns/detect/predict\u001b[0m\n",
            "\n",
            "image 1/1 /content/test_data/image_0261.jpg: 640x288 1 Money, 638.3ms\n",
            "Speed: 2.1ms preprocess, 638.3ms inference, 0.8ms postprocess per image at shape (1, 3, 640, 288)\n",
            "Results saved to \u001b[1mruns/detect/predict\u001b[0m\n",
            "\n",
            "image 1/1 /content/test_data/image_0262.jpg: 640x288 1 Money, 628.8ms\n",
            "Speed: 2.5ms preprocess, 628.8ms inference, 0.8ms postprocess per image at shape (1, 3, 640, 288)\n",
            "Results saved to \u001b[1mruns/detect/predict\u001b[0m\n",
            "\n",
            "image 1/1 /content/test_data/image_0263.jpg: 640x288 1 Money, 641.4ms\n",
            "Speed: 3.0ms preprocess, 641.4ms inference, 0.8ms postprocess per image at shape (1, 3, 640, 288)\n",
            "Results saved to \u001b[1mruns/detect/predict\u001b[0m\n",
            "\n",
            "image 1/1 /content/test_data/image_0264.jpg: 640x288 1 Money, 641.6ms\n",
            "Speed: 2.3ms preprocess, 641.6ms inference, 0.8ms postprocess per image at shape (1, 3, 640, 288)\n",
            "Results saved to \u001b[1mruns/detect/predict\u001b[0m\n",
            "\n",
            "image 1/1 /content/test_data/image_0265.jpg: 640x288 1 Money, 643.5ms\n",
            "Speed: 2.5ms preprocess, 643.5ms inference, 0.8ms postprocess per image at shape (1, 3, 640, 288)\n",
            "Results saved to \u001b[1mruns/detect/predict\u001b[0m\n",
            "\n",
            "image 1/1 /content/test_data/image_0266.jpg: 640x288 1 Money, 631.1ms\n",
            "Speed: 2.2ms preprocess, 631.1ms inference, 0.7ms postprocess per image at shape (1, 3, 640, 288)\n",
            "Results saved to \u001b[1mruns/detect/predict\u001b[0m\n",
            "\n",
            "image 1/1 /content/test_data/image_0267.jpg: 640x288 1 Money, 637.9ms\n",
            "Speed: 2.2ms preprocess, 637.9ms inference, 0.8ms postprocess per image at shape (1, 3, 640, 288)\n",
            "Results saved to \u001b[1mruns/detect/predict\u001b[0m\n",
            "\n",
            "image 1/1 /content/test_data/image_0268.jpg: 640x288 1 Money, 646.6ms\n",
            "Speed: 2.2ms preprocess, 646.6ms inference, 0.8ms postprocess per image at shape (1, 3, 640, 288)\n",
            "Results saved to \u001b[1mruns/detect/predict\u001b[0m\n",
            "\n",
            "image 1/1 /content/test_data/image_0269.jpg: 640x288 1 Money, 627.9ms\n",
            "Speed: 2.2ms preprocess, 627.9ms inference, 0.8ms postprocess per image at shape (1, 3, 640, 288)\n",
            "Results saved to \u001b[1mruns/detect/predict\u001b[0m\n",
            "\n",
            "image 1/1 /content/test_data/image_0270.jpg: 640x288 1 Money, 633.2ms\n",
            "Speed: 2.2ms preprocess, 633.2ms inference, 0.8ms postprocess per image at shape (1, 3, 640, 288)\n",
            "Results saved to \u001b[1mruns/detect/predict\u001b[0m\n",
            "\n",
            "image 1/1 /content/test_data/image_0271.jpg: 640x288 1 Money, 1029.4ms\n",
            "Speed: 3.0ms preprocess, 1029.4ms inference, 1.0ms postprocess per image at shape (1, 3, 640, 288)\n",
            "Results saved to \u001b[1mruns/detect/predict\u001b[0m\n",
            "\n",
            "image 1/1 /content/test_data/image_0272.jpg: 640x288 1 Money, 1017.2ms\n",
            "Speed: 3.0ms preprocess, 1017.2ms inference, 1.0ms postprocess per image at shape (1, 3, 640, 288)\n",
            "Results saved to \u001b[1mruns/detect/predict\u001b[0m\n",
            "\n",
            "image 1/1 /content/test_data/image_0273.jpg: 640x288 1 Money, 1032.5ms\n",
            "Speed: 3.2ms preprocess, 1032.5ms inference, 1.2ms postprocess per image at shape (1, 3, 640, 288)\n",
            "Results saved to \u001b[1mruns/detect/predict\u001b[0m\n",
            "\n",
            "image 1/1 /content/test_data/image_0274.jpg: 640x288 1 Money, 751.5ms\n",
            "Speed: 3.2ms preprocess, 751.5ms inference, 0.9ms postprocess per image at shape (1, 3, 640, 288)\n",
            "Results saved to \u001b[1mruns/detect/predict\u001b[0m\n",
            "\n",
            "image 1/1 /content/test_data/image_0275.jpg: 640x288 1 Money, 667.0ms\n",
            "Speed: 3.2ms preprocess, 667.0ms inference, 0.8ms postprocess per image at shape (1, 3, 640, 288)\n",
            "Results saved to \u001b[1mruns/detect/predict\u001b[0m\n",
            "\n",
            "image 1/1 /content/test_data/image_0276.jpg: 640x288 1 Money, 628.7ms\n",
            "Speed: 2.3ms preprocess, 628.7ms inference, 1.0ms postprocess per image at shape (1, 3, 640, 288)\n",
            "Results saved to \u001b[1mruns/detect/predict\u001b[0m\n",
            "\n",
            "image 1/1 /content/test_data/image_0277.jpg: 640x288 1 Money, 635.4ms\n",
            "Speed: 2.3ms preprocess, 635.4ms inference, 0.8ms postprocess per image at shape (1, 3, 640, 288)\n",
            "Results saved to \u001b[1mruns/detect/predict\u001b[0m\n",
            "\n",
            "image 1/1 /content/test_data/image_0278.jpg: 640x288 1 Money, 634.5ms\n",
            "Speed: 2.3ms preprocess, 634.5ms inference, 0.8ms postprocess per image at shape (1, 3, 640, 288)\n",
            "Results saved to \u001b[1mruns/detect/predict\u001b[0m\n",
            "\n",
            "image 1/1 /content/test_data/image_0279.jpg: 640x288 1 Money, 631.5ms\n",
            "Speed: 2.1ms preprocess, 631.5ms inference, 0.8ms postprocess per image at shape (1, 3, 640, 288)\n",
            "Results saved to \u001b[1mruns/detect/predict\u001b[0m\n",
            "\n",
            "image 1/1 /content/test_data/image_0280.jpg: 640x288 1 Money, 638.5ms\n",
            "Speed: 3.2ms preprocess, 638.5ms inference, 0.8ms postprocess per image at shape (1, 3, 640, 288)\n",
            "Results saved to \u001b[1mruns/detect/predict\u001b[0m\n",
            "\n",
            "image 1/1 /content/test_data/image_0281.jpg: 640x288 1 Money, 646.0ms\n",
            "Speed: 2.2ms preprocess, 646.0ms inference, 0.8ms postprocess per image at shape (1, 3, 640, 288)\n",
            "Results saved to \u001b[1mruns/detect/predict\u001b[0m\n"
          ]
        }
      ],
      "source": [
        "for filename in sorted(os.listdir(image_path)):\n",
        "  if filename.endswith(\".jpg\") or filename.endswith(\".png\"):  # Only work with image file\n",
        "    # Image path\n",
        "    path = os.path.join(image_path, filename)\n",
        "    # Object detection\n",
        "    result = model.predict(path, save_crop=True, save=True)"
      ]
    },
    {
      "cell_type": "markdown",
      "metadata": {
        "id": "G_E9wOVBOwqL"
      },
      "source": [
        "## **RECOGNIZE MONEY**"
      ]
    },
    {
      "cell_type": "markdown",
      "metadata": {
        "id": "1NkK5CjNIZTR"
      },
      "source": [
        "\n",
        "### **Normal Calculation**\n",
        "\n"
      ]
    },
    {
      "cell_type": "code",
      "execution_count": null,
      "metadata": {
        "colab": {
          "base_uri": "https://localhost:8080/"
        },
        "id": "thdkxP39AH1Q",
        "outputId": "b671eeb6-6c40-41c0-c524-5d77af147db1"
      },
      "outputs": [
        {
          "name": "stdout",
          "output_type": "stream",
          "text": [
            "File: image_0001.jpg, OCR Result: 50,000 VND, Money: 50000, Total: 50000\n",
            "File: image_0002.jpg, OCR Result: 20,000 VND, Money: 20000, Total: 70000\n",
            "File: image_0003.jpg, OCR Result: 34,000 VND, Money: 34000, Total: 104000\n",
            "File: image_0004.jpg, OCR Result: 80,000 VND, Money: 80000, Total: 184000\n",
            "File: image_0005.jpg, OCR Result: 75,000 VND, Money: 75000, Total: 259000\n",
            "File: image_0006.jpg, OCR Result: 175,000 VND, Money: 175000, Total: 434000\n",
            "File: image_0007.jpg, OCR Result: 550,000 VND, Money: 550000, Total: 984000\n",
            "File: image_0008.jpg, OCR Result: 204,000 VND, Money: 204000, Total: 1188000\n",
            "File: image_0009.jpg, OCR Result: 105,000 VND, Money: 105000, Total: 1293000\n",
            "File: image_0010.jpg, OCR Result: 100,000 VND, Money: 100000, Total: 1393000\n",
            "File: image_0011.jpg, OCR Result: 100,000 VND, Money: 100000, Total: 1493000\n",
            "File: image_0012.jpg, OCR Result: 100,000 VND, Money: 100000, Total: 1593000\n",
            "File: image_0013.jpg, OCR Result: 210,000 VND, Money: 210000, Total: 1803000\n",
            "File: image_0014.jpg, OCR Result: 216,000 VND, Money: 216000, Total: 2019000\n",
            "File: image_0015.jpg, OCR Result: 100,000 VND, Money: 100000, Total: 2119000\n",
            "File: image_0016.jpg, OCR Result: 100,000 VND, Money: 100000, Total: 2219000\n",
            "File: image_0017.jpg, OCR Result: 70,000 VND, Money: 70000, Total: 2289000\n",
            "File: image_0018.jpg, OCR Result: 342,000 VND, Money: 342000, Total: 2631000\n",
            "File: image_0019.jpg, OCR Result: 200,000 VND, Money: 200000, Total: 2831000\n",
            "File: image_0020.jpg, OCR Result: 100,000 VND, Money: 100000, Total: 2931000\n",
            "File: image_0021.jpg, OCR Result: 2,000,000 VND, Money: 2000000, Total: 4931000\n",
            "File: image_0022.jpg, OCR Result: 305,000 VND, Money: 305000, Total: 5236000\n",
            "File: image_0023.jpg, OCR Result: 99,000 VND, Money: 99000, Total: 5335000\n",
            "File: image_0024.jpg, OCR Result: 172,000 VND, Money: 172000, Total: 5507000\n",
            "File: image_0025.jpg, OCR Result: 270,000 VND, Money: 270000, Total: 5777000\n",
            "File: image_0026.jpg, OCR Result: 156,000 VND, Money: 156000, Total: 5933000\n",
            "File: image_0027.jpg, OCR Result: 34,000 VND, Money: 34000, Total: 5967000\n",
            "File: image_0028.jpg, OCR Result: 130,000 VND, Money: 130000, Total: 6097000\n",
            "File: image_0029.jpg, OCR Result: 220,000 VND, Money: 220000, Total: 6317000\n",
            "File: image_0030.jpg, OCR Result: 203,000 VND, Money: 203000, Total: 6520000\n",
            "File: image_0031.jpg, OCR Result: 20,000 VND, Money: 20000, Total: 6540000\n",
            "File: image_0032.jpg, OCR Result: 158,000 VND, Money: 158000, Total: 6698000\n",
            "File: image_0033.jpg, OCR Result: 100,000 VND, Money: 100000, Total: 6798000\n",
            "File: image_0034.jpg, OCR Result: 185.000đ, Money: 185000, Total: 6983000\n",
            "File: image_0035.jpg, OCR Result: 235,000 VND, Money: 235000, Total: 7218000\n",
            "File: image_0036.jpg, OCR Result: 200,000 VND, Money: 200000, Total: 7418000\n",
            "File: image_0037.jpg, OCR Result: 100,000 VND, Money: 100000, Total: 7518000\n",
            "File: image_0038.jpg, OCR Result: 100,000 VND, Money: 100000, Total: 7618000\n",
            "File: image_0039.jpg, OCR Result: 200,000 VND, Money: 200000, Total: 7818000\n",
            "File: image_0040.jpg, OCR Result: 39,000 VND, Money: 39000, Total: 7857000\n",
            "File: image_0041.jpg, OCR Result: 125,000 VND, Money: 125000, Total: 7982000\n",
            "File: image_0042.jpg, OCR Result: 184,000 VND, Money: 184000, Total: 8166000\n",
            "File: image_0043.jpg, OCR Result: 300,000 VND, Money: 300000, Total: 8466000\n",
            "File: image_0044.jpg, OCR Result: 130,000 VND, Money: 130000, Total: 8596000\n",
            "File: image_0045.jpg, OCR Result: 2,000,000 VND, Money: 2000000, Total: 10596000\n",
            "File: image_0046.jpg, OCR Result: 299,000 VND, Money: 299000, Total: 10895000\n",
            "File: image_0047.jpg, OCR Result: 81,000 VND, Money: 81000, Total: 10976000\n",
            "File: image_0048.jpg, OCR Result: 150,000 VND, Money: 150000, Total: 11126000\n",
            "File: image_0049.jpg, OCR Result: 193,000 VND, Money: 193000, Total: 11319000\n",
            "File: image_0050.jpg, OCR Result: 200.000d, Money: 200000, Total: 11519000\n",
            "File: image_0051.jpg, OCR Result: 376,000 VND, Money: 376000, Total: 11895000\n",
            "File: image_0052.jpg, OCR Result: 87,000 VND, Money: 87000, Total: 11982000\n",
            "File: image_0053.jpg, OCR Result: 100,000 VND, Money: 100000, Total: 12082000\n",
            "File: image_0054.jpg, OCR Result: 150,000 VND, Money: 150000, Total: 12232000\n",
            "File: image_0055.jpg, OCR Result: 144,000 VND, Money: 144000, Total: 12376000\n",
            "File: image_0056.jpg, OCR Result: 99,000 VND, Money: 99000, Total: 12475000\n",
            "File: image_0057.jpg, OCR Result: 273,000 VND, Money: 273000, Total: 12748000\n",
            "File: image_0058.jpg, OCR Result: 100,000 VND, Money: 100000, Total: 12848000\n",
            "File: image_0059.jpg, OCR Result: 3.500.000đ, Money: 3500000, Total: 16348000\n",
            "File: image_0060.jpg, OCR Result: 209,000 VND, Money: 209000, Total: 16557000\n",
            "File: image_0061.jpg, OCR Result: 158,000 VND, Money: 158000, Total: 16715000\n",
            "File: image_0062.jpg, OCR Result: 292,000 VND, Money: 292000, Total: 17007000\n",
            "File: image_0063.jpg, OCR Result: 180,000 VND, Money: 180000, Total: 17187000\n",
            "File: image_0064.jpg, OCR Result: 80,000 VND, Money: 80000, Total: 17267000\n",
            "File: image_0065.jpg, OCR Result: 83,000 VND, Money: 83000, Total: 17350000\n",
            "File: image_0066.jpg, OCR Result: 53,000 VND, Money: 53000, Total: 17403000\n",
            "File: image_0067.jpg, OCR Result: 81,000 VND, Money: 81000, Total: 17484000\n",
            "File: image_0068.jpg, OCR Result: 100,000 VND, Money: 100000, Total: 17584000\n",
            "File: image_0069.jpg, OCR Result: 178,000 VND, Money: 178000, Total: 17762000\n",
            "File: image_0070.jpg, OCR Result: 100,000 VND, Money: 100000, Total: 17862000\n",
            "File: image_0071.jpg, OCR Result: 290,000 VND, Money: 290000, Total: 18152000\n",
            "File: image_0072.jpg, OCR Result: 383.000d, Money: 383000, Total: 18535000\n",
            "File: image_0073.jpg, OCR Result: 79,000 VND, Money: 79000, Total: 18614000\n",
            "File: image_0074.jpg, OCR Result: 210,000 VND, Money: 210000, Total: 18824000\n",
            "File: image_0075.jpg, OCR Result: 5,000 VND, Money: 5000, Total: 18829000\n",
            "File: image_0076.jpg, OCR Result: 123,000 VND, Money: 123000, Total: 18952000\n",
            "File: image_0077.jpg, OCR Result: 60,000 VND, Money: 60000, Total: 19012000\n",
            "File: image_0078.jpg, OCR Result: 30,000 VND, Money: 30000, Total: 19042000\n",
            "File: image_0079.jpg, OCR Result: 1,082,000 VND, Money: 1082000, Total: 20124000\n",
            "File: image_0080.jpg, OCR Result: 39,000 VND, Money: 39000, Total: 20163000\n",
            "File: image_0081.jpg, OCR Result: 100,000 VND, Money: 100000, Total: 20263000\n",
            "File: image_0082.jpg, OCR Result: 100,000 VND, Money: 100000, Total: 20363000\n",
            "File: image_0083.jpg, OCR Result: 43,000 VND, Money: 43000, Total: 20406000\n",
            "File: image_0084.jpg, OCR Result: 200,000 VND, Money: 200000, Total: 20606000\n",
            "File: image_0085.jpg, OCR Result: 200,000 VND, Money: 200000, Total: 20806000\n",
            "File: image_0086.jpg, OCR Result: 100,000 VND, Money: 100000, Total: 20906000\n",
            "File: image_0087.jpg, OCR Result: 100,000 VND, Money: 100000, Total: 21006000\n",
            "File: image_0088.jpg, OCR Result: 238,000 VND, Money: 238000, Total: 21244000\n",
            "File: image_0089.jpg, OCR Result: 100,000 VND, Money: 100000, Total: 21344000\n",
            "File: image_0090.jpg, OCR Result: 123,000 VND, Money: 123000, Total: 21467000\n",
            "File: image_0091.jpg, OCR Result: 75,000 VND, Money: 75000, Total: 21542000\n",
            "File: image_0092.jpg, OCR Result: 100,000 VND, Money: 100000, Total: 21642000\n",
            "File: image_0093.jpg, OCR Result: 91,000 VND, Money: 91000, Total: 21733000\n",
            "File: image_0094.jpg, OCR Result: 1.000.000đ, Money: 1000000, Total: 22733000\n",
            "File: image_0095.jpg, OCR Result: 65,000 VND, Money: 65000, Total: 22798000\n",
            "File: image_0096.jpg, OCR Result: 531,000 VND, Money: 531000, Total: 23329000\n",
            "File: image_0097.jpg, OCR Result: 354,000 VND, Money: 354000, Total: 23683000\n",
            "File: image_0098.jpg, OCR Result: 10,000 VND, Money: 10000, Total: 23693000\n",
            "File: image_0099.jpg, OCR Result: 70,000 VND, Money: 70000, Total: 23763000\n",
            "File: image_0100.jpg, OCR Result: 4.000.0O0d, Money: 400000, Total: 24163000\n",
            "File: image_0101.jpg, OCR Result: 100,000 VND, Money: 100000, Total: 24263000\n",
            "File: image_0102.jpg, OCR Result: 100,000 VND, Money: 100000, Total: 24363000\n",
            "File: image_0103.jpg, OCR Result: 17,000 VND, Money: 17000, Total: 24380000\n",
            "File: image_0104.jpg, OCR Result: 100,000 VND, Money: 100000, Total: 24480000\n",
            "File: image_0105.jpg, OCR Result: 100,000 VND, Money: 100000, Total: 24580000\n",
            "File: image_0106.jpg, OCR Result: 60,000 VND, Money: 60000, Total: 24640000\n",
            "File: image_0107.jpg, OCR Result: 262,000 VND, Money: 262000, Total: 24902000\n",
            "File: image_0108.jpg, OCR Result: 190,000 VND, Money: 190000, Total: 25092000\n",
            "File: image_0109.jpg, OCR Result: 170,000 VND, Money: 170000, Total: 25262000\n",
            "File: image_0110.jpg, OCR Result: 100,000 VND, Money: 100000, Total: 25362000\n",
            "File: image_0111.jpg, OCR Result: 500,000 VND, Money: 500000, Total: 25862000\n",
            "File: image_0112.jpg, OCR Result: 145,000 VND, Money: 145000, Total: 26007000\n",
            "File: image_0113.jpg, OCR Result: 55,000 VND, Money: 55000, Total: 26062000\n",
            "File: image_0114.jpg, OCR Result: 50,000 VND, Money: 50000, Total: 26112000\n",
            "File: image_0115.jpg, OCR Result: 100,000 VND, Money: 100000, Total: 26212000\n",
            "File: image_0116.jpg, OCR Result: 150,000 VND, Money: 150000, Total: 26362000\n",
            "File: image_0117.jpg, OCR Result: 262,000 VND, Money: 262000, Total: 26624000\n",
            "File: image_0118.jpg, OCR Result: 830,000 VND, Money: 830000, Total: 27454000\n",
            "File: image_0119.jpg, OCR Result: 100,000 VND, Money: 100000, Total: 27554000\n",
            "File: image_0120.jpg, OCR Result: 200,000 VND, Money: 200000, Total: 27754000\n",
            "File: image_0121.jpg, OCR Result: 255,000 VND, Money: 255000, Total: 28009000\n",
            "File: image_0122.jpg, OCR Result: 4.050.00Ođ, Money: 405000, Total: 28414000\n",
            "File: image_0123.jpg, OCR Result: 100,000 VND, Money: 100000, Total: 28514000\n",
            "File: image_0124.jpg, OCR Result: 100,000 VND, Money: 100000, Total: 28614000\n",
            "File: image_0125.jpg, OCR Result: 80,000 VND, Money: 80000, Total: 28694000\n",
            "File: image_0126.jpg, OCR Result: 250,000 VND, Money: 250000, Total: 28944000\n",
            "File: image_0127.jpg, OCR Result: 22,000 VND, Money: 22000, Total: 28966000\n",
            "File: image_0128.jpg, OCR Result: 135,000 VND, Money: 135000, Total: 29101000\n",
            "File: image_0129.jpg, OCR Result: 85,000 VND, Money: 85000, Total: 29186000\n",
            "File: image_0130.jpg, OCR Result: 102.000đ, Money: 102000, Total: 29288000\n",
            "File: image_0131.jpg, OCR Result: 186.000đ, Money: 186000, Total: 29474000\n",
            "File: image_0132.jpg, OCR Result: 80,000 VND, Money: 80000, Total: 29554000\n",
            "File: image_0133.jpg, OCR Result: 200,000 VND, Money: 200000, Total: 29754000\n",
            "File: image_0134.jpg, OCR Result: 15,000 VND, Money: 15000, Total: 29769000\n",
            "File: image_0135.jpg, OCR Result: 100,000 VND, Money: 100000, Total: 29869000\n",
            "File: image_0136.jpg, OCR Result: 125,000 VND, Money: 125000, Total: 29994000\n",
            "File: image_0137.jpg, OCR Result: 111,000 VND, Money: 111000, Total: 30105000\n",
            "File: image_0138.jpg, OCR Result: 10,000 VND, Money: 10000, Total: 30115000\n",
            "File: image_0139.jpg, OCR Result: 177,000 VND, Money: 177000, Total: 30292000\n",
            "File: image_0140.jpg, OCR Result: 100,000 VND, Money: 100000, Total: 30392000\n",
            "File: image_0141.jpg, OCR Result: 830,000 VND, Money: 830000, Total: 31222000\n",
            "File: image_0142.jpg, OCR Result: 100,000 VND, Money: 100000, Total: 31322000\n",
            "File: image_0143.jpg, OCR Result: 135,000 VND, Money: 135000, Total: 31457000\n",
            "File: image_0144.jpg, OCR Result: 87.00Od, Money: 8700, Total: 31465700\n",
            "File: image_0145.jpg, OCR Result: 90,000 VND, Money: 90000, Total: 31555700\n",
            "File: image_0146.jpg, OCR Result: 118,000 VND, Money: 118000, Total: 31673700\n",
            "File: image_0147.jpg, OCR Result: 100,000 VND, Money: 100000, Total: 31773700\n",
            "File: image_0148.jpg, OCR Result: 100,000 VND, Money: 100000, Total: 31873700\n",
            "File: image_0149.jpg, OCR Result: 200,000 VND, Money: 200000, Total: 32073700\n",
            "File: image_0150.jpg, OCR Result: 255,000 VND, Money: 255000, Total: 32328700\n",
            "File: image_0151.jpg, OCR Result: 170,000 VND, Money: 170000, Total: 32498700\n",
            "File: image_0152.jpg, OCR Result: 100,000 VND, Money: 100000, Total: 32598700\n",
            "File: image_0153.jpg, OCR Result: 100,000 VND, Money: 100000, Total: 32698700\n",
            "File: image_0154.jpg, OCR Result: 77,000 VND, Money: 77000, Total: 32775700\n",
            "File: image_0155.jpg, OCR Result: 107,000 VND, Money: 107000, Total: 32882700\n",
            "File: image_0156.jpg, OCR Result: 332,000 VND, Money: 332000, Total: 33214700\n",
            "File: image_0157.jpg, OCR Result: 2.000.000d, Money: 2000000, Total: 35214700\n",
            "File: image_0158.jpg, OCR Result: 2,000,000 VND, Money: 2000000, Total: 37214700\n",
            "File: image_0159.jpg, OCR Result: 170,000 VND, Money: 170000, Total: 37384700\n",
            "File: image_0160.jpg, OCR Result: 1,000,000 VND, Money: 1000000, Total: 38384700\n",
            "File: image_0161.jpg, OCR Result: 100,000 VND, Money: 100000, Total: 38484700\n",
            "File: image_0162.jpg, OCR Result: 50,000 VND, Money: 50000, Total: 38534700\n",
            "File: image_0163.jpg, OCR Result: 413,000 VND, Money: 413000, Total: 38947700\n",
            "File: image_0164.jpg, OCR Result: 150,000 VND, Money: 150000, Total: 39097700\n",
            "File: image_0165.jpg, OCR Result: 83,000 VND, Money: 83000, Total: 39180700\n",
            "File: image_0166.jpg, OCR Result: 200,000 VND, Money: 200000, Total: 39380700\n",
            "File: image_0167.jpg, OCR Result: 245,000 VND, Money: 245000, Total: 39625700\n",
            "File: image_0168.jpg, OCR Result: 115,000 VND, Money: 115000, Total: 39740700\n",
            "File: image_0169.jpg, OCR Result: 500,000 VND, Money: 500000, Total: 40240700\n",
            "File: image_0170.jpg, OCR Result: 1.000.000đ, Money: 1000000, Total: 41240700\n",
            "File: image_0171.jpg, OCR Result: 220,000 VND, Money: 220000, Total: 41460700\n",
            "File: image_0172.jpg, OCR Result: 100,000 VND, Money: 100000, Total: 41560700\n",
            "File: image_0173.jpg, OCR Result: 80,000 VND, Money: 80000, Total: 41640700\n",
            "File: image_0174.jpg, OCR Result: 100,000 VND, Money: 100000, Total: 41740700\n",
            "File: image_0175.jpg, OCR Result: 100,000 VND, Money: 100000, Total: 41840700\n",
            "File: image_0176.jpg, OCR Result: 215,000 VND, Money: 215000, Total: 42055700\n",
            "File: image_0177.jpg, OCR Result: 180,000 VND, Money: 180000, Total: 42235700\n",
            "File: image_0178.jpg, OCR Result: 100,000 VND, Money: 100000, Total: 42335700\n",
            "File: image_0179.jpg, OCR Result: 427,000 VND, Money: 427000, Total: 42762700\n",
            "File: image_0180.jpg, OCR Result: 198,000 VND, Money: 198000, Total: 42960700\n",
            "File: image_0181.jpg, OCR Result: 35,000 VND, Money: 35000, Total: 42995700\n",
            "File: image_0182.jpg, OCR Result: 78,000 VND, Money: 78000, Total: 43073700\n",
            "File: image_0183.jpg, OCR Result: 76,000 VND, Money: 76000, Total: 43149700\n",
            "File: image_0184.jpg, OCR Result: 540,000 VND, Money: 540000, Total: 43689700\n",
            "File: image_0185.jpg, OCR Result: 85,000 VND, Money: 85000, Total: 43774700\n",
            "File: image_0186.jpg, OCR Result: 351,000 VND, Money: 351000, Total: 44125700\n",
            "File: image_0187.jpg, OCR Result: 170,000 VND, Money: 170000, Total: 44295700\n",
            "File: image_0188.jpg, OCR Result: 50,000 VND, Money: 50000, Total: 44345700\n",
            "File: image_0189.jpg, OCR Result: 69,000 VND, Money: 69000, Total: 44414700\n",
            "File: image_0190.jpg, OCR Result: 280,000 VND, Money: 280000, Total: 44694700\n",
            "File: image_0191.jpg, OCR Result: 170,000 VND, Money: 170000, Total: 44864700\n",
            "File: image_0192.jpg, OCR Result: 216,000 VND, Money: 216000, Total: 45080700\n",
            "File: image_0193.jpg, OCR Result: 581,000 VND, Money: 581000, Total: 45661700\n",
            "File: image_0194.jpg, OCR Result: 59,000 VND, Money: 59000, Total: 45720700\n",
            "File: image_0195.jpg, OCR Result: 6,510,000 VND, Money: 6510000, Total: 52230700\n",
            "File: image_0196.jpg, OCR Result: 157,000 VND, Money: 157000, Total: 52387700\n",
            "File: image_0197.jpg, OCR Result: 113,000 VND, Money: 113000, Total: 52500700\n",
            "File: image_0198.jpg, OCR Result: 79,000 VND, Money: 79000, Total: 52579700\n",
            "File: image_0199.jpg, OCR Result: 300,000 VND, Money: 300000, Total: 52879700\n",
            "File: image_0200.jpg, OCR Result: 170,000 VND, Money: 170000, Total: 53049700\n",
            "File: image_0201.jpg, OCR Result: 796,000 VND, Money: 796000, Total: 53845700\n",
            "File: image_0202.jpg, OCR Result: 1.000.000đ, Money: 1000000, Total: 54845700\n",
            "File: image_0203.jpg, OCR Result: 75,000 VND, Money: 75000, Total: 54920700\n",
            "File: image_0204.jpg, OCR Result: 131,000 VND, Money: 131000, Total: 55051700\n",
            "File: image_0205.jpg, OCR Result: 140,000 VND, Money: 140000, Total: 55191700\n",
            "File: image_0206.jpg, OCR Result: 238,000 VND, Money: 238000, Total: 55429700\n",
            "File: image_0207.jpg, OCR Result: 69,000 VND, Money: 69000, Total: 55498700\n",
            "File: image_0208.jpg, OCR Result: 49,000 VND, Money: 49000, Total: 55547700\n",
            "File: image_0209.jpg, OCR Result: 139,000 VND, Money: 139000, Total: 55686700\n",
            "File: image_0210.jpg, OCR Result: 125,000 VND, Money: 125000, Total: 55811700\n",
            "File: image_0211.jpg, OCR Result: 313,000 VND, Money: 313000, Total: 56124700\n",
            "File: image_0212.jpg, OCR Result: 340,000 VND, Money: 340000, Total: 56464700\n",
            "File: image_0213.jpg, OCR Result: 180,000 VND, Money: 180000, Total: 56644700\n",
            "File: image_0214.jpg, OCR Result: 106,000 VND, Money: 106000, Total: 56750700\n",
            "File: image_0215.jpg, OCR Result: 536,000 VND, Money: 536000, Total: 57286700\n",
            "File: image_0216.jpg, OCR Result: 85.000d, Money: 85000, Total: 57371700\n",
            "File: image_0217.jpg, OCR Result: 35,000 VND, Money: 35000, Total: 57406700\n",
            "File: image_0218.jpg, OCR Result: 200.00Ođ, Money: 20000, Total: 57426700\n",
            "File: image_0219.jpg, OCR Result: 123,000 VND, Money: 123000, Total: 57549700\n",
            "File: image_0220.jpg, OCR Result: 187,000 VND, Money: 187000, Total: 57736700\n",
            "File: image_0221.jpg, OCR Result: 145,000 VND, Money: 145000, Total: 57881700\n",
            "File: image_0222.jpg, OCR Result: 50,000 VND, Money: 50000, Total: 57931700\n",
            "File: image_0223.jpg, OCR Result: 520,000 VND, Money: 520000, Total: 58451700\n",
            "File: image_0224.jpg, OCR Result: 51,000 VND, Money: 51000, Total: 58502700\n",
            "File: image_0225.jpg, OCR Result: 114,000 VND, Money: 114000, Total: 58616700\n",
            "File: image_02252.jpg, OCR Result: 115,000 VND, Money: 115000, Total: 58731700\n",
            "File: image_02253.jpg, OCR Result: 123,000 VND, Money: 123000, Total: 58854700\n",
            "File: image_02254.jpg, OCR Result: 350,000 VND, Money: 350000, Total: 59204700\n",
            "File: image_02255.jpg, OCR Result: 84,000 VND, Money: 84000, Total: 59288700\n",
            "File: image_02256.jpg, OCR Result: 55,000 VND, Money: 55000, Total: 59343700\n",
            "File: image_02257.jpg, OCR Result: 86,000 VND, Money: 86000, Total: 59429700\n",
            "File: image_02258.jpg, OCR Result: 50,000 VND, Money: 50000, Total: 59479700\n",
            "File: image_02259.jpg, OCR Result: 85,000 VND, Money: 85000, Total: 59564700\n",
            "File: image_0226.jpg, OCR Result: 300,000 VND, Money: 300000, Total: 59864700\n",
            "File: image_0227.jpg, OCR Result: 50,000 VND, Money: 50000, Total: 59914700\n",
            "File: image_0228.jpg, OCR Result: 30,000 VND, Money: 30000, Total: 59944700\n",
            "File: image_0229.jpg, OCR Result: 100,000 VND, Money: 100000, Total: 60044700\n",
            "File: image_0230.jpg, OCR Result: 55,000 VND, Money: 55000, Total: 60099700\n",
            "File: image_0231.jpg, OCR Result: 98,000 VND, Money: 98000, Total: 60197700\n",
            "File: image_0232.jpg, OCR Result: 165,000 VND, Money: 165000, Total: 60362700\n",
            "File: image_0233.jpg, OCR Result: 200.00Ođ, Money: 20000, Total: 60382700\n",
            "File: image_0234.jpg, OCR Result: 113,000 VND, Money: 113000, Total: 60495700\n",
            "File: image_0235.jpg, OCR Result: 110,000 VND, Money: 110000, Total: 60605700\n",
            "File: image_0236.jpg, OCR Result: 287,000 VND, Money: 287000, Total: 60892700\n",
            "File: image_0237.jpg, OCR Result: 35,000 VND, Money: 35000, Total: 60927700\n",
            "File: image_0238.jpg, OCR Result: 123,000 VND, Money: 123000, Total: 61050700\n",
            "File: image_0239.jpg, OCR Result: 100,000 VND, Money: 100000, Total: 61150700\n",
            "File: image_0240.jpg, OCR Result: 50,000 VND, Money: 50000, Total: 61200700\n",
            "File: image_0241.jpg, OCR Result: 132,000 VND, Money: 132000, Total: 61332700\n",
            "File: image_0242.jpg, OCR Result: 50,000 VND, Money: 50000, Total: 61382700\n",
            "File: image_0243.jpg, OCR Result: 68,000 VND, Money: 68000, Total: 61450700\n",
            "File: image_0244.jpg, OCR Result: 100,000 VND, Money: 100000, Total: 61550700\n",
            "File: image_0245.jpg, OCR Result: 181,000 VND, Money: 181000, Total: 61731700\n",
            "File: image_0246.jpg, OCR Result: 160,000 VND, Money: 160000, Total: 61891700\n",
            "File: image_0247.jpg, OCR Result: 123,000 VND, Money: 123000, Total: 62014700\n",
            "File: image_0248.jpg, OCR Result: 146,000 VND, Money: 146000, Total: 62160700\n",
            "File: image_0249.jpg, OCR Result: 6,300,000 VND, Money: 6300000, Total: 68460700\n",
            "File: image_0250.jpg, OCR Result: 100,000 VND, Money: 100000, Total: 68560700\n",
            "File: image_0251.jpg, OCR Result: 220,000 VND, Money: 220000, Total: 68780700\n",
            "File: image_0252.jpg, OCR Result: 80,000 VND, Money: 80000, Total: 68860700\n",
            "File: image_0253.jpg, OCR Result: 85,000 VND, Money: 85000, Total: 68945700\n",
            "File: image_0254.jpg, OCR Result: 20,000 VND, Money: 20000, Total: 68965700\n",
            "File: image_0255.jpg, OCR Result: 76,000 VND, Money: 76000, Total: 69041700\n",
            "File: image_0256.jpg, OCR Result: 170,000 VND, Money: 170000, Total: 69211700\n",
            "File: image_0257.jpg, OCR Result: 3.150.00Ođ, Money: 315000, Total: 69526700\n",
            "File: image_0258.jpg, OCR Result: 67,000 VND, Money: 67000, Total: 69593700\n",
            "File: image_0259.jpg, OCR Result: 176,000 VND, Money: 176000, Total: 69769700\n",
            "File: image_0260.jpg, OCR Result: 234,000 VND, Money: 234000, Total: 70003700\n",
            "File: image_0261.jpg, OCR Result: 197,000 VND, Money: 197000, Total: 70200700\n",
            "File: image_0262.jpg, OCR Result: 163,000 VND, Money: 163000, Total: 70363700\n",
            "File: image_0263.jpg, OCR Result: 170,000 VND, Money: 170000, Total: 70533700\n",
            "File: image_0264.jpg, OCR Result: 55,000 VND, Money: 55000, Total: 70588700\n",
            "File: image_0265.jpg, OCR Result: 100,000 VND, Money: 100000, Total: 70688700\n",
            "File: image_0266.jpg, OCR Result: 266,000 VND, Money: 266000, Total: 70954700\n",
            "File: image_0267.jpg, OCR Result: 225,000 VND, Money: 225000, Total: 71179700\n",
            "File: image_0268.jpg, OCR Result: 100,000 VND, Money: 100000, Total: 71279700\n",
            "File: image_0269.jpg, OCR Result: 150,000 VND, Money: 150000, Total: 71429700\n",
            "File: image_0270.jpg, OCR Result: 413,000 VND, Money: 413000, Total: 71842700\n",
            "File: image_0271.jpg, OCR Result: 105,000 VND, Money: 105000, Total: 71947700\n",
            "File: image_0272.jpg, OCR Result: 50.00Od, Money: 5000, Total: 71952700\n",
            "File: image_0273.jpg, OCR Result: 314,000 VND, Money: 314000, Total: 72266700\n",
            "File: image_0274.jpg, OCR Result: 199,000 VND, Money: 199000, Total: 72465700\n",
            "File: image_0275.jpg, OCR Result: 84,000 VND, Money: 84000, Total: 72549700\n",
            "File: image_0276.jpg, OCR Result: 100,000 VND, Money: 100000, Total: 72649700\n",
            "File: image_0277.jpg, OCR Result: 55,000 VND, Money: 55000, Total: 72704700\n",
            "File: image_0278.jpg, OCR Result: 22,000 VND, Money: 22000, Total: 72726700\n",
            "File: image_0279.jpg, OCR Result: 549,000 VND, Money: 549000, Total: 73275700\n",
            "File: image_0280.jpg, OCR Result: 130,000 VND, Money: 130000, Total: 73405700\n",
            "File: image_0281.jpg, OCR Result: 180,000 VND, Money: 180000, Total: 73585700\n"
          ]
        }
      ],
      "source": [
        "sum = 0\n",
        "for filename in sorted(os.listdir(image_crop_path)):\n",
        "  if filename.endswith(\".jpg\") or filename.endswith(\".png\"):  # Only work with image files\n",
        "    # Image path\n",
        "    image_path = os.path.join(image_crop_path, filename)\n",
        "    # OCR\n",
        "    ocr_result = reader.readtext(os.path.join(image_crop_path,filename))\n",
        "    # Remove texts if they're in the image\n",
        "    ocr_text = ocr_result[0][1]\n",
        "    ocr_text = re.sub(r'[^0-9]', '', ocr_text)\n",
        "    money = int(ocr_text)\n",
        "    sum += money\n",
        "    # Print result\n",
        "    print(f\"File: {filename}, OCR Result: {ocr_result[0][1]}, Money: {money}, Total: {sum}\")"
      ]
    },
    {
      "cell_type": "markdown",
      "metadata": {
        "id": "77KMSP6kIVCJ"
      },
      "source": [
        "### **Parallel Calculation**"
      ]
    },
    {
      "cell_type": "code",
      "execution_count": null,
      "metadata": {
        "colab": {
          "base_uri": "https://localhost:8080/"
        },
        "id": "56b8Mw2wFQH5",
        "outputId": "57ff27b7-1f87-410e-8538-2471053e7f03"
      },
      "outputs": [
        {
          "name": "stdout",
          "output_type": "stream",
          "text": [
            "File: image_0003.jpg, OCR Result: 34,000 VND, Money: 34000, Total: 34000\n",
            "File: image_0004.jpg, OCR Result: 80,000 VND, Money: 80000, Total: 114000\n",
            "File: image_0001.jpg, OCR Result: 50,000 VND, Money: 50000, Total: 164000\n",
            "File: image_0002.jpg, OCR Result: 20,000 VND, Money: 20000, Total: 184000\n",
            "File: image_0005.jpg, OCR Result: 75,000 VND, Money: 75000, Total: 259000\n",
            "File: image_0006.jpg, OCR Result: 175,000 VND, Money: 175000, Total: 434000\n",
            "File: image_0011.jpg, OCR Result: 100,000 VND, Money: 100000, Total: 534000\n",
            "File: image_0008.jpg, OCR Result: 204,000 VND, Money: 204000, Total: 738000\n",
            "File: image_0009.jpg, OCR Result: 105,000 VND, Money: 105000, Total: 843000\n",
            "File: image_0007.jpg, OCR Result: 550,000 VND, Money: 550000, Total: 1393000\n",
            "File: image_0010.jpg, OCR Result: 100,000 VND, Money: 100000, Total: 1493000\n",
            "File: image_0012.jpg, OCR Result: 100,000 VND, Money: 100000, Total: 1593000\n",
            "File: image_0016.jpg, OCR Result: 100,000 VND, Money: 100000, Total: 1693000\n",
            "File: image_0017.jpg, OCR Result: 70,000 VND, Money: 70000, Total: 1763000\n",
            "File: image_0013.jpg, OCR Result: 210,000 VND, Money: 210000, Total: 1973000\n",
            "File: image_0015.jpg, OCR Result: 100,000 VND, Money: 100000, Total: 2073000\n",
            "File: image_0014.jpg, OCR Result: 216,000 VND, Money: 216000, Total: 2289000\n",
            "File: image_0018.jpg, OCR Result: 342,000 VND, Money: 342000, Total: 2631000\n",
            "File: image_0020.jpg, OCR Result: 100,000 VND, Money: 100000, Total: 2731000\n",
            "File: image_0019.jpg, OCR Result: 200,000 VND, Money: 200000, Total: 2931000\n",
            "File: image_0021.jpg, OCR Result: 2,000,000 VND, Money: 2000000, Total: 4931000\n",
            "File: image_0023.jpg, OCR Result: 99,000 VND, Money: 99000, Total: 5030000\n",
            "File: image_0022.jpg, OCR Result: 305,000 VND, Money: 305000, Total: 5335000\n",
            "File: image_0024.jpg, OCR Result: 172,000 VND, Money: 172000, Total: 5507000\n",
            "File: image_0025.jpg, OCR Result: 270,000 VND, Money: 270000, Total: 5777000\n",
            "File: image_0027.jpg, OCR Result: 34,000 VND, Money: 34000, Total: 5811000\n",
            "File: image_0026.jpg, OCR Result: 156,000 VND, Money: 156000, Total: 5967000\n",
            "File: image_0028.jpg, OCR Result: 130,000 VND, Money: 130000, Total: 6097000\n",
            "File: image_0029.jpg, OCR Result: 220,000 VND, Money: 220000, Total: 6317000\n",
            "File: image_0030.jpg, OCR Result: 203,000 VND, Money: 203000, Total: 6520000\n",
            "File: image_0031.jpg, OCR Result: 20,000 VND, Money: 20000, Total: 6540000\n",
            "File: image_0032.jpg, OCR Result: 158,000 VND, Money: 158000, Total: 6698000\n",
            "File: image_0033.jpg, OCR Result: 100,000 VND, Money: 100000, Total: 6798000\n",
            "File: image_0035.jpg, OCR Result: 235,000 VND, Money: 235000, Total: 7033000\n",
            "File: image_0036.jpg, OCR Result: 200,000 VND, Money: 200000, Total: 7233000\n",
            "File: image_0037.jpg, OCR Result: 100,000 VND, Money: 100000, Total: 7333000\n",
            "File: image_0034.jpg, OCR Result: 185.000đ, Money: 185000, Total: 7518000\n",
            "File: image_0038.jpg, OCR Result: 100,000 VND, Money: 100000, Total: 7618000\n",
            "File: image_0039.jpg, OCR Result: 200,000 VND, Money: 200000, Total: 7818000\n",
            "File: image_0040.jpg, OCR Result: 39,000 VND, Money: 39000, Total: 7857000\n",
            "File: image_0041.jpg, OCR Result: 125,000 VND, Money: 125000, Total: 7982000\n",
            "File: image_0042.jpg, OCR Result: 184,000 VND, Money: 184000, Total: 8166000\n",
            "File: image_0044.jpg, OCR Result: 130,000 VND, Money: 130000, Total: 8296000\n",
            "File: image_0043.jpg, OCR Result: 300,000 VND, Money: 300000, Total: 8596000\n",
            "File: image_0045.jpg, OCR Result: 2,000,000 VND, Money: 2000000, Total: 10596000\n",
            "File: image_0046.jpg, OCR Result: 299,000 VND, Money: 299000, Total: 10895000\n",
            "File: image_0047.jpg, OCR Result: 81,000 VND, Money: 81000, Total: 10976000\n",
            "File: image_0048.jpg, OCR Result: 150,000 VND, Money: 150000, Total: 11126000\n",
            "File: image_0049.jpg, OCR Result: 193,000 VND, Money: 193000, Total: 11319000\n",
            "File: image_0052.jpg, OCR Result: 87,000 VND, Money: 87000, Total: 11406000\n",
            "File: image_0051.jpg, OCR Result: 376,000 VND, Money: 376000, Total: 11782000\n",
            "File: image_0053.jpg, OCR Result: 100,000 VND, Money: 100000, Total: 11882000\n",
            "File: image_0050.jpg, OCR Result: 200.000d, Money: 200000, Total: 12082000\n",
            "File: image_0054.jpg, OCR Result: 150,000 VND, Money: 150000, Total: 12232000\n",
            "File: image_0055.jpg, OCR Result: 144,000 VND, Money: 144000, Total: 12376000\n",
            "File: image_0056.jpg, OCR Result: 99,000 VND, Money: 99000, Total: 12475000\n",
            "File: image_0057.jpg, OCR Result: 273,000 VND, Money: 273000, Total: 12748000\n",
            "File: image_0058.jpg, OCR Result: 100,000 VND, Money: 100000, Total: 12848000\n",
            "File: image_0060.jpg, OCR Result: 209,000 VND, Money: 209000, Total: 13057000\n",
            "File: image_0061.jpg, OCR Result: 158,000 VND, Money: 158000, Total: 13215000\n",
            "File: image_0062.jpg, OCR Result: 292,000 VND, Money: 292000, Total: 13507000\n",
            "File: image_0064.jpg, OCR Result: 80,000 VND, Money: 80000, Total: 13587000\n",
            "File: image_0063.jpg, OCR Result: 180,000 VND, Money: 180000, Total: 13767000\n",
            "File: image_0059.jpg, OCR Result: 3.500.000đ, Money: 3500000, Total: 17267000\n",
            "File: image_0065.jpg, OCR Result: 83,000 VND, Money: 83000, Total: 17350000\n",
            "File: image_0066.jpg, OCR Result: 53,000 VND, Money: 53000, Total: 17403000\n",
            "File: image_0068.jpg, OCR Result: 100,000 VND, Money: 100000, Total: 17503000\n",
            "File: image_0067.jpg, OCR Result: 81,000 VND, Money: 81000, Total: 17584000\n",
            "File: image_0070.jpg, OCR Result: 100,000 VND, Money: 100000, Total: 17684000\n",
            "File: image_0069.jpg, OCR Result: 178,000 VND, Money: 178000, Total: 17862000\n",
            "File: image_0071.jpg, OCR Result: 290,000 VND, Money: 290000, Total: 18152000\n",
            "File: image_0073.jpg, OCR Result: 79,000 VND, Money: 79000, Total: 18231000\n",
            "File: image_0075.jpg, OCR Result: 5,000 VND, Money: 5000, Total: 18236000\n",
            "File: image_0072.jpg, OCR Result: 383.000d, Money: 383000, Total: 18619000\n",
            "File: image_0074.jpg, OCR Result: 210,000 VND, Money: 210000, Total: 18829000\n",
            "File: image_0077.jpg, OCR Result: 60,000 VND, Money: 60000, Total: 18889000\n",
            "File: image_0076.jpg, OCR Result: 123,000 VND, Money: 123000, Total: 19012000\n",
            "File: image_0080.jpg, OCR Result: 39,000 VND, Money: 39000, Total: 19051000\n",
            "File: image_0078.jpg, OCR Result: 30,000 VND, Money: 30000, Total: 19081000\n",
            "File: image_0081.jpg, OCR Result: 100,000 VND, Money: 100000, Total: 19181000\n",
            "File: image_0082.jpg, OCR Result: 100,000 VND, Money: 100000, Total: 19281000\n",
            "File: image_0083.jpg, OCR Result: 43,000 VND, Money: 43000, Total: 19324000\n",
            "File: image_0079.jpg, OCR Result: 1,082,000 VND, Money: 1082000, Total: 20406000\n",
            "File: image_0084.jpg, OCR Result: 200,000 VND, Money: 200000, Total: 20606000\n",
            "File: image_0085.jpg, OCR Result: 200,000 VND, Money: 200000, Total: 20806000\n",
            "File: image_0086.jpg, OCR Result: 100,000 VND, Money: 100000, Total: 20906000\n",
            "File: image_0087.jpg, OCR Result: 100,000 VND, Money: 100000, Total: 21006000\n",
            "File: image_0088.jpg, OCR Result: 238,000 VND, Money: 238000, Total: 21244000\n",
            "File: image_0089.jpg, OCR Result: 100,000 VND, Money: 100000, Total: 21344000\n",
            "File: image_0090.jpg, OCR Result: 123,000 VND, Money: 123000, Total: 21467000\n",
            "File: image_0091.jpg, OCR Result: 75,000 VND, Money: 75000, Total: 21542000\n",
            "File: image_0092.jpg, OCR Result: 100,000 VND, Money: 100000, Total: 21642000\n",
            "File: image_0093.jpg, OCR Result: 91,000 VND, Money: 91000, Total: 21733000\n",
            "File: image_0095.jpg, OCR Result: 65,000 VND, Money: 65000, Total: 21798000\n",
            "File: image_0094.jpg, OCR Result: 1.000.000đ, Money: 1000000, Total: 22798000\n",
            "File: image_0096.jpg, OCR Result: 531,000 VND, Money: 531000, Total: 23329000\n",
            "File: image_0099.jpg, OCR Result: 70,000 VND, Money: 70000, Total: 23399000\n",
            "File: image_0097.jpg, OCR Result: 354,000 VND, Money: 354000, Total: 23753000\n",
            "File: image_0098.jpg, OCR Result: 10,000 VND, Money: 10000, Total: 23763000\n",
            "File: image_0102.jpg, OCR Result: 100,000 VND, Money: 100000, Total: 23863000\n",
            "File: image_0101.jpg, OCR Result: 100,000 VND, Money: 100000, Total: 23963000\n",
            "File: image_0103.jpg, OCR Result: 17,000 VND, Money: 17000, Total: 23980000\n",
            "File: image_0104.jpg, OCR Result: 100,000 VND, Money: 100000, Total: 24080000\n",
            "File: image_0100.jpg, OCR Result: 4.000.0O0d, Money: 400000, Total: 24480000\n",
            "File: image_0105.jpg, OCR Result: 100,000 VND, Money: 100000, Total: 24580000\n",
            "File: image_0106.jpg, OCR Result: 60,000 VND, Money: 60000, Total: 24640000\n",
            "File: image_0107.jpg, OCR Result: 262,000 VND, Money: 262000, Total: 24902000\n",
            "File: image_0108.jpg, OCR Result: 190,000 VND, Money: 190000, Total: 25092000\n",
            "File: image_0109.jpg, OCR Result: 170,000 VND, Money: 170000, Total: 25262000\n",
            "File: image_0111.jpg, OCR Result: 500,000 VND, Money: 500000, Total: 25762000\n",
            "File: image_0110.jpg, OCR Result: 100,000 VND, Money: 100000, Total: 25862000\n",
            "File: image_0113.jpg, OCR Result: 55,000 VND, Money: 55000, Total: 25917000\n",
            "File: image_0112.jpg, OCR Result: 145,000 VND, Money: 145000, Total: 26062000\n",
            "File: image_0114.jpg, OCR Result: 50,000 VND, Money: 50000, Total: 26112000\n",
            "File: image_0115.jpg, OCR Result: 100,000 VND, Money: 100000, Total: 26212000\n",
            "File: image_0116.jpg, OCR Result: 150,000 VND, Money: 150000, Total: 26362000\n",
            "File: image_0117.jpg, OCR Result: 262,000 VND, Money: 262000, Total: 26624000\n",
            "File: image_0118.jpg, OCR Result: 830,000 VND, Money: 830000, Total: 27454000\n",
            "File: image_0119.jpg, OCR Result: 100,000 VND, Money: 100000, Total: 27554000\n",
            "File: image_0120.jpg, OCR Result: 200,000 VND, Money: 200000, Total: 27754000\n",
            "File: image_0121.jpg, OCR Result: 255,000 VND, Money: 255000, Total: 28009000\n",
            "File: image_0123.jpg, OCR Result: 100,000 VND, Money: 100000, Total: 28109000\n",
            "File: image_0124.jpg, OCR Result: 100,000 VND, Money: 100000, Total: 28209000\n",
            "File: image_0125.jpg, OCR Result: 80,000 VND, Money: 80000, Total: 28289000\n",
            "File: image_0127.jpg, OCR Result: 22,000 VND, Money: 22000, Total: 28311000\n",
            "File: image_0126.jpg, OCR Result: 250,000 VND, Money: 250000, Total: 28561000\n",
            "File: image_0122.jpg, OCR Result: 4.050.00Ođ, Money: 405000, Total: 28966000\n",
            "File: image_0128.jpg, OCR Result: 135,000 VND, Money: 135000, Total: 29101000\n",
            "File: image_0129.jpg, OCR Result: 85,000 VND, Money: 85000, Total: 29186000\n",
            "File: image_0132.jpg, OCR Result: 80,000 VND, Money: 80000, Total: 29266000\n",
            "File: image_0133.jpg, OCR Result: 200,000 VND, Money: 200000, Total: 29466000\n",
            "File: image_0134.jpg, OCR Result: 15,000 VND, Money: 15000, Total: 29481000\n",
            "File: image_0130.jpg, OCR Result: 102.000đ, Money: 102000, Total: 29583000\n",
            "File: image_0135.jpg, OCR Result: 100,000 VND, Money: 100000, Total: 29683000\n",
            "File: image_0131.jpg, OCR Result: 186.000đ, Money: 186000, Total: 29869000\n",
            "File: image_0136.jpg, OCR Result: 125,000 VND, Money: 125000, Total: 29994000\n",
            "File: image_0138.jpg, OCR Result: 10,000 VND, Money: 10000, Total: 30004000\n",
            "File: image_0137.jpg, OCR Result: 111,000 VND, Money: 111000, Total: 30115000\n",
            "File: image_0139.jpg, OCR Result: 177,000 VND, Money: 177000, Total: 30292000\n",
            "File: image_0140.jpg, OCR Result: 100,000 VND, Money: 100000, Total: 30392000\n",
            "File: image_0141.jpg, OCR Result: 830,000 VND, Money: 830000, Total: 31222000\n",
            "File: image_0142.jpg, OCR Result: 100,000 VND, Money: 100000, Total: 31322000\n",
            "File: image_0143.jpg, OCR Result: 135,000 VND, Money: 135000, Total: 31457000\n",
            "File: image_0145.jpg, OCR Result: 90,000 VND, Money: 90000, Total: 31547000\n",
            "File: image_0144.jpg, OCR Result: 87.00Od, Money: 8700, Total: 31555700\n",
            "File: image_0147.jpg, OCR Result: 100,000 VND, Money: 100000, Total: 31655700\n",
            "File: image_0146.jpg, OCR Result: 118,000 VND, Money: 118000, Total: 31773700\n",
            "File: image_0148.jpg, OCR Result: 100,000 VND, Money: 100000, Total: 31873700\n",
            "File: image_0149.jpg, OCR Result: 200,000 VND, Money: 200000, Total: 32073700\n",
            "File: image_0150.jpg, OCR Result: 255,000 VND, Money: 255000, Total: 32328700\n",
            "File: image_0151.jpg, OCR Result: 170,000 VND, Money: 170000, Total: 32498700\n",
            "File: image_0152.jpg, OCR Result: 100,000 VND, Money: 100000, Total: 32598700\n",
            "File: image_0153.jpg, OCR Result: 100,000 VND, Money: 100000, Total: 32698700\n",
            "File: image_0154.jpg, OCR Result: 77,000 VND, Money: 77000, Total: 32775700\n",
            "File: image_0155.jpg, OCR Result: 107,000 VND, Money: 107000, Total: 32882700\n",
            "File: image_0156.jpg, OCR Result: 332,000 VND, Money: 332000, Total: 33214700\n",
            "File: image_0159.jpg, OCR Result: 170,000 VND, Money: 170000, Total: 33384700\n",
            "File: image_0158.jpg, OCR Result: 2,000,000 VND, Money: 2000000, Total: 35384700\n",
            "File: image_0161.jpg, OCR Result: 100,000 VND, Money: 100000, Total: 35484700\n",
            "File: image_0162.jpg, OCR Result: 50,000 VND, Money: 50000, Total: 35534700\n",
            "File: image_0160.jpg, OCR Result: 1,000,000 VND, Money: 1000000, Total: 36534700\n",
            "File: image_0157.jpg, OCR Result: 2.000.000d, Money: 2000000, Total: 38534700\n",
            "File: image_0163.jpg, OCR Result: 413,000 VND, Money: 413000, Total: 38947700\n",
            "File: image_0164.jpg, OCR Result: 150,000 VND, Money: 150000, Total: 39097700\n",
            "File: image_0165.jpg, OCR Result: 83,000 VND, Money: 83000, Total: 39180700\n",
            "File: image_0166.jpg, OCR Result: 200,000 VND, Money: 200000, Total: 39380700\n",
            "File: image_0167.jpg, OCR Result: 245,000 VND, Money: 245000, Total: 39625700\n",
            "File: image_0168.jpg, OCR Result: 115,000 VND, Money: 115000, Total: 39740700\n",
            "File: image_0169.jpg, OCR Result: 500,000 VND, Money: 500000, Total: 40240700\n",
            "File: image_0171.jpg, OCR Result: 220,000 VND, Money: 220000, Total: 40460700\n",
            "File: image_0172.jpg, OCR Result: 100,000 VND, Money: 100000, Total: 40560700\n",
            "File: image_0173.jpg, OCR Result: 80,000 VND, Money: 80000, Total: 40640700\n",
            "File: image_0170.jpg, OCR Result: 1.000.000đ, Money: 1000000, Total: 41640700\n",
            "File: image_0174.jpg, OCR Result: 100,000 VND, Money: 100000, Total: 41740700\n",
            "File: image_0175.jpg, OCR Result: 100,000 VND, Money: 100000, Total: 41840700\n",
            "File: image_0176.jpg, OCR Result: 215,000 VND, Money: 215000, Total: 42055700\n",
            "File: image_0177.jpg, OCR Result: 180,000 VND, Money: 180000, Total: 42235700\n",
            "File: image_0178.jpg, OCR Result: 100,000 VND, Money: 100000, Total: 42335700\n",
            "File: image_0179.jpg, OCR Result: 427,000 VND, Money: 427000, Total: 42762700\n",
            "File: image_0180.jpg, OCR Result: 198,000 VND, Money: 198000, Total: 42960700\n",
            "File: image_0181.jpg, OCR Result: 35,000 VND, Money: 35000, Total: 42995700\n",
            "File: image_0182.jpg, OCR Result: 78,000 VND, Money: 78000, Total: 43073700\n",
            "File: image_0183.jpg, OCR Result: 76,000 VND, Money: 76000, Total: 43149700\n",
            "File: image_0184.jpg, OCR Result: 540,000 VND, Money: 540000, Total: 43689700\n",
            "File: image_0185.jpg, OCR Result: 85,000 VND, Money: 85000, Total: 43774700\n",
            "File: image_0186.jpg, OCR Result: 351,000 VND, Money: 351000, Total: 44125700\n",
            "File: image_0187.jpg, OCR Result: 170,000 VND, Money: 170000, Total: 44295700\n",
            "File: image_0188.jpg, OCR Result: 50,000 VND, Money: 50000, Total: 44345700\n",
            "File: image_0189.jpg, OCR Result: 69,000 VND, Money: 69000, Total: 44414700\n",
            "File: image_0190.jpg, OCR Result: 280,000 VND, Money: 280000, Total: 44694700\n",
            "File: image_0191.jpg, OCR Result: 170,000 VND, Money: 170000, Total: 44864700\n",
            "File: image_0192.jpg, OCR Result: 216,000 VND, Money: 216000, Total: 45080700\n",
            "File: image_0194.jpg, OCR Result: 59,000 VND, Money: 59000, Total: 45139700\n",
            "File: image_0193.jpg, OCR Result: 581,000 VND, Money: 581000, Total: 45720700\n",
            "File: image_0196.jpg, OCR Result: 157,000 VND, Money: 157000, Total: 45877700\n",
            "File: image_0195.jpg, OCR Result: 6,510,000 VND, Money: 6510000, Total: 52387700\n",
            "File: image_0197.jpg, OCR Result: 113,000 VND, Money: 113000, Total: 52500700\n",
            "File: image_0198.jpg, OCR Result: 79,000 VND, Money: 79000, Total: 52579700\n",
            "File: image_0200.jpg, OCR Result: 170,000 VND, Money: 170000, Total: 52749700\n",
            "File: image_0199.jpg, OCR Result: 300,000 VND, Money: 300000, Total: 53049700\n",
            "File: image_0201.jpg, OCR Result: 796,000 VND, Money: 796000, Total: 53845700\n",
            "File: image_0203.jpg, OCR Result: 75,000 VND, Money: 75000, Total: 53920700\n",
            "File: image_0204.jpg, OCR Result: 131,000 VND, Money: 131000, Total: 54051700\n",
            "File: image_0205.jpg, OCR Result: 140,000 VND, Money: 140000, Total: 54191700\n",
            "File: image_0206.jpg, OCR Result: 238,000 VND, Money: 238000, Total: 54429700\n",
            "File: image_0202.jpg, OCR Result: 1.000.000đ, Money: 1000000, Total: 55429700\n",
            "File: image_0207.jpg, OCR Result: 69,000 VND, Money: 69000, Total: 55498700\n",
            "File: image_0208.jpg, OCR Result: 49,000 VND, Money: 49000, Total: 55547700\n",
            "File: image_0209.jpg, OCR Result: 139,000 VND, Money: 139000, Total: 55686700\n",
            "File: image_0211.jpg, OCR Result: 313,000 VND, Money: 313000, Total: 55999700\n",
            "File: image_0210.jpg, OCR Result: 125,000 VND, Money: 125000, Total: 56124700\n",
            "File: image_0212.jpg, OCR Result: 340,000 VND, Money: 340000, Total: 56464700\n",
            "File: image_0213.jpg, OCR Result: 180,000 VND, Money: 180000, Total: 56644700\n",
            "File: image_0214.jpg, OCR Result: 106,000 VND, Money: 106000, Total: 56750700\n",
            "File: image_0215.jpg, OCR Result: 536,000 VND, Money: 536000, Total: 57286700\n",
            "File: image_0217.jpg, OCR Result: 35,000 VND, Money: 35000, Total: 57321700\n",
            "File: image_0216.jpg, OCR Result: 85.000d, Money: 85000, Total: 57406700\n",
            "File: image_0219.jpg, OCR Result: 123,000 VND, Money: 123000, Total: 57529700\n",
            "File: image_0220.jpg, OCR Result: 187,000 VND, Money: 187000, Total: 57716700\n",
            "File: image_0218.jpg, OCR Result: 200.00Ođ, Money: 20000, Total: 57736700\n",
            "File: image_0221.jpg, OCR Result: 145,000 VND, Money: 145000, Total: 57881700\n",
            "File: image_0222.jpg, OCR Result: 50,000 VND, Money: 50000, Total: 57931700\n",
            "File: image_0224.jpg, OCR Result: 51,000 VND, Money: 51000, Total: 57982700\n",
            "File: image_0223.jpg, OCR Result: 520,000 VND, Money: 520000, Total: 58502700\n",
            "File: image_0225.jpg, OCR Result: 114,000 VND, Money: 114000, Total: 58616700\n",
            "File: image_02252.jpg, OCR Result: 115,000 VND, Money: 115000, Total: 58731700\n",
            "File: image_02254.jpg, OCR Result: 350,000 VND, Money: 350000, Total: 59081700\n",
            "File: image_02253.jpg, OCR Result: 123,000 VND, Money: 123000, Total: 59204700\n",
            "File: image_02255.jpg, OCR Result: 84,000 VND, Money: 84000, Total: 59288700\n",
            "File: image_02256.jpg, OCR Result: 55,000 VND, Money: 55000, Total: 59343700\n",
            "File: image_02257.jpg, OCR Result: 86,000 VND, Money: 86000, Total: 59429700\n",
            "File: image_02258.jpg, OCR Result: 50,000 VND, Money: 50000, Total: 59479700\n",
            "File: image_02259.jpg, OCR Result: 85,000 VND, Money: 85000, Total: 59564700\n",
            "File: image_0226.jpg, OCR Result: 300,000 VND, Money: 300000, Total: 59864700\n",
            "File: image_0227.jpg, OCR Result: 50,000 VND, Money: 50000, Total: 59914700\n",
            "File: image_0228.jpg, OCR Result: 30,000 VND, Money: 30000, Total: 59944700\n",
            "File: image_0229.jpg, OCR Result: 100,000 VND, Money: 100000, Total: 60044700\n",
            "File: image_0230.jpg, OCR Result: 55,000 VND, Money: 55000, Total: 60099700\n",
            "File: image_0231.jpg, OCR Result: 98,000 VND, Money: 98000, Total: 60197700\n",
            "File: image_0232.jpg, OCR Result: 165,000 VND, Money: 165000, Total: 60362700\n",
            "File: image_0235.jpg, OCR Result: 110,000 VND, Money: 110000, Total: 60472700\n",
            "File: image_0234.jpg, OCR Result: 113,000 VND, Money: 113000, Total: 60585700\n",
            "File: image_0233.jpg, OCR Result: 200.00Ođ, Money: 20000, Total: 60605700\n",
            "File: image_0237.jpg, OCR Result: 35,000 VND, Money: 35000, Total: 60640700\n",
            "File: image_0236.jpg, OCR Result: 287,000 VND, Money: 287000, Total: 60927700\n",
            "File: image_0238.jpg, OCR Result: 123,000 VND, Money: 123000, Total: 61050700\n",
            "File: image_0239.jpg, OCR Result: 100,000 VND, Money: 100000, Total: 61150700\n",
            "File: image_0240.jpg, OCR Result: 50,000 VND, Money: 50000, Total: 61200700\n",
            "File: image_0241.jpg, OCR Result: 132,000 VND, Money: 132000, Total: 61332700\n",
            "File: image_0242.jpg, OCR Result: 50,000 VND, Money: 50000, Total: 61382700\n",
            "File: image_0243.jpg, OCR Result: 68,000 VND, Money: 68000, Total: 61450700\n",
            "File: image_0244.jpg, OCR Result: 100,000 VND, Money: 100000, Total: 61550700\n",
            "File: image_0245.jpg, OCR Result: 181,000 VND, Money: 181000, Total: 61731700\n",
            "File: image_0246.jpg, OCR Result: 160,000 VND, Money: 160000, Total: 61891700\n",
            "File: image_0247.jpg, OCR Result: 123,000 VND, Money: 123000, Total: 62014700\n",
            "File: image_0248.jpg, OCR Result: 146,000 VND, Money: 146000, Total: 62160700\n",
            "File: image_0249.jpg, OCR Result: 6,300,000 VND, Money: 6300000, Total: 68460700\n",
            "File: image_0250.jpg, OCR Result: 100,000 VND, Money: 100000, Total: 68560700\n",
            "File: image_0252.jpg, OCR Result: 80,000 VND, Money: 80000, Total: 68640700\n",
            "File: image_0251.jpg, OCR Result: 220,000 VND, Money: 220000, Total: 68860700\n",
            "File: image_0253.jpg, OCR Result: 85,000 VND, Money: 85000, Total: 68945700\n",
            "File: image_0254.jpg, OCR Result: 20,000 VND, Money: 20000, Total: 68965700\n",
            "File: image_0255.jpg, OCR Result: 76,000 VND, Money: 76000, Total: 69041700\n",
            "File: image_0256.jpg, OCR Result: 170,000 VND, Money: 170000, Total: 69211700\n",
            "File: image_0258.jpg, OCR Result: 67,000 VND, Money: 67000, Total: 69278700\n",
            "File: image_0259.jpg, OCR Result: 176,000 VND, Money: 176000, Total: 69454700\n",
            "File: image_0260.jpg, OCR Result: 234,000 VND, Money: 234000, Total: 69688700\n",
            "File: image_0261.jpg, OCR Result: 197,000 VND, Money: 197000, Total: 69885700\n",
            "File: image_0257.jpg, OCR Result: 3.150.00Ođ, Money: 315000, Total: 70200700\n",
            "File: image_0262.jpg, OCR Result: 163,000 VND, Money: 163000, Total: 70363700\n",
            "File: image_0263.jpg, OCR Result: 170,000 VND, Money: 170000, Total: 70533700\n",
            "File: image_0264.jpg, OCR Result: 55,000 VND, Money: 55000, Total: 70588700\n",
            "File: image_0265.jpg, OCR Result: 100,000 VND, Money: 100000, Total: 70688700\n",
            "File: image_0266.jpg, OCR Result: 266,000 VND, Money: 266000, Total: 70954700\n",
            "File: image_0267.jpg, OCR Result: 225,000 VND, Money: 225000, Total: 71179700\n",
            "File: image_0268.jpg, OCR Result: 100,000 VND, Money: 100000, Total: 71279700\n",
            "File: image_0269.jpg, OCR Result: 150,000 VND, Money: 150000, Total: 71429700\n",
            "File: image_0270.jpg, OCR Result: 413,000 VND, Money: 413000, Total: 71842700\n",
            "File: image_0271.jpg, OCR Result: 105,000 VND, Money: 105000, Total: 71947700\n",
            "File: image_0274.jpg, OCR Result: 199,000 VND, Money: 199000, Total: 72146700\n",
            "File: image_0273.jpg, OCR Result: 314,000 VND, Money: 314000, Total: 72460700\n",
            "File: image_0276.jpg, OCR Result: 100,000 VND, Money: 100000, Total: 72560700\n",
            "File: image_0275.jpg, OCR Result: 84,000 VND, Money: 84000, Total: 72644700\n",
            "File: image_0272.jpg, OCR Result: 50.00Od, Money: 5000, Total: 72649700\n",
            "File: image_0277.jpg, OCR Result: 55,000 VND, Money: 55000, Total: 72704700\n",
            "File: image_0278.jpg, OCR Result: 22,000 VND, Money: 22000, Total: 72726700\n",
            "File: image_0279.jpg, OCR Result: 549,000 VND, Money: 549000, Total: 73275700\n",
            "File: image_0280.jpg, OCR Result: 130,000 VND, Money: 130000, Total: 73405700\n",
            "File: image_0281.jpg, OCR Result: 180,000 VND, Money: 180000, Total: 73585700\n",
            "Total Money: 73585700\n"
          ]
        }
      ],
      "source": [
        "def process_image(filename):\n",
        "    # Image path\n",
        "    image_path = os.path.join(image_crop_path, filename)\n",
        "    # OCR\n",
        "    ocr_result = reader.readtext(os.path.join(image_crop_path,filename))\n",
        "    # Remove texts if they're in \n",
        "    ocr_text = ocr_result[0][1]\n",
        "    ocr_text = re.sub(r'[^0-9]', '', ocr_text)\n",
        "    money = int(ocr_text)\n",
        "    return filename, money, ocr_result\n",
        "\n",
        "def process_images(image_crop_path):\n",
        "    sum = 0\n",
        "    history = []\n",
        "    with ThreadPoolExecutor() as executor:\n",
        "        tasks = [executor.submit(process_image, filename) for filename in sorted(os.listdir(image_crop_path)) if filename.endswith(\".jpg\") or filename.endswith(\".png\")]\n",
        "        for future in concurrent.futures.as_completed(tasks):\n",
        "            filename, money, ocr_result = future.result()\n",
        "            history.append(money)\n",
        "            sum += money\n",
        "            print(f\"File: {filename}, OCR Result: {ocr_result[0][1]}, Money: {money}, Total: {sum}\")\n",
        "    return sum, history\n",
        "\n",
        "total_money, total_history = process_images(image_crop_path)\n",
        "print(f\"Total Money: {total_money}\")"
      ]
    },
    {
      "cell_type": "markdown",
      "metadata": {
        "id": "V8CXgHIzO37v"
      },
      "source": [
        "## **MONEY FREQUENCY**"
      ]
    },
    {
      "cell_type": "code",
      "execution_count": null,
      "metadata": {
        "colab": {
          "base_uri": "https://localhost:8080/"
        },
        "id": "MNdn_fSBLnDT",
        "outputId": "d271c6b4-3b50-4e15-fc2b-b61bbf19fac2"
      },
      "outputs": [
        {
          "name": "stdout",
          "output_type": "stream",
          "text": [
            "5000: 2 lần\n",
            "8700: 1 lần\n",
            "10000: 2 lần\n",
            "15000: 1 lần\n",
            "17000: 1 lần\n",
            "20000: 5 lần\n",
            "22000: 2 lần\n",
            "30000: 2 lần\n",
            "34000: 2 lần\n",
            "35000: 3 lần\n",
            "39000: 2 lần\n",
            "43000: 1 lần\n",
            "49000: 1 lần\n",
            "50000: 9 lần\n",
            "51000: 1 lần\n",
            "53000: 1 lần\n",
            "55000: 5 lần\n",
            "59000: 1 lần\n",
            "60000: 2 lần\n",
            "65000: 1 lần\n",
            "67000: 1 lần\n",
            "68000: 1 lần\n",
            "69000: 2 lần\n",
            "70000: 2 lần\n",
            "75000: 3 lần\n",
            "76000: 2 lần\n",
            "77000: 1 lần\n",
            "78000: 1 lần\n",
            "79000: 2 lần\n",
            "80000: 6 lần\n",
            "81000: 2 lần\n",
            "83000: 2 lần\n",
            "84000: 2 lần\n",
            "85000: 5 lần\n",
            "86000: 1 lần\n",
            "87000: 1 lần\n",
            "90000: 1 lần\n",
            "91000: 1 lần\n",
            "98000: 1 lần\n",
            "99000: 2 lần\n",
            "100000: 47 lần\n",
            "102000: 1 lần\n",
            "105000: 2 lần\n",
            "106000: 1 lần\n",
            "107000: 1 lần\n",
            "110000: 1 lần\n",
            "111000: 1 lần\n",
            "113000: 2 lần\n",
            "114000: 1 lần\n",
            "115000: 2 lần\n",
            "118000: 1 lần\n",
            "123000: 6 lần\n",
            "125000: 3 lần\n",
            "130000: 3 lần\n",
            "131000: 1 lần\n",
            "132000: 1 lần\n",
            "135000: 2 lần\n",
            "139000: 1 lần\n",
            "140000: 1 lần\n",
            "144000: 1 lần\n",
            "145000: 2 lần\n",
            "146000: 1 lần\n",
            "150000: 5 lần\n",
            "156000: 1 lần\n",
            "157000: 1 lần\n",
            "158000: 2 lần\n",
            "160000: 1 lần\n",
            "163000: 1 lần\n",
            "165000: 1 lần\n",
            "170000: 8 lần\n",
            "172000: 1 lần\n",
            "175000: 1 lần\n",
            "176000: 1 lần\n",
            "177000: 1 lần\n",
            "178000: 1 lần\n",
            "180000: 4 lần\n",
            "181000: 1 lần\n",
            "184000: 1 lần\n",
            "185000: 1 lần\n",
            "186000: 1 lần\n",
            "187000: 1 lần\n",
            "190000: 1 lần\n",
            "193000: 1 lần\n",
            "197000: 1 lần\n",
            "198000: 1 lần\n",
            "199000: 1 lần\n",
            "200000: 10 lần\n",
            "203000: 1 lần\n",
            "204000: 1 lần\n",
            "209000: 1 lần\n",
            "210000: 2 lần\n",
            "215000: 1 lần\n",
            "216000: 2 lần\n",
            "220000: 3 lần\n",
            "225000: 1 lần\n",
            "234000: 1 lần\n",
            "235000: 1 lần\n",
            "238000: 2 lần\n",
            "245000: 1 lần\n",
            "250000: 1 lần\n",
            "255000: 2 lần\n",
            "262000: 2 lần\n",
            "266000: 1 lần\n",
            "270000: 1 lần\n",
            "273000: 1 lần\n",
            "280000: 1 lần\n",
            "287000: 1 lần\n",
            "290000: 1 lần\n",
            "292000: 1 lần\n",
            "299000: 1 lần\n",
            "300000: 3 lần\n",
            "305000: 1 lần\n",
            "313000: 1 lần\n",
            "314000: 1 lần\n",
            "315000: 1 lần\n",
            "332000: 1 lần\n",
            "340000: 1 lần\n",
            "342000: 1 lần\n",
            "350000: 1 lần\n",
            "351000: 1 lần\n",
            "354000: 1 lần\n",
            "376000: 1 lần\n",
            "383000: 1 lần\n",
            "400000: 1 lần\n",
            "405000: 1 lần\n",
            "413000: 2 lần\n",
            "427000: 1 lần\n",
            "500000: 2 lần\n",
            "520000: 1 lần\n",
            "531000: 1 lần\n",
            "536000: 1 lần\n",
            "540000: 1 lần\n",
            "549000: 1 lần\n",
            "550000: 1 lần\n",
            "581000: 1 lần\n",
            "796000: 1 lần\n",
            "830000: 2 lần\n",
            "1000000: 4 lần\n",
            "1082000: 1 lần\n",
            "2000000: 4 lần\n",
            "3500000: 1 lần\n",
            "6300000: 1 lần\n",
            "6510000: 1 lần\n",
            "Kết quả đã được lưu vào tệp /content/result.txt\n"
          ]
        }
      ],
      "source": [
        "count_dict = {}\n",
        "# Calculate frequency\n",
        "for value in total_history:\n",
        "  if value in count_dict:\n",
        "    count_dict[value] += 1\n",
        "  else:\n",
        "    count_dict[value] = 1\n",
        "\n",
        "# Sort by money value\n",
        "sorted_result = sorted(count_dict.items(), key=lambda x: x[0])\n",
        "\n",
        "# Print screen\n",
        "file_name = \"/content/result.txt\"\n",
        "for key, value in sorted_result:\n",
        "  print(f\"{key}: {value} lần\")\n",
        "  # Save in txt file\n",
        "  with open(file_name, 'w') as file:\n",
        "    for key, value in sorted_result:\n",
        "      file.write(f\"{key} VND appears {value} times\\n\")\n",
        "\n",
        "print(f\"Result has been saved in {file_name}\")"
      ]
    },
    {
      "cell_type": "code",
      "execution_count": null,
      "metadata": {
        "id": "FdY69CVYsaHF"
      },
      "outputs": [],
      "source": [
        "# shutil.rmtree(\"/content/runs\")"
      ]
    }
  ],
  "metadata": {
    "colab": {
      "provenance": []
    },
    "kernelspec": {
      "display_name": "Python 3",
      "name": "python3"
    },
    "language_info": {
      "name": "python"
    }
  },
  "nbformat": 4,
  "nbformat_minor": 0
}
